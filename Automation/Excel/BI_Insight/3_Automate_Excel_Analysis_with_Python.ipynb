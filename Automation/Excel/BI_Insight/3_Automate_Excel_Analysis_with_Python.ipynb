{
 "cells": [
  {
   "cell_type": "code",
   "execution_count": 1,
   "metadata": {},
   "outputs": [],
   "source": [
    "import pandas as pd\n",
    "import openpyxl\n",
    "from openpyxl import load_workbook\n",
    "from openpyxl.styles import Font\n",
    "from openpyxl.chart import BarChart, Reference\n",
    "import string\n",
    "from openpyxl.styles import numbers, Alignment, Border, Side\n",
    "from openpyxl.worksheet.dimensions import ColumnDimension, DimensionHolder\n",
    "from openpyxl.utils import get_column_letter"
   ]
  },
  {
   "cell_type": "code",
   "execution_count": 3,
   "metadata": {},
   "outputs": [],
   "source": [
    "df = pd.read_csv('AdvWorksData.csv', encoding=\"ISO-8859-1\")"
   ]
  },
  {
   "attachments": {},
   "cell_type": "markdown",
   "metadata": {},
   "source": [
    "### Create Pivot Table\n"
   ]
  },
  {
   "cell_type": "code",
   "execution_count": 4,
   "metadata": {},
   "outputs": [
    {
     "data": {
      "text/html": [
       "<div>\n",
       "<style scoped>\n",
       "    .dataframe tbody tr th:only-of-type {\n",
       "        vertical-align: middle;\n",
       "    }\n",
       "\n",
       "    .dataframe tbody tr th {\n",
       "        vertical-align: top;\n",
       "    }\n",
       "\n",
       "    .dataframe thead th {\n",
       "        text-align: right;\n",
       "    }\n",
       "</style>\n",
       "<table border=\"1\" class=\"dataframe\">\n",
       "  <thead>\n",
       "    <tr style=\"text-align: right;\">\n",
       "      <th>Country</th>\n",
       "      <th>Australia</th>\n",
       "      <th>Canada</th>\n",
       "      <th>France</th>\n",
       "      <th>Germany</th>\n",
       "      <th>United Kingdom</th>\n",
       "      <th>United States</th>\n",
       "    </tr>\n",
       "    <tr>\n",
       "      <th>productcategory</th>\n",
       "      <th></th>\n",
       "      <th></th>\n",
       "      <th></th>\n",
       "      <th></th>\n",
       "      <th></th>\n",
       "      <th></th>\n",
       "    </tr>\n",
       "  </thead>\n",
       "  <tbody>\n",
       "    <tr>\n",
       "      <th>Accessories</th>\n",
       "      <td>23948.0</td>\n",
       "      <td>118127.0</td>\n",
       "      <td>48032.0</td>\n",
       "      <td>35083.0</td>\n",
       "      <td>42593.0</td>\n",
       "      <td>303515.0</td>\n",
       "    </tr>\n",
       "    <tr>\n",
       "      <th>Bikes</th>\n",
       "      <td>1323821.0</td>\n",
       "      <td>11636381.0</td>\n",
       "      <td>3560666.0</td>\n",
       "      <td>1543016.0</td>\n",
       "      <td>3405747.0</td>\n",
       "      <td>44832752.0</td>\n",
       "    </tr>\n",
       "    <tr>\n",
       "      <th>Clothing</th>\n",
       "      <td>42916.0</td>\n",
       "      <td>378948.0</td>\n",
       "      <td>128092.0</td>\n",
       "      <td>71619.0</td>\n",
       "      <td>118829.0</td>\n",
       "      <td>1037437.0</td>\n",
       "    </tr>\n",
       "    <tr>\n",
       "      <th>Components</th>\n",
       "      <td>203651.0</td>\n",
       "      <td>2244470.0</td>\n",
       "      <td>870748.0</td>\n",
       "      <td>334270.0</td>\n",
       "      <td>711840.0</td>\n",
       "      <td>7434097.0</td>\n",
       "    </tr>\n",
       "  </tbody>\n",
       "</table>\n",
       "</div>"
      ],
      "text/plain": [
       "Country          Australia      Canada     France    Germany  United Kingdom  \\\n",
       "productcategory                                                                \n",
       "Accessories        23948.0    118127.0    48032.0    35083.0         42593.0   \n",
       "Bikes            1323821.0  11636381.0  3560666.0  1543016.0       3405747.0   \n",
       "Clothing           42916.0    378948.0   128092.0    71619.0        118829.0   \n",
       "Components        203651.0   2244470.0   870748.0   334270.0        711840.0   \n",
       "\n",
       "Country          United States  \n",
       "productcategory                 \n",
       "Accessories           303515.0  \n",
       "Bikes               44832752.0  \n",
       "Clothing             1037437.0  \n",
       "Components           7434097.0  "
      ]
     },
     "execution_count": 4,
     "metadata": {},
     "output_type": "execute_result"
    }
   ],
   "source": [
    "report_table = df.pivot_table(index='productcategory',\n",
    "                                      columns='Country',\n",
    "                                      values='Sales',\n",
    "                                      aggfunc='sum').round(0)\n",
    "report_table"
   ]
  },
  {
   "attachments": {},
   "cell_type": "markdown",
   "metadata": {},
   "source": [
    "#### Create visualization\n"
   ]
  },
  {
   "cell_type": "code",
   "execution_count": 5,
   "metadata": {},
   "outputs": [],
   "source": [
    "#Save the pivot table to workbook\n",
    "report_table.to_excel('output/Sales_Report1.xlsx',\n",
    "                      sheet_name='report',\n",
    "                      startrow=3)"
   ]
  },
  {
   "cell_type": "code",
   "execution_count": 6,
   "metadata": {},
   "outputs": [],
   "source": [
    "#Load the workbook\n",
    "wb = load_workbook('output/Sales_Report1.xlsx')\n",
    "ws = wb['report']\n",
    "#\n",
    "# cell references (from the spreadsheet) \n",
    "min_col = wb.active.min_column\n",
    "max_col = wb.active.max_column\n",
    "min_row = wb.active.min_row\n",
    "max_row = wb.active.max_row"
   ]
  },
  {
   "cell_type": "code",
   "execution_count": 7,
   "metadata": {},
   "outputs": [],
   "source": [
    "# barchart\n",
    "barchart = BarChart()\n",
    "barchart.height = 10 # default is 7.5\n",
    "barchart.width = 24 # default is 15\n",
    "#locate data and categories\n",
    "data = Reference(ws,\n",
    "                 min_col=min_col+1, #including col headers\n",
    "                 max_col=max_col,\n",
    "                 min_row=min_row,\n",
    "                 max_row=max_row) \n",
    "categories = Reference(ws,\n",
    "                       min_col=min_col,\n",
    "                       max_col=min_col,\n",
    "                       min_row=min_row+1, #exclude row headers\n",
    "                       max_row=max_row) \n",
    "# adding data and categories\n",
    "barchart.add_data(data, titles_from_data=True)\n",
    "barchart.set_categories(categories)\n",
    "# chart location\n",
    "ws.add_chart(barchart, \"A11\")\n",
    "barchart.title = 'Sales by Product line'"
   ]
  },
  {
   "cell_type": "code",
   "execution_count": 8,
   "metadata": {},
   "outputs": [],
   "source": [
    "# set the width of columns\n",
    "dim_holder = DimensionHolder(worksheet=ws)\n",
    "\n",
    "for col in range(ws.min_column, ws.max_column + 1):\n",
    "    dim_holder[get_column_letter(col)] = ColumnDimension(ws, min=col, max=col, width=20)\n",
    "\n",
    "ws.column_dimensions = dim_holder"
   ]
  },
  {
   "cell_type": "code",
   "execution_count": 9,
   "metadata": {},
   "outputs": [],
   "source": [
    "ws['A1'].value = 'Sales by Country'\n",
    "ws['A2'].value = 'BI Insights Inc'\n",
    "# Set title formatting\n",
    "work_sheet_a1 = ws['A1']\n",
    "work_sheet_a1.font = Font(size=23, underline='single', color='778899', bold=True) #italic=True\n",
    "ws.merge_cells(\"A1:G1\")\n",
    "# format numbers\n",
    "for r in range(5,10):\n",
    "    ws[f'B{r}'].number_format ='\"$\"#,##0_);(\"$\"#,##0)'\n",
    "    ws[f'C{r}'].number_format ='\"$\"#,##0_);(\"$\"#,##0)'\n",
    "    ws[f'D{r}'].number_format ='\"$\"#,##0_);(\"$\"#,##0)'\n",
    "    ws[f'E{r}'].number_format ='\"$\"#,##0_);(\"$\"#,##0)'\n",
    "    ws[f'F{r}'].number_format ='\"$\"#,##0_);(\"$\"#,##0)'\n",
    "    ws[f'G{r}'].number_format ='\"$\"#,##0_);(\"$\"#,##0)'"
   ]
  },
  {
   "cell_type": "code",
   "execution_count": 10,
   "metadata": {},
   "outputs": [
    {
     "name": "stdout",
     "output_type": "stream",
     "text": [
      "['A', 'B', 'C', 'D', 'E', 'F', 'G']\n"
     ]
    }
   ],
   "source": [
    "alphabet = list(string.ascii_uppercase)\n",
    "excl_col = alphabet[0:max_col]\n",
    "print(excl_col)"
   ]
  },
  {
   "cell_type": "code",
   "execution_count": 11,
   "metadata": {},
   "outputs": [],
   "source": [
    "# Style for the total row\n",
    "total_style = Font( bold =True)"
   ]
  },
  {
   "cell_type": "code",
   "execution_count": 12,
   "metadata": {},
   "outputs": [],
   "source": [
    "# Add totals to columns B-G\n",
    "thin = Side(border_style=\"thin\", color=\"000000\")\n",
    "for i in excl_col:\n",
    "    if i!='A':\n",
    "        ws[f'{i}{max_row+1}'] = f'=SUM({i}{min_row+1}:{i}{max_row})'\n",
    "        ws[f'{i}{max_row+1}'].number_format ='\"$\"#,##0_);(\"$\"#,##0)'\n",
    "        ws[f'{i}{max_row+1}'].font = total_style\n",
    "# adding label\n",
    "ws[f'{excl_col[0]}{max_row+1}'] = 'Total'\n",
    "ws[f'A{max_row+1}'].font = Font(size=11, bold=True) #italic=True\n",
    "ws[f'A{max_row+1}'].alignment = Alignment(horizontal='center')\n",
    "ws[f'A{max_row+1}'].border = Border(top=thin, left=thin, right=thin, bottom=thin)"
   ]
  },
  {
   "cell_type": "code",
   "execution_count": 13,
   "metadata": {},
   "outputs": [],
   "source": [
    "wb.save('output/Sales_Report1.xlsx')"
   ]
  },
  {
   "attachments": {},
   "cell_type": "markdown",
   "metadata": {},
   "source": [
    "### Convert the code to a funciton\n"
   ]
  },
  {
   "cell_type": "code",
   "execution_count": 19,
   "metadata": {},
   "outputs": [],
   "source": [
    "def automate_report(file_name):\n",
    "    df = pd.read_csv(file_name, encoding=\"ISO-8859-1\")\n",
    "    df = df[['productcategory', 'Country', 'Sales']]\n",
    "    report_table = df.pivot_table(index='productcategory',\n",
    "                                      columns='Country',\n",
    "                                      values='Sales',\n",
    "                                      aggfunc='sum').round(0)\n",
    "    #\n",
    "    report_table.to_excel('output/Sales_Report.xlsx',sheet_name='report', startrow=3)\n",
    "    #\n",
    "    wb = load_workbook('output/Sales_Report.xlsx')\n",
    "    ws = wb['report']\n",
    "    # cell references (original spreadsheet) \n",
    "    min_col = wb.active.min_column\n",
    "    max_col = wb.active.max_column\n",
    "    min_row = wb.active.min_row\n",
    "    max_row = wb.active.max_row\n",
    "    # barchart\n",
    "    barchart = BarChart()\n",
    "    barchart.height = 10 # default is 7.5\n",
    "    barchart.width = 24 # default is 15\n",
    "    #locate data and categories\n",
    "    data = Reference(ws, min_col=min_col+1, max_col=max_col, min_row=min_row, max_row=max_row) #including headers\n",
    "    categories = Reference(ws, min_col=min_col, max_col=min_col, min_row=min_row+1, max_row=max_row) #exclude headers\n",
    "    # adding data and categories\n",
    "    barchart.add_data(data, titles_from_data=True)\n",
    "    barchart.set_categories(categories)\n",
    "    # chart location\n",
    "    ws.add_chart(barchart, \"A11\")\n",
    "    barchart.title = 'Sales by Product line'\n",
    "    # Set column width\n",
    "    dim_holder = DimensionHolder(worksheet=ws)\n",
    "    for col in range(ws.min_column, ws.max_column + 1):\n",
    "        dim_holder[get_column_letter(col)] = ColumnDimension(ws, min=col, max=col, width=20)\n",
    "    #\n",
    "    ws.column_dimensions = dim_holder\n",
    "    # Set report title & subltitle\n",
    "    ws['A1'].value = 'Sales by Country'\n",
    "    ws['A2'].value = 'BI Insights Inc'\n",
    "    work_sheet_a1 = ws['A1']\n",
    "    work_sheet_a1.font = Font(size=23, underline='single', color='778899', bold=True) #italic=True\n",
    "    ws.merge_cells(\"A1:G1\")\n",
    "    # Set number formatting\n",
    "    for r in range(5,10):\n",
    "        ws[f'B{r}'].number_format ='\"$\"#,##0_);(\"$\"#,##0)'\n",
    "        ws[f'C{r}'].number_format ='\"$\"#,##0_);(\"$\"#,##0)'\n",
    "        ws[f'D{r}'].number_format ='\"$\"#,##0_);(\"$\"#,##0)'\n",
    "        ws[f'E{r}'].number_format ='\"$\"#,##0_);(\"$\"#,##0)'\n",
    "        ws[f'F{r}'].number_format ='\"$\"#,##0_);(\"$\"#,##0)'\n",
    "        ws[f'G{r}'].number_format ='\"$\"#,##0_);(\"$\"#,##0)'\n",
    "    # Get Excel Cols\n",
    "    alphabet = list(string.ascii_uppercase)\n",
    "    excl_col = alphabet[0:max_column]\n",
    "    # Add totals to columns B-G\n",
    "    thin = Side(border_style=\"thin\", color=\"000000\")\n",
    "    for i in excl_col:\n",
    "        if i!='A':\n",
    "            ws[f'{i}{max_row+1}'] = f'=SUM({i}{min_row+1}:{i}{max_row})'\n",
    "            ws[f'{i}{max_row+1}'].number_format ='\"$\"#,##0_);(\"$\"#,##0)'\n",
    "            #ws[f'{i}{max_row+1}'].border = Border(top=thin, left=thin, right=thin, bottom=thin)\n",
    "    # adding label\n",
    "    ws[f'{excl_col[0]}{max_row+1}'] = 'Total'\n",
    "    ws[f'A{max_row+1}'].font = Font(size=11, bold=True) #italic=True\n",
    "    ws[f'A{max_row+1}'].alignment = Alignment(horizontal='center')\n",
    "    ws[f'A{max_row+1}'].border = Border(top=thin, left=thin, right=thin, bottom=thin)\n",
    "    # save the file\n",
    "    wb.save('output/Sales_Report.xlsx')"
   ]
  },
  {
   "cell_type": "code",
   "execution_count": 20,
   "metadata": {},
   "outputs": [
    {
     "ename": "NameError",
     "evalue": "name 'max_column' is not defined",
     "output_type": "error",
     "traceback": [
      "\u001b[1;31m---------------------------------------------------------------------------\u001b[0m",
      "\u001b[1;31mNameError\u001b[0m                                 Traceback (most recent call last)",
      "\u001b[1;32m~\\AppData\\Local\\Temp\\ipykernel_17852\\2784377035.py\u001b[0m in \u001b[0;36m<module>\u001b[1;34m\u001b[0m\n\u001b[1;32m----> 1\u001b[1;33m \u001b[0mautomate_report\u001b[0m\u001b[1;33m(\u001b[0m\u001b[1;34m'AdvWorksData.csv'\u001b[0m\u001b[1;33m)\u001b[0m\u001b[1;33m\u001b[0m\u001b[1;33m\u001b[0m\u001b[0m\n\u001b[0m",
      "\u001b[1;32m~\\AppData\\Local\\Temp\\ipykernel_17852\\3827081389.py\u001b[0m in \u001b[0;36mautomate_report\u001b[1;34m(file_name)\u001b[0m\n\u001b[0;32m     51\u001b[0m     \u001b[1;31m# Get Excel Cols\u001b[0m\u001b[1;33m\u001b[0m\u001b[1;33m\u001b[0m\u001b[0m\n\u001b[0;32m     52\u001b[0m     \u001b[0malphabet\u001b[0m \u001b[1;33m=\u001b[0m \u001b[0mlist\u001b[0m\u001b[1;33m(\u001b[0m\u001b[0mstring\u001b[0m\u001b[1;33m.\u001b[0m\u001b[0mascii_uppercase\u001b[0m\u001b[1;33m)\u001b[0m\u001b[1;33m\u001b[0m\u001b[1;33m\u001b[0m\u001b[0m\n\u001b[1;32m---> 53\u001b[1;33m     \u001b[0mexcl_col\u001b[0m \u001b[1;33m=\u001b[0m \u001b[0malphabet\u001b[0m\u001b[1;33m[\u001b[0m\u001b[1;36m0\u001b[0m\u001b[1;33m:\u001b[0m\u001b[0mmax_column\u001b[0m\u001b[1;33m]\u001b[0m\u001b[1;33m\u001b[0m\u001b[1;33m\u001b[0m\u001b[0m\n\u001b[0m\u001b[0;32m     54\u001b[0m     \u001b[1;31m# Add totals to columns B-G\u001b[0m\u001b[1;33m\u001b[0m\u001b[1;33m\u001b[0m\u001b[0m\n\u001b[0;32m     55\u001b[0m     \u001b[0mthin\u001b[0m \u001b[1;33m=\u001b[0m \u001b[0mSide\u001b[0m\u001b[1;33m(\u001b[0m\u001b[0mborder_style\u001b[0m\u001b[1;33m=\u001b[0m\u001b[1;34m\"thin\"\u001b[0m\u001b[1;33m,\u001b[0m \u001b[0mcolor\u001b[0m\u001b[1;33m=\u001b[0m\u001b[1;34m\"000000\"\u001b[0m\u001b[1;33m)\u001b[0m\u001b[1;33m\u001b[0m\u001b[1;33m\u001b[0m\u001b[0m\n",
      "\u001b[1;31mNameError\u001b[0m: name 'max_column' is not defined"
     ]
    }
   ],
   "source": [
    "automate_report('AdvWorksData.csv')"
   ]
  },
  {
   "cell_type": "code",
   "execution_count": null,
   "metadata": {},
   "outputs": [],
   "source": []
  }
 ],
 "metadata": {
  "kernelspec": {
   "display_name": "base",
   "language": "python",
   "name": "python3"
  },
  "language_info": {
   "codemirror_mode": {
    "name": "ipython",
    "version": 3
   },
   "file_extension": ".py",
   "mimetype": "text/x-python",
   "name": "python",
   "nbconvert_exporter": "python",
   "pygments_lexer": "ipython3",
   "version": "3.9.13"
  },
  "orig_nbformat": 4
 },
 "nbformat": 4,
 "nbformat_minor": 2
}
