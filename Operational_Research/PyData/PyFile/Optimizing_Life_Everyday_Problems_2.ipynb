{
 "cells": [
  {
   "cell_type": "markdown",
   "metadata": {},
   "source": [
    "## Linear Programming In Python: Deciding Where to Go on Vacations\n",
    "\n",
    "- **Problem Foundation**: You want to go vacation, but you have only limited number of days. On top of it, we also want keep the cost at minimum. And the internet offers plenty of options how to decide. So which packages/mix of packages should we select?\n",
    "\n",
    "    - Objective: Minimize Cost of Vacation while selecting Optimal Vacation Package\n",
    "    - LP Form: Minimization\n",
    "    - Decision Variables: Binary Variables whether to purchase the package or not.\n",
    "    - Constrains: Limited Number of Vacation\n"
   ]
  },
  {
   "cell_type": "code",
   "execution_count": 1,
   "metadata": {},
   "outputs": [],
   "source": [
    "import pulp \n",
    "import numpy as np \n",
    "import pandas as pd \n",
    "import re \n",
    "import matplotlib.pyplot as plt \n",
    "%matplotlib inline"
   ]
  },
  {
   "cell_type": "code",
   "execution_count": 2,
   "metadata": {},
   "outputs": [
    {
     "data": {
      "text/html": [
       "<div>\n",
       "<style scoped>\n",
       "    .dataframe tbody tr th:only-of-type {\n",
       "        vertical-align: middle;\n",
       "    }\n",
       "\n",
       "    .dataframe tbody tr th {\n",
       "        vertical-align: top;\n",
       "    }\n",
       "\n",
       "    .dataframe thead th {\n",
       "        text-align: right;\n",
       "    }\n",
       "</style>\n",
       "<table border=\"1\" class=\"dataframe\">\n",
       "  <thead>\n",
       "    <tr style=\"text-align: right;\">\n",
       "      <th></th>\n",
       "      <th>destination</th>\n",
       "      <th>duration</th>\n",
       "      <th>cost</th>\n",
       "      <th>description</th>\n",
       "    </tr>\n",
       "  </thead>\n",
       "  <tbody>\n",
       "    <tr>\n",
       "      <th>0</th>\n",
       "      <td>Baja</td>\n",
       "      <td>7</td>\n",
       "      <td>899</td>\n",
       "      <td>Hike Bike and Sea Kayak and more on a Remote P...</td>\n",
       "    </tr>\n",
       "    <tr>\n",
       "      <th>1</th>\n",
       "      <td>Nepal</td>\n",
       "      <td>11</td>\n",
       "      <td>899</td>\n",
       "      <td>Explore the land and culture of the Himalayas....</td>\n",
       "    </tr>\n",
       "    <tr>\n",
       "      <th>2</th>\n",
       "      <td>Spain</td>\n",
       "      <td>8</td>\n",
       "      <td>568</td>\n",
       "      <td>Sport climb &amp; deep water solo in Mallorca. Dis...</td>\n",
       "    </tr>\n",
       "    <tr>\n",
       "      <th>3</th>\n",
       "      <td>Yosemite</td>\n",
       "      <td>5</td>\n",
       "      <td>750</td>\n",
       "      <td>Guided hiking through stunning high country. E...</td>\n",
       "    </tr>\n",
       "    <tr>\n",
       "      <th>4</th>\n",
       "      <td>Utah</td>\n",
       "      <td>6</td>\n",
       "      <td>1356</td>\n",
       "      <td>Hike. Canyoneer. Rock Climb. and more!. Experi...</td>\n",
       "    </tr>\n",
       "  </tbody>\n",
       "</table>\n",
       "</div>"
      ],
      "text/plain": [
       "  destination  duration  cost  \\\n",
       "0        Baja         7   899   \n",
       "1       Nepal        11   899   \n",
       "2       Spain         8   568   \n",
       "3    Yosemite         5   750   \n",
       "4        Utah         6  1356   \n",
       "\n",
       "                                         description  \n",
       "0  Hike Bike and Sea Kayak and more on a Remote P...  \n",
       "1  Explore the land and culture of the Himalayas....  \n",
       "2  Sport climb & deep water solo in Mallorca. Dis...  \n",
       "3  Guided hiking through stunning high country. E...  \n",
       "4  Hike. Canyoneer. Rock Climb. and more!. Experi...  "
      ]
     },
     "execution_count": 2,
     "metadata": {},
     "output_type": "execute_result"
    }
   ],
   "source": [
    "data = pd.read_csv(\"../rawdata/clymb_adventures_2.csv\")\n",
    "data.head()"
   ]
  },
  {
   "cell_type": "code",
   "execution_count": 3,
   "metadata": {},
   "outputs": [
    {
     "data": {
      "image/png": "[encoded data removed]",
      "text/plain": [
       "<Figure size 640x480 with 2 Axes>"
      ]
     },
     "metadata": {},
     "output_type": "display_data"
    }
   ],
   "source": [
    "fig, axes = plt.subplots(1, 2)\n",
    "\n",
    "my_plot = data[[\"destination\", \"cost\"]].plot(kind=\"bar\", title=\"Destination by Cost\", ax = axes[0])\n",
    "my_plot = data[[\"destination\", \"duration\"]].plot(kind=\"bar\", title=\"Destination by Duration\", ax = axes[1])"
   ]
  },
  {
   "cell_type": "markdown",
   "metadata": {},
   "source": [
    "#### Setting LP Problems\n",
    "\n",
    "- Define the LP Object\n",
    "\n",
    "- The `prob` variable is created to contain the formulation, and the usual parameters are passed into LpProblem.\n"
   ]
  },
  {
   "cell_type": "code",
   "execution_count": 4,
   "metadata": {},
   "outputs": [],
   "source": [
    "# Create the LP object, set up as a minimization problem\n",
    "prob = pulp.LpProblem('GoingOnVacation', pulp.LpMinimize)"
   ]
  },
  {
   "cell_type": "code",
   "execution_count": 5,
   "metadata": {},
   "outputs": [
    {
     "name": "stdout",
     "output_type": "stream",
     "text": [
      "Total Number of decision_variables 42\n",
      "Array with Decision Variables [x0, x1, x2, x3, x4, x5, x6, x7, x8, x9, x10, x11, x12, x13, x14, x15, x16, x17, x18, x19, x20, x21, x22, x23, x24, x25, x26, x27, x28, x29, x30, x31, x32, x33, x34, x35, x36, x37, x38, x39, x40, x41]\n"
     ]
    }
   ],
   "source": [
    "# Create Decision Variables\n",
    "decision_variables = []\n",
    "for rownum, row in data.iterrows():\n",
    "    variable = str(\"x\" + str(rownum))\n",
    "    variable = pulp.LpVariable(str(variable), lowBound=0, upBound=1, cat=\"Integer\")\n",
    "    decision_variables.append(variable)\n",
    "    \n",
    "print(\"Total Number of decision_variables\", len(decision_variables)) \n",
    "print(\"Array with Decision Variables\", decision_variables) \n",
    "   "
   ]
  },
  {
   "cell_type": "markdown",
   "metadata": {},
   "source": [
    "### Define Objective Function: (Minimizing the Cost of the Trip)\n",
    "\n",
    "- The variable prob now begins collecting problem data with the `+=` operator.\n",
    "\n",
    "- The objective function is locally entered first, with an important comma `,` at the end of the statement and a short string explaining what this objective function is:"
   ]
  },
  {
   "cell_type": "code",
   "execution_count": 6,
   "metadata": {},
   "outputs": [
    {
     "name": "stdout",
     "output_type": "stream",
     "text": [
      "Optimization Function: 899*x0 + 899*x1 + 399*x10 + 385*x11 + 439*x12 + 339*x13 + 399*x14 + 265*x15 + 849*x16 + 1799*x17 + 1799*x18 + 1499*x19 + 568*x2 + 3175*x20 + 599*x21 + 1450*x22 + 399*x23 + 1199*x24 + 2799*x25 + 2675*x26 + 1699*x27 + 599*x28 + 1798*x29 + 750*x3 + 1799*x30 + 1199*x31 + 999*x32 + 1375*x33 + 1199*x34 + 299*x35 + 2898*x36 + 499*x37 + 1499*x38 + 450*x39 + 1356*x4 + 198*x40 + 375*x41 + 680*x5 + 559*x6 + 899*x7 + 1799*x8 + 1625*x9\n"
     ]
    }
   ],
   "source": [
    "total_cost = \"\"\n",
    "\n",
    "for rownum, row in data.iterrows():\n",
    "    for i, schedule in enumerate(decision_variables):\n",
    "        if rownum == i:\n",
    "            formula = row['cost'] * schedule\n",
    "            total_cost += formula \n",
    "            \n",
    "prob += total_cost \n",
    "print(\"Optimization Function:\", total_cost)"
   ]
  },
  {
   "cell_type": "markdown",
   "metadata": {},
   "source": [
    "#### Define Constrains"
   ]
  },
  {
   "cell_type": "code",
   "execution_count": 7,
   "metadata": {},
   "outputs": [],
   "source": [
    "aval_vacation_days = 10\n",
    "total_vacation_days = \"\"\n",
    "\n",
    "for rownum, row in data.iterrows():\n",
    "    for i, schedule in enumerate(decision_variables):\n",
    "        if rownum == i:\n",
    "            formula = row['duration'] * schedule\n",
    "            total_vacation_days += formula\n",
    "            \n",
    "prob += (total_vacation_days == aval_vacation_days)"
   ]
  },
  {
   "cell_type": "code",
   "execution_count": 8,
   "metadata": {},
   "outputs": [
    {
     "name": "stdout",
     "output_type": "stream",
     "text": [
      "GoingOnVacation:\n",
      "MINIMIZE\n",
      "899*x0 + 899*x1 + 399*x10 + 385*x11 + 439*x12 + 339*x13 + 399*x14 + 265*x15 + 849*x16 + 1799*x17 + 1799*x18 + 1499*x19 + 568*x2 + 3175*x20 + 599*x21 + 1450*x22 + 399*x23 + 1199*x24 + 2799*x25 + 2675*x26 + 1699*x27 + 599*x28 + 1798*x29 + 750*x3 + 1799*x30 + 1199*x31 + 999*x32 + 1375*x33 + 1199*x34 + 299*x35 + 2898*x36 + 499*x37 + 1499*x38 + 450*x39 + 1356*x4 + 198*x40 + 375*x41 + 680*x5 + 559*x6 + 899*x7 + 1799*x8 + 1625*x9 + 0\n",
      "SUBJECT TO\n",
      "_C1: 7 x0 + 11 x1 + 2 x10 + 2 x11 + 3 x12 + 2 x13 + 3 x14 + 4 x15 + 7 x16\n",
      " + 8 x17 + 10 x18 + 7 x19 + 8 x2 + 13 x20 + 3 x21 + 5 x22 + 2 x23 + 5 x24\n",
      " + 9 x25 + 14 x26 + 8 x27 + 4 x28 + 6 x29 + 5 x3 + 8 x30 + 11 x31 + 8 x32\n",
      " + 8 x33 + 13 x34 + 4 x35 + 6 x36 + 3 x37 + 5 x38 + 4 x39 + 6 x4 + 2 x40\n",
      " + 2 x41 + 4 x5 + 4 x6 + 6 x7 + 10 x8 + 7 x9 = 10\n",
      "\n",
      "VARIABLES\n",
      "0 <= x0 <= 1 Integer\n",
      "0 <= x1 <= 1 Integer\n",
      "0 <= x10 <= 1 Integer\n",
      "0 <= x11 <= 1 Integer\n",
      "0 <= x12 <= 1 Integer\n",
      "0 <= x13 <= 1 Integer\n",
      "0 <= x14 <= 1 Integer\n",
      "0 <= x15 <= 1 Integer\n",
      "0 <= x16 <= 1 Integer\n",
      "0 <= x17 <= 1 Integer\n",
      "0 <= x18 <= 1 Integer\n",
      "0 <= x19 <= 1 Integer\n",
      "0 <= x2 <= 1 Integer\n",
      "0 <= x20 <= 1 Integer\n",
      "0 <= x21 <= 1 Integer\n",
      "0 <= x22 <= 1 Integer\n",
      "0 <= x23 <= 1 Integer\n",
      "0 <= x24 <= 1 Integer\n",
      "0 <= x25 <= 1 Integer\n",
      "0 <= x26 <= 1 Integer\n",
      "0 <= x27 <= 1 Integer\n",
      "0 <= x28 <= 1 Integer\n",
      "0 <= x29 <= 1 Integer\n",
      "0 <= x3 <= 1 Integer\n",
      "0 <= x30 <= 1 Integer\n",
      "0 <= x31 <= 1 Integer\n",
      "0 <= x32 <= 1 Integer\n",
      "0 <= x33 <= 1 Integer\n",
      "0 <= x34 <= 1 Integer\n",
      "0 <= x35 <= 1 Integer\n",
      "0 <= x36 <= 1 Integer\n",
      "0 <= x37 <= 1 Integer\n",
      "0 <= x38 <= 1 Integer\n",
      "0 <= x39 <= 1 Integer\n",
      "0 <= x4 <= 1 Integer\n",
      "0 <= x40 <= 1 Integer\n",
      "0 <= x41 <= 1 Integer\n",
      "0 <= x5 <= 1 Integer\n",
      "0 <= x6 <= 1 Integer\n",
      "0 <= x7 <= 1 Integer\n",
      "0 <= x8 <= 1 Integer\n",
      "0 <= x9 <= 1 Integer\n",
      "\n"
     ]
    },
    {
     "data": {
      "text/plain": [
       "[x0,\n",
       " x1,\n",
       " x10,\n",
       " x11,\n",
       " x12,\n",
       " x13,\n",
       " x14,\n",
       " x15,\n",
       " x16,\n",
       " x17,\n",
       " x18,\n",
       " x19,\n",
       " x2,\n",
       " x20,\n",
       " x21,\n",
       " x22,\n",
       " x23,\n",
       " x24,\n",
       " x25,\n",
       " x26,\n",
       " x27,\n",
       " x28,\n",
       " x29,\n",
       " x3,\n",
       " x30,\n",
       " x31,\n",
       " x32,\n",
       " x33,\n",
       " x34,\n",
       " x35,\n",
       " x36,\n",
       " x37,\n",
       " x38,\n",
       " x39,\n",
       " x4,\n",
       " x40,\n",
       " x41,\n",
       " x5,\n",
       " x6,\n",
       " x7,\n",
       " x8,\n",
       " x9]"
      ]
     },
     "execution_count": 8,
     "metadata": {},
     "output_type": "execute_result"
    }
   ],
   "source": [
    "print(prob)\n",
    "prob.writeLP(\"GoingOnVacation.lp\")"
   ]
  },
  {
   "cell_type": "code",
   "execution_count": 9,
   "metadata": {},
   "outputs": [
    {
     "name": "stdout",
     "output_type": "stream",
     "text": [
      "Status Optimal\n",
      "Optimal Solution to the problem:  762.0\n",
      "Individual decision_variables:\n",
      "x0 = 0.0\n",
      "x1 = 0.0\n",
      "x10 = 0.0\n",
      "x11 = 0.0\n",
      "x12 = 0.0\n",
      "x13 = 0.0\n",
      "x14 = 0.0\n",
      "x15 = 1.0\n",
      "x16 = 0.0\n",
      "x17 = 0.0\n",
      "x18 = 0.0\n",
      "x19 = 0.0\n",
      "x2 = 0.0\n",
      "x20 = 0.0\n",
      "x21 = 0.0\n",
      "x22 = 0.0\n",
      "x23 = 0.0\n",
      "x24 = 0.0\n",
      "x25 = 0.0\n",
      "x26 = 0.0\n",
      "x27 = 0.0\n",
      "x28 = 0.0\n",
      "x29 = 0.0\n",
      "x3 = 0.0\n",
      "x30 = 0.0\n",
      "x31 = 0.0\n",
      "x32 = 0.0\n",
      "x33 = 0.0\n",
      "x34 = 0.0\n",
      "x35 = 1.0\n",
      "x36 = 0.0\n",
      "x37 = 0.0\n",
      "x38 = 0.0\n",
      "x39 = 0.0\n",
      "x4 = 0.0\n",
      "x40 = 1.0\n",
      "x41 = 0.0\n",
      "x5 = 0.0\n",
      "x6 = 0.0\n",
      "x7 = 0.0\n",
      "x8 = 0.0\n",
      "x9 = 0.0\n"
     ]
    }
   ],
   "source": [
    "# The Actual Optimization\n",
    "optimization_result = prob.solve()\n",
    "\n",
    "assert optimization_result == pulp.LpStatusOptimal\n",
    "print(\"Status\", pulp.LpStatus[prob.status])\n",
    "print(\"Optimal Solution to the problem: \", pulp.value(prob.objective))\n",
    "print(\"Individual decision_variables:\")\n",
    "for v in prob.variables():\n",
    "    print(v.name, '=', v.varValue)"
   ]
  },
  {
   "cell_type": "code",
   "execution_count": 12,
   "metadata": {},
   "outputs": [
    {
     "data": {
      "text/html": [
       "<div>\n",
       "<style scoped>\n",
       "    .dataframe tbody tr th:only-of-type {\n",
       "        vertical-align: middle;\n",
       "    }\n",
       "\n",
       "    .dataframe tbody tr th {\n",
       "        vertical-align: top;\n",
       "    }\n",
       "\n",
       "    .dataframe thead th {\n",
       "        text-align: right;\n",
       "    }\n",
       "</style>\n",
       "<table border=\"1\" class=\"dataframe\">\n",
       "  <thead>\n",
       "    <tr style=\"text-align: right;\">\n",
       "      <th></th>\n",
       "      <th>destination</th>\n",
       "      <th>duration</th>\n",
       "      <th>cost</th>\n",
       "      <th>description</th>\n",
       "      <th>decision</th>\n",
       "    </tr>\n",
       "  </thead>\n",
       "  <tbody>\n",
       "    <tr>\n",
       "      <th>0</th>\n",
       "      <td>Baja</td>\n",
       "      <td>7</td>\n",
       "      <td>899</td>\n",
       "      <td>Hike Bike and Sea Kayak and more on a Remote P...</td>\n",
       "      <td>0.0</td>\n",
       "    </tr>\n",
       "    <tr>\n",
       "      <th>1</th>\n",
       "      <td>Nepal</td>\n",
       "      <td>11</td>\n",
       "      <td>899</td>\n",
       "      <td>Explore the land and culture of the Himalayas....</td>\n",
       "      <td>0.0</td>\n",
       "    </tr>\n",
       "    <tr>\n",
       "      <th>2</th>\n",
       "      <td>Spain</td>\n",
       "      <td>8</td>\n",
       "      <td>568</td>\n",
       "      <td>Sport climb &amp; deep water solo in Mallorca. Dis...</td>\n",
       "      <td>0.0</td>\n",
       "    </tr>\n",
       "    <tr>\n",
       "      <th>3</th>\n",
       "      <td>Yosemite</td>\n",
       "      <td>5</td>\n",
       "      <td>750</td>\n",
       "      <td>Guided hiking through stunning high country. E...</td>\n",
       "      <td>0.0</td>\n",
       "    </tr>\n",
       "    <tr>\n",
       "      <th>4</th>\n",
       "      <td>Utah</td>\n",
       "      <td>6</td>\n",
       "      <td>1356</td>\n",
       "      <td>Hike. Canyoneer. Rock Climb. and more!. Experi...</td>\n",
       "      <td>0.0</td>\n",
       "    </tr>\n",
       "  </tbody>\n",
       "</table>\n",
       "</div>"
      ],
      "text/plain": [
       "  destination  duration  cost  \\\n",
       "0        Baja         7   899   \n",
       "1       Nepal        11   899   \n",
       "2       Spain         8   568   \n",
       "3    Yosemite         5   750   \n",
       "4        Utah         6  1356   \n",
       "\n",
       "                                         description  decision  \n",
       "0  Hike Bike and Sea Kayak and more on a Remote P...       0.0  \n",
       "1  Explore the land and culture of the Himalayas....       0.0  \n",
       "2  Sport climb & deep water solo in Mallorca. Dis...       0.0  \n",
       "3  Guided hiking through stunning high country. E...       0.0  \n",
       "4  Hike. Canyoneer. Rock Climb. and more!. Experi...       0.0  "
      ]
     },
     "execution_count": 12,
     "metadata": {},
     "output_type": "execute_result"
    }
   ],
   "source": [
    "variable_name = []\n",
    "variable_value = [] \n",
    "\n",
    "for v in prob.variables():\n",
    "    variable_name.append(v.name)\n",
    "    variable_value.append(v.varValue)\n",
    "    \n",
    "df = pd.DataFrame({\"Variable\": variable_name, \"Value\" : variable_value})\n",
    "\n",
    "\n",
    "for rownum, row in df.iterrows():\n",
    "    value = re.findall(r\"(\\d+)\", row['Variable'])    \n",
    "    df.loc[rownum, 'Variable'] = int(value[0])\n",
    "\n",
    "df = df.sort_index()\n",
    "\n",
    "# append results\n",
    "for rownum, row in data.iterrows():\n",
    "    for results_rownum, results_row in df.iterrows():\n",
    "        if rownum == results_row['Variable']:\n",
    "            data.loc[rownum, 'decision'] = results_row['Value']\n",
    "data.head()            \n",
    "        "
   ]
  },
  {
   "cell_type": "code",
   "execution_count": 13,
   "metadata": {},
   "outputs": [
    {
     "data": {
      "text/html": [
       "<div>\n",
       "<style scoped>\n",
       "    .dataframe tbody tr th:only-of-type {\n",
       "        vertical-align: middle;\n",
       "    }\n",
       "\n",
       "    .dataframe tbody tr th {\n",
       "        vertical-align: top;\n",
       "    }\n",
       "\n",
       "    .dataframe thead th {\n",
       "        text-align: right;\n",
       "    }\n",
       "</style>\n",
       "<table border=\"1\" class=\"dataframe\">\n",
       "  <thead>\n",
       "    <tr style=\"text-align: right;\">\n",
       "      <th></th>\n",
       "      <th>destination</th>\n",
       "      <th>duration</th>\n",
       "      <th>cost</th>\n",
       "      <th>description</th>\n",
       "      <th>decision</th>\n",
       "    </tr>\n",
       "  </thead>\n",
       "  <tbody>\n",
       "    <tr>\n",
       "      <th>15</th>\n",
       "      <td>Maine</td>\n",
       "      <td>4</td>\n",
       "      <td>265</td>\n",
       "      <td>Ride endless singletrack. Escape to Western Ma...</td>\n",
       "      <td>1.0</td>\n",
       "    </tr>\n",
       "    <tr>\n",
       "      <th>35</th>\n",
       "      <td>Oregon</td>\n",
       "      <td>4</td>\n",
       "      <td>299</td>\n",
       "      <td>Mountain bike from hut-to-hut on the Mt Hood L...</td>\n",
       "      <td>1.0</td>\n",
       "    </tr>\n",
       "    <tr>\n",
       "      <th>40</th>\n",
       "      <td>Oregon</td>\n",
       "      <td>2</td>\n",
       "      <td>198</td>\n",
       "      <td>Learn to windsurf in Hood River. Trip for 2!. ...</td>\n",
       "      <td>1.0</td>\n",
       "    </tr>\n",
       "  </tbody>\n",
       "</table>\n",
       "</div>"
      ],
      "text/plain": [
       "   destination  duration  cost  \\\n",
       "15       Maine         4   265   \n",
       "35      Oregon         4   299   \n",
       "40      Oregon         2   198   \n",
       "\n",
       "                                          description  decision  \n",
       "15  Ride endless singletrack. Escape to Western Ma...       1.0  \n",
       "35  Mountain bike from hut-to-hut on the Mt Hood L...       1.0  \n",
       "40  Learn to windsurf in Hood River. Trip for 2!. ...       1.0  "
      ]
     },
     "execution_count": 13,
     "metadata": {},
     "output_type": "execute_result"
    }
   ],
   "source": [
    "data[data['decision'] == 1]\n"
   ]
  },
  {
   "cell_type": "code",
   "execution_count": 16,
   "metadata": {},
   "outputs": [
    {
     "data": {
      "text/plain": [
       "762"
      ]
     },
     "execution_count": 16,
     "metadata": {},
     "output_type": "execute_result"
    }
   ],
   "source": [
    "data[data['decision'] == 1]['cost'].sum()"
   ]
  },
  {
   "cell_type": "code",
   "execution_count": null,
   "metadata": {},
   "outputs": [],
   "source": []
  }
 ],
 "metadata": {
  "kernelspec": {
   "display_name": "Python 3 (ipykernel)",
   "language": "python",
   "name": "python3"
  },
  "language_info": {
   "codemirror_mode": {
    "name": "ipython",
    "version": 3
   },
   "file_extension": ".py",
   "mimetype": "text/x-python",
   "name": "python",
   "nbconvert_exporter": "python",
   "pygments_lexer": "ipython3",
   "version": "3.9.13"
  }
 },
 "nbformat": 4,
 "nbformat_minor": 4
}
