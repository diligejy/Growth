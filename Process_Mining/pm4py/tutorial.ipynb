{
 "cells": [
  {
   "cell_type": "code",
   "execution_count": 1,
   "metadata": {},
   "outputs": [
    {
     "name": "stdout",
     "output_type": "stream",
     "text": [
      "Collecting pm4py\n",
      "  Downloading pm4py-2.2.27-py3-none-any.whl (1.8 MB)\n",
      "     ---------------------------------------- 1.8/1.8 MB 16.4 MB/s eta 0:00:00\n",
      "Collecting pyvis\n",
      "  Downloading pyvis-0.2.1.tar.gz (21 kB)\n",
      "  Preparing metadata (setup.py): started\n",
      "  Preparing metadata (setup.py): finished with status 'done'\n",
      "Requirement already satisfied: scipy in c:\\users\\jinyoung\\anaconda3\\lib\\site-packages (from pm4py) (1.6.2)\n",
      "Requirement already satisfied: lxml in c:\\users\\jinyoung\\anaconda3\\lib\\site-packages (from pm4py) (4.6.3)\n",
      "Requirement already satisfied: sympy in c:\\users\\jinyoung\\anaconda3\\lib\\site-packages (from pm4py) (1.8)\n",
      "Requirement already satisfied: networkx in c:\\users\\jinyoung\\anaconda3\\lib\\site-packages (from pm4py) (2.5)\n",
      "Collecting stringdist\n",
      "  Downloading StringDist-1.0.9.tar.gz (7.4 kB)\n",
      "  Preparing metadata (setup.py): started\n",
      "  Preparing metadata (setup.py): finished with status 'done'\n",
      "Requirement already satisfied: pytz in c:\\users\\jinyoung\\anaconda3\\lib\\site-packages (from pm4py) (2021.1)\n",
      "Requirement already satisfied: numpy>=1.19.5 in c:\\users\\jinyoung\\anaconda3\\lib\\site-packages (from pm4py) (1.20.1)\n",
      "Collecting deprecation\n",
      "  Downloading deprecation-2.1.0-py2.py3-none-any.whl (11 kB)\n",
      "Collecting jsonpickle\n",
      "  Downloading jsonpickle-2.2.0-py2.py3-none-any.whl (39 kB)\n",
      "Requirement already satisfied: matplotlib in c:\\users\\jinyoung\\anaconda3\\lib\\site-packages (from pm4py) (3.3.4)\n",
      "Collecting pydotplus\n",
      "  Downloading pydotplus-2.0.2.tar.gz (278 kB)\n",
      "     ---------------------------------------- 278.7/278.7 kB ? eta 0:00:00\n",
      "  Preparing metadata (setup.py): started\n",
      "  Preparing metadata (setup.py): finished with status 'done'\n",
      "Requirement already satisfied: intervaltree in c:\\users\\jinyoung\\anaconda3\\lib\\site-packages (from pm4py) (3.1.0)\n",
      "Requirement already satisfied: tqdm in c:\\users\\jinyoung\\anaconda3\\lib\\site-packages (from pm4py) (4.59.0)\n",
      "Collecting cvxopt\n",
      "  Downloading cvxopt-1.3.0-cp38-cp38-win_amd64.whl (12.7 MB)\n",
      "     --------------------------------------- 12.7/12.7 MB 24.2 MB/s eta 0:00:00\n",
      "Requirement already satisfied: pandas>=1.1.5 in c:\\users\\jinyoung\\anaconda3\\lib\\site-packages (from pm4py) (1.2.4)\n",
      "Collecting graphviz\n",
      "  Downloading graphviz-0.20.1-py3-none-any.whl (47 kB)\n",
      "     ---------------------------------------- 47.0/47.0 kB ? eta 0:00:00\n",
      "Requirement already satisfied: python-dateutil>=2.7.3 in c:\\users\\jinyoung\\anaconda3\\lib\\site-packages (from pandas>=1.1.5->pm4py) (2.8.1)\n",
      "Requirement already satisfied: packaging in c:\\users\\jinyoung\\anaconda3\\lib\\site-packages (from deprecation->pm4py) (20.9)\n",
      "Requirement already satisfied: sortedcontainers<3.0,>=2.0 in c:\\users\\jinyoung\\anaconda3\\lib\\site-packages (from intervaltree->pm4py) (2.3.0)\n",
      "Requirement already satisfied: kiwisolver>=1.0.1 in c:\\users\\jinyoung\\anaconda3\\lib\\site-packages (from matplotlib->pm4py) (1.3.1)\n",
      "Requirement already satisfied: pillow>=6.2.0 in c:\\users\\jinyoung\\anaconda3\\lib\\site-packages (from matplotlib->pm4py) (8.2.0)\n",
      "Requirement already satisfied: cycler>=0.10 in c:\\users\\jinyoung\\anaconda3\\lib\\site-packages (from matplotlib->pm4py) (0.10.0)\n",
      "Requirement already satisfied: pyparsing!=2.0.4,!=2.1.2,!=2.1.6,>=2.0.3 in c:\\users\\jinyoung\\anaconda3\\lib\\site-packages (from matplotlib->pm4py) (2.4.7)\n",
      "Requirement already satisfied: decorator>=4.3.0 in c:\\users\\jinyoung\\anaconda3\\lib\\site-packages (from networkx->pm4py) (5.0.6)\n",
      "Requirement already satisfied: jinja2>=2.9.6 in c:\\users\\jinyoung\\anaconda3\\lib\\site-packages (from pyvis->pm4py) (2.11.3)\n",
      "Requirement already satisfied: ipython>=5.3.0 in c:\\users\\jinyoung\\anaconda3\\lib\\site-packages (from pyvis->pm4py) (7.22.0)\n",
      "Requirement already satisfied: mpmath>=0.19 in c:\\users\\jinyoung\\anaconda3\\lib\\site-packages (from sympy->pm4py) (1.2.1)\n",
      "Requirement already satisfied: six in c:\\users\\jinyoung\\anaconda3\\lib\\site-packages (from cycler>=0.10->matplotlib->pm4py) (1.15.0)\n",
      "Requirement already satisfied: pickleshare in c:\\users\\jinyoung\\anaconda3\\lib\\site-packages (from ipython>=5.3.0->pyvis->pm4py) (0.7.5)\n",
      "Requirement already satisfied: setuptools>=18.5 in c:\\users\\jinyoung\\anaconda3\\lib\\site-packages (from ipython>=5.3.0->pyvis->pm4py) (52.0.0.post20210125)\n",
      "Requirement already satisfied: jedi>=0.16 in c:\\users\\jinyoung\\anaconda3\\lib\\site-packages (from ipython>=5.3.0->pyvis->pm4py) (0.17.2)\n",
      "Requirement already satisfied: pygments in c:\\users\\jinyoung\\anaconda3\\lib\\site-packages (from ipython>=5.3.0->pyvis->pm4py) (2.8.1)\n",
      "Requirement already satisfied: prompt-toolkit!=3.0.0,!=3.0.1,<3.1.0,>=2.0.0 in c:\\users\\jinyoung\\anaconda3\\lib\\site-packages (from ipython>=5.3.0->pyvis->pm4py) (3.0.17)\n",
      "Requirement already satisfied: colorama in c:\\users\\jinyoung\\anaconda3\\lib\\site-packages (from ipython>=5.3.0->pyvis->pm4py) (0.4.4)\n",
      "Requirement already satisfied: traitlets>=4.2 in c:\\users\\jinyoung\\anaconda3\\lib\\site-packages (from ipython>=5.3.0->pyvis->pm4py) (5.0.5)\n",
      "Requirement already satisfied: backcall in c:\\users\\jinyoung\\anaconda3\\lib\\site-packages (from ipython>=5.3.0->pyvis->pm4py) (0.2.0)\n",
      "Requirement already satisfied: MarkupSafe>=0.23 in c:\\users\\jinyoung\\anaconda3\\lib\\site-packages (from jinja2>=2.9.6->pyvis->pm4py) (1.1.1)\n",
      "Requirement already satisfied: parso<0.8.0,>=0.7.0 in c:\\users\\jinyoung\\anaconda3\\lib\\site-packages (from jedi>=0.16->ipython>=5.3.0->pyvis->pm4py) (0.7.0)\n",
      "Requirement already satisfied: wcwidth in c:\\users\\jinyoung\\anaconda3\\lib\\site-packages (from prompt-toolkit!=3.0.0,!=3.0.1,<3.1.0,>=2.0.0->ipython>=5.3.0->pyvis->pm4py) (0.2.5)\n",
      "Requirement already satisfied: ipython-genutils in c:\\users\\jinyoung\\anaconda3\\lib\\site-packages (from traitlets>=4.2->ipython>=5.3.0->pyvis->pm4py) (0.2.0)\n",
      "Building wheels for collected packages: pydotplus, pyvis, stringdist\n",
      "  Building wheel for pydotplus (setup.py): started\n",
      "  Building wheel for pydotplus (setup.py): finished with status 'done'\n",
      "  Created wheel for pydotplus: filename=pydotplus-2.0.2-py3-none-any.whl size=24566 sha256=9b9fa071802ea7357dae77330f4a3fbc8d874d95b7c9d90a3351adf9af09fc40\n",
      "  Stored in directory: c:\\users\\jinyoung\\appdata\\local\\pip\\cache\\wheels\\fe\\cd\\78\\a7e873cc049759194f8271f780640cf96b35e5a48bef0e2f36\n",
      "  Building wheel for pyvis (setup.py): started\n",
      "  Building wheel for pyvis (setup.py): finished with status 'done'\n",
      "  Created wheel for pyvis: filename=pyvis-0.2.1-py3-none-any.whl size=23667 sha256=3daf85a8c8f8c0e7297aa54c623c75e4c748bcc690dd687e34d4914c81adf56c\n",
      "  Stored in directory: c:\\users\\jinyoung\\appdata\\local\\pip\\cache\\wheels\\78\\bb\\02\\40c79afcad1a632f7905a585ed3c5881737550400ff74ab6b5\n",
      "  Building wheel for stringdist (setup.py): started\n",
      "  Building wheel for stringdist (setup.py): finished with status 'done'\n",
      "  Created wheel for stringdist: filename=StringDist-1.0.9-py3-none-any.whl size=5189 sha256=68033ff61390fafe168961806cab2c119537ed913f8a841b56704d898d178b0b\n",
      "  Stored in directory: c:\\users\\jinyoung\\appdata\\local\\pip\\cache\\wheels\\7a\\64\\e2\\16f6a25a62a78f951c1715adb24ba2271ae9d7872f42378c3a\n",
      "Successfully built pydotplus pyvis stringdist\n",
      "Installing collected packages: stringdist, pydotplus, jsonpickle, graphviz, cvxopt, deprecation, pyvis, pm4py\n",
      "Successfully installed cvxopt-1.3.0 deprecation-2.1.0 graphviz-0.20.1 jsonpickle-2.2.0 pm4py-2.2.27 pydotplus-2.0.2 pyvis-0.2.1 stringdist-1.0.9\n"
     ]
    }
   ],
   "source": [
    "!pip install pm4py"
   ]
  },
  {
   "cell_type": "markdown",
   "metadata": {},
   "source": [
    "## 참고 : [링크](https://process-mining.tistory.com/140)"
   ]
  },
  {
   "cell_type": "code",
   "execution_count": 4,
   "metadata": {},
   "outputs": [],
   "source": [
    "import statistics \n",
    "import pm4py \n",
    "import matplotlib.pyplot as plt \n",
    "\n",
    "from pm4py.objects.log.importer.xes import importer\n",
    "from pm4py.objects.conversion.log.converter import to_data_frame\n",
    "from pm4py.algo.filtering.pandas.attributes import attributes_filter\n",
    "from pm4py.statistics.traces.log import case_statistics\n",
    "from pm4py.objects.log.util import interval_lifecycle\n",
    "from pm4py.statistics.traces.log import case_arrival\n",
    "from pm4py.statistics.sojourn_time.log import get as soj_time_get \n",
    "from pm4py.visualization.graphs import visualizer as graphs_visualizer \n",
    "from pm4py.util import constants\n",
    "from pm4py.algo.filtering.log.timestamp import timestamp_filter \n",
    "from pm4py.algo.filtering.log.end_activities import end_activities_filter\n",
    "from pm4py.algo.filtering.log.start_activities import start_activities_filter \n",
    "from pm4py.algo.discovery.alpha import algorithm as alpha_miner \n",
    "from pm4py.algo.discovery.inductive import algorithm as inductive_miner \n",
    "from pm4py.algo.discovery.dfg import algorithm as dfg_discovery \n",
    "from pm4py.visualization.dfg import visualizer as dfg_visualization \n",
    "from pm4py.visualization.petri_net import visualizer as pn_visualizer \n",
    "from pm4py.visualization.decisiontree import visualizer as tree_visualizer \n",
    "from pm4py.algo.decision_mining import algorithm as decision_mining"
   ]
  },
  {
   "cell_type": "code",
   "execution_count": 5,
   "metadata": {},
   "outputs": [
    {
     "name": "stderr",
     "output_type": "stream",
     "text": [
      "parsing log, completed traces :: 100%|██████████| 1104/1104 [00:00<00:00, 2193.22it/s]\n"
     ]
    }
   ],
   "source": [
    "# Data Import \n",
    "log = importer.apply(\"repairExample.xes\")"
   ]
  },
  {
   "cell_type": "code",
   "execution_count": 6,
   "metadata": {},
   "outputs": [
    {
     "name": "stdout",
     "output_type": "stream",
     "text": [
      "{'attributes': {'concept:name': '1', 'description': 'Simulated process instance'}, 'events': [{'org:resource': 'System', 'time:timestamp': datetime.datetime(1970, 1, 2, 12, 23, tzinfo=datetime.timezone(datetime.timedelta(seconds=3600))), 'concept:name': 'Register', 'lifecycle:transition': 'complete'}, '..', {'numberRepairs': '0', 'org:resource': 'System', 'lifecycle:transition': 'complete', 'time:timestamp': datetime.datetime(1970, 1, 2, 13, 10, tzinfo=datetime.timezone(datetime.timedelta(seconds=3600))), 'concept:name': 'Archive Repair', 'defectFixed': 'true'}]}\n"
     ]
    }
   ],
   "source": [
    "# 데이터 확인 로그 print\n",
    "print(log[0])"
   ]
  },
  {
   "cell_type": "code",
   "execution_count": 7,
   "metadata": {},
   "outputs": [
    {
     "name": "stdout",
     "output_type": "stream",
     "text": [
      "{'org:resource': 'System', 'time:timestamp': datetime.datetime(1970, 1, 2, 12, 23, tzinfo=datetime.timezone(datetime.timedelta(seconds=3600))), 'concept:name': 'Register', 'lifecycle:transition': 'complete'}\n"
     ]
    }
   ],
   "source": [
    "print(log[0][0])"
   ]
  },
  {
   "cell_type": "code",
   "execution_count": 8,
   "metadata": {},
   "outputs": [
    {
     "data": {
      "text/html": [
       "<div>\n",
       "<style scoped>\n",
       "    .dataframe tbody tr th:only-of-type {\n",
       "        vertical-align: middle;\n",
       "    }\n",
       "\n",
       "    .dataframe tbody tr th {\n",
       "        vertical-align: top;\n",
       "    }\n",
       "\n",
       "    .dataframe thead th {\n",
       "        text-align: right;\n",
       "    }\n",
       "</style>\n",
       "<table border=\"1\" class=\"dataframe\">\n",
       "  <thead>\n",
       "    <tr style=\"text-align: right;\">\n",
       "      <th></th>\n",
       "      <th>org:resource</th>\n",
       "      <th>time:timestamp</th>\n",
       "      <th>concept:name</th>\n",
       "      <th>lifecycle:transition</th>\n",
       "      <th>case:concept:name</th>\n",
       "      <th>case:description</th>\n",
       "      <th>defectType</th>\n",
       "      <th>phoneType</th>\n",
       "      <th>numberRepairs</th>\n",
       "      <th>defectFixed</th>\n",
       "    </tr>\n",
       "  </thead>\n",
       "  <tbody>\n",
       "    <tr>\n",
       "      <th>0</th>\n",
       "      <td>System</td>\n",
       "      <td>1970-01-02 12:23:00+01:00</td>\n",
       "      <td>Register</td>\n",
       "      <td>complete</td>\n",
       "      <td>1</td>\n",
       "      <td>Simulated process instance</td>\n",
       "      <td>NaN</td>\n",
       "      <td>NaN</td>\n",
       "      <td>NaN</td>\n",
       "      <td>NaN</td>\n",
       "    </tr>\n",
       "    <tr>\n",
       "      <th>1</th>\n",
       "      <td>Tester3</td>\n",
       "      <td>1970-01-02 12:23:00+01:00</td>\n",
       "      <td>Analyze Defect</td>\n",
       "      <td>start</td>\n",
       "      <td>1</td>\n",
       "      <td>Simulated process instance</td>\n",
       "      <td>NaN</td>\n",
       "      <td>NaN</td>\n",
       "      <td>NaN</td>\n",
       "      <td>NaN</td>\n",
       "    </tr>\n",
       "    <tr>\n",
       "      <th>2</th>\n",
       "      <td>Tester3</td>\n",
       "      <td>1970-01-02 12:30:00+01:00</td>\n",
       "      <td>Analyze Defect</td>\n",
       "      <td>complete</td>\n",
       "      <td>1</td>\n",
       "      <td>Simulated process instance</td>\n",
       "      <td>6</td>\n",
       "      <td>T2</td>\n",
       "      <td>NaN</td>\n",
       "      <td>NaN</td>\n",
       "    </tr>\n",
       "    <tr>\n",
       "      <th>3</th>\n",
       "      <td>SolverC1</td>\n",
       "      <td>1970-01-02 12:31:00+01:00</td>\n",
       "      <td>Repair (Complex)</td>\n",
       "      <td>start</td>\n",
       "      <td>1</td>\n",
       "      <td>Simulated process instance</td>\n",
       "      <td>NaN</td>\n",
       "      <td>NaN</td>\n",
       "      <td>NaN</td>\n",
       "      <td>NaN</td>\n",
       "    </tr>\n",
       "    <tr>\n",
       "      <th>4</th>\n",
       "      <td>SolverC1</td>\n",
       "      <td>1970-01-02 12:49:00+01:00</td>\n",
       "      <td>Repair (Complex)</td>\n",
       "      <td>complete</td>\n",
       "      <td>1</td>\n",
       "      <td>Simulated process instance</td>\n",
       "      <td>NaN</td>\n",
       "      <td>NaN</td>\n",
       "      <td>NaN</td>\n",
       "      <td>NaN</td>\n",
       "    </tr>\n",
       "  </tbody>\n",
       "</table>\n",
       "</div>"
      ],
      "text/plain": [
       "  org:resource            time:timestamp      concept:name  \\\n",
       "0       System 1970-01-02 12:23:00+01:00          Register   \n",
       "1      Tester3 1970-01-02 12:23:00+01:00    Analyze Defect   \n",
       "2      Tester3 1970-01-02 12:30:00+01:00    Analyze Defect   \n",
       "3     SolverC1 1970-01-02 12:31:00+01:00  Repair (Complex)   \n",
       "4     SolverC1 1970-01-02 12:49:00+01:00  Repair (Complex)   \n",
       "\n",
       "  lifecycle:transition case:concept:name            case:description  \\\n",
       "0             complete                 1  Simulated process instance   \n",
       "1                start                 1  Simulated process instance   \n",
       "2             complete                 1  Simulated process instance   \n",
       "3                start                 1  Simulated process instance   \n",
       "4             complete                 1  Simulated process instance   \n",
       "\n",
       "  defectType phoneType numberRepairs defectFixed  \n",
       "0        NaN       NaN           NaN         NaN  \n",
       "1        NaN       NaN           NaN         NaN  \n",
       "2          6        T2           NaN         NaN  \n",
       "3        NaN       NaN           NaN         NaN  \n",
       "4        NaN       NaN           NaN         NaN  "
      ]
     },
     "execution_count": 8,
     "metadata": {},
     "output_type": "execute_result"
    }
   ],
   "source": [
    "df = to_data_frame.apply(log)\n",
    "df.head()"
   ]
  },
  {
   "cell_type": "markdown",
   "metadata": {},
   "source": [
    "## EDA\n",
    "\n",
    "\n",
    "### Activity & Resource Analysis"
   ]
  },
  {
   "cell_type": "code",
   "execution_count": 9,
   "metadata": {},
   "outputs": [],
   "source": [
    "# activity 목록 도출\n",
    "activities = attributes_filter.get_attribute_values(df, attribute_key=\"concept:name\")\n",
    "# Resource 목록 도출\n",
    "resources = attributes_filter.get_attribute_values(df, attribute_key=\"org:resource\")"
   ]
  },
  {
   "cell_type": "code",
   "execution_count": 10,
   "metadata": {},
   "outputs": [
    {
     "name": "stdout",
     "output_type": "stream",
     "text": [
      "{'Test Repair': 3016, 'Analyze Defect': 2208, 'Repair (Simple)': 1570, 'Repair (Complex)': 1449, 'Register': 1104, 'Inform User': 1102, 'Archive Repair': 1000, 'Restart Repair': 406}\n"
     ]
    }
   ],
   "source": [
    "print(activities)"
   ]
  },
  {
   "cell_type": "code",
   "execution_count": 11,
   "metadata": {},
   "outputs": [
    {
     "data": {
      "text/plain": [
       "Text(0.5, 1.0, 'Resource Distribution')"
      ]
     },
     "execution_count": 11,
     "metadata": {},
     "output_type": "execute_result"
    },
    {
     "data": {
      "image/png": "[encoded data removed]",
      "text/plain": [
       "<Figure size 1800x720 with 2 Axes>"
      ]
     },
     "metadata": {
      "needs_background": "light"
     },
     "output_type": "display_data"
    }
   ],
   "source": [
    "# activity와 resource를 Bar Chart로 표현해보기\n",
    "fig, ax = plt.subplots(nrows=1, ncols=2, figsize=(25, 10))\n",
    "ax = ax.ravel()\n",
    "ax[0].bar(x=list(activities.keys()), height=list(activities.values()))\n",
    "ax[0].set_title(\"Activity Distribution\", fontsize=20)\n",
    "ax[1].bar(x=list(resources.keys()), height=list(resources.values()))\n",
    "ax[1].set_title(\"Resource Distribution\", fontsize=20)\n"
   ]
  },
  {
   "cell_type": "markdown",
   "metadata": {},
   "source": [
    "### Start & End Activities"
   ]
  },
  {
   "cell_type": "code",
   "execution_count": 12,
   "metadata": {},
   "outputs": [],
   "source": [
    "# Start activity와 end activity의 목록 도출\n",
    "start_activities = start_activities_filter.get_start_activities(log)\n",
    "end_activities = end_activities_filter.get_end_activities(log)"
   ]
  },
  {
   "cell_type": "code",
   "execution_count": 14,
   "metadata": {},
   "outputs": [
    {
     "data": {
      "text/plain": [
       "Text(0.5, 1.0, 'End Activities Distribution')"
      ]
     },
     "execution_count": 14,
     "metadata": {},
     "output_type": "execute_result"
    },
    {
     "data": {
      "image/png": "[encoded data removed]",
      "text/plain": [
       "<Figure size 1800x720 with 2 Axes>"
      ]
     },
     "metadata": {
      "needs_background": "light"
     },
     "output_type": "display_data"
    }
   ],
   "source": [
    "# Bar chart \n",
    "fig, ax = plt.subplots(nrows=1, ncols=2, figsize=(25, 10))\n",
    "ax = ax.ravel()\n",
    "ax[0].bar(x=list(start_activities.keys()), height=list(start_activities.values()))\n",
    "ax[0].set_title(\"Start Activities Distribution\", fontsize=20)\n",
    "ax[1].bar(x=list(end_activities.keys()), height=list(end_activities.values()))\n",
    "ax[1].set_title(\"End Activities Distribution\", fontsize=20)"
   ]
  },
  {
   "cell_type": "markdown",
   "metadata": {},
   "source": [
    "### Filtering"
   ]
  },
  {
   "cell_type": "code",
   "execution_count": 16,
   "metadata": {},
   "outputs": [
    {
     "name": "stdout",
     "output_type": "stream",
     "text": [
      "{'Archive Repair': 1000, 'Test Repair': 75, 'Inform User': 27, 'Repair (Complex)': 2}\n",
      "{'Archive Repair': 1000, 'Test Repair': 75, 'Inform User': 27}\n"
     ]
    }
   ],
   "source": [
    "# 기존 이벤트 로그의 종료 액티비티 목록\n",
    "print(end_activities)\n",
    "\n",
    "# filtering\n",
    "filtered_log = end_activities_filter.apply(log, [\"Repair (Complex)\"], parameters={'positive' : False})\n",
    "filtered_end_activities = end_activities_filter.get_end_activities(filtered_log)\n",
    "\n",
    "# Filtering된 이벤트 로그의 종료 액티비티 목록\n",
    "print(filtered_end_activities)"
   ]
  },
  {
   "cell_type": "markdown",
   "metadata": {},
   "source": [
    "### Process Discovery"
   ]
  },
  {
   "cell_type": "code",
   "execution_count": 18,
   "metadata": {},
   "outputs": [
    {
     "ename": "TypeError",
     "evalue": "'module' object is not callable",
     "output_type": "error",
     "traceback": [
      "\u001b[1;31m---------------------------------------------------------------------------\u001b[0m",
      "\u001b[1;31mTypeError\u001b[0m                                 Traceback (most recent call last)",
      "\u001b[1;32m<ipython-input-18-43b9e2bf4c80>\u001b[0m in \u001b[0;36m<module>\u001b[1;34m\u001b[0m\n\u001b[0;32m      1\u001b[0m \u001b[1;31m# Process discovery\u001b[0m\u001b[1;33m\u001b[0m\u001b[1;33m\u001b[0m\u001b[1;33m\u001b[0m\u001b[0m\n\u001b[1;32m----> 2\u001b[1;33m \u001b[0mnet_in\u001b[0m\u001b[1;33m,\u001b[0m \u001b[0mim_in\u001b[0m\u001b[1;33m,\u001b[0m \u001b[0mfm_in\u001b[0m \u001b[1;33m=\u001b[0m \u001b[0minductive_miner\u001b[0m\u001b[1;33m(\u001b[0m\u001b[0mfiltered_log\u001b[0m\u001b[1;33m)\u001b[0m\u001b[1;33m\u001b[0m\u001b[1;33m\u001b[0m\u001b[0m\n\u001b[0m\u001b[0;32m      3\u001b[0m \u001b[1;33m\u001b[0m\u001b[0m\n\u001b[0;32m      4\u001b[0m \u001b[1;31m# Process Model Visualization\u001b[0m\u001b[1;33m\u001b[0m\u001b[1;33m\u001b[0m\u001b[1;33m\u001b[0m\u001b[0m\n\u001b[0;32m      5\u001b[0m \u001b[0mgviz_in\u001b[0m \u001b[1;33m=\u001b[0m \u001b[0mpn_visualizer\u001b[0m\u001b[1;33m.\u001b[0m\u001b[0mapply\u001b[0m\u001b[1;33m(\u001b[0m\u001b[0mnet_in\u001b[0m\u001b[1;33m,\u001b[0m \u001b[0mim_in\u001b[0m\u001b[1;33m,\u001b[0m \u001b[0mfm_in\u001b[0m\u001b[1;33m)\u001b[0m\u001b[1;33m\u001b[0m\u001b[1;33m\u001b[0m\u001b[0m\n",
      "\u001b[1;31mTypeError\u001b[0m: 'module' object is not callable"
     ]
    }
   ],
   "source": [
    "# Process discovery\n",
    "net_in, im_in, fm_in = inductive_miner(filtered_log)\n",
    "\n",
    "# Process Model Visualization \n",
    "gviz_in = pn_visualizer.apply(net_in, im_in, fm_in)\n",
    "pn_visualizer.apply(gviz_in)"
   ]
  },
  {
   "cell_type": "code",
   "execution_count": null,
   "metadata": {},
   "outputs": [],
   "source": []
  }
 ],
 "metadata": {
  "kernelspec": {
   "display_name": "Python 3.8.8 ('base')",
   "language": "python",
   "name": "python3"
  },
  "language_info": {
   "codemirror_mode": {
    "name": "ipython",
    "version": 3
   },
   "file_extension": ".py",
   "mimetype": "text/x-python",
   "name": "python",
   "nbconvert_exporter": "python",
   "pygments_lexer": "ipython3",
   "version": "3.8.8"
  },
  "orig_nbformat": 4,
  "vscode": {
   "interpreter": {
    "hash": "ec3299b6d146d22582f2fbc7cd361fd5abff6a9ef5508585e5f255ed9da818e6"
   }
  }
 },
 "nbformat": 4,
 "nbformat_minor": 2
}
