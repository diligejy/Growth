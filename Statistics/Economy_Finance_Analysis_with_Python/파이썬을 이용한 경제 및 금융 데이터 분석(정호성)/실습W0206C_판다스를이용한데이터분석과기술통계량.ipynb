{
 "cells": [
  {
   "cell_type": "markdown",
   "metadata": {},
   "source": [
    "#  제2장"
   ]
  },
  {
   "cell_type": "markdown",
   "metadata": {},
   "source": [
    "데이타를 분석할때 먼저 분석해야 할 기초통계량(Summary Statistics)에 대해서 알아보기\n",
    "* 평균(mean), 중앙값(median)\n",
    "* 분산, 표준편차,분위수"
   ]
  },
  {
   "cell_type": "code",
   "execution_count": 25,
   "metadata": {},
   "outputs": [],
   "source": [
    "import pandas as pd"
   ]
  },
  {
   "cell_type": "code",
   "execution_count": 26,
   "metadata": {},
   "outputs": [],
   "source": [
    "df = pd.read_csv('house_price.csv', index_col=0)"
   ]
  },
  {
   "cell_type": "code",
   "execution_count": 27,
   "metadata": {},
   "outputs": [
    {
     "data": {
      "text/html": [
       "<div>\n",
       "<style scoped>\n",
       "    .dataframe tbody tr th:only-of-type {\n",
       "        vertical-align: middle;\n",
       "    }\n",
       "\n",
       "    .dataframe tbody tr th {\n",
       "        vertical-align: top;\n",
       "    }\n",
       "\n",
       "    .dataframe thead th {\n",
       "        text-align: right;\n",
       "    }\n",
       "</style>\n",
       "<table border=\"1\" class=\"dataframe\">\n",
       "  <thead>\n",
       "    <tr style=\"text-align: right;\">\n",
       "      <th></th>\n",
       "      <th>year</th>\n",
       "      <th>month</th>\n",
       "      <th>day</th>\n",
       "      <th>price</th>\n",
       "      <th>built_yr</th>\n",
       "      <th>dong_name</th>\n",
       "      <th>apt_name</th>\n",
       "      <th>size</th>\n",
       "      <th>gu_code</th>\n",
       "      <th>size_pyung</th>\n",
       "      <th>price_pyung</th>\n",
       "    </tr>\n",
       "  </thead>\n",
       "  <tbody>\n",
       "    <tr>\n",
       "      <th>0</th>\n",
       "      <td>2021</td>\n",
       "      <td>6</td>\n",
       "      <td>1</td>\n",
       "      <td>150000</td>\n",
       "      <td>1988</td>\n",
       "      <td>방배동</td>\n",
       "      <td>방배임광</td>\n",
       "      <td>82.34</td>\n",
       "      <td>11650</td>\n",
       "      <td>24.726727</td>\n",
       "      <td>6066.310420</td>\n",
       "    </tr>\n",
       "    <tr>\n",
       "      <th>1</th>\n",
       "      <td>2021</td>\n",
       "      <td>6</td>\n",
       "      <td>1</td>\n",
       "      <td>155000</td>\n",
       "      <td>2003</td>\n",
       "      <td>방배동</td>\n",
       "      <td>삼환나띠르빌(1002-9)</td>\n",
       "      <td>148.99</td>\n",
       "      <td>11650</td>\n",
       "      <td>44.741742</td>\n",
       "      <td>3464.326465</td>\n",
       "    </tr>\n",
       "    <tr>\n",
       "      <th>2</th>\n",
       "      <td>2021</td>\n",
       "      <td>6</td>\n",
       "      <td>2</td>\n",
       "      <td>290000</td>\n",
       "      <td>1983</td>\n",
       "      <td>방배동</td>\n",
       "      <td>방배신삼호</td>\n",
       "      <td>185.46</td>\n",
       "      <td>11650</td>\n",
       "      <td>55.693694</td>\n",
       "      <td>5207.052734</td>\n",
       "    </tr>\n",
       "    <tr>\n",
       "      <th>3</th>\n",
       "      <td>2021</td>\n",
       "      <td>6</td>\n",
       "      <td>2</td>\n",
       "      <td>210000</td>\n",
       "      <td>2006</td>\n",
       "      <td>방배동</td>\n",
       "      <td>롯데캐슬헤론</td>\n",
       "      <td>169.08</td>\n",
       "      <td>11650</td>\n",
       "      <td>50.774775</td>\n",
       "      <td>4135.911994</td>\n",
       "    </tr>\n",
       "    <tr>\n",
       "      <th>4</th>\n",
       "      <td>2021</td>\n",
       "      <td>6</td>\n",
       "      <td>2</td>\n",
       "      <td>175000</td>\n",
       "      <td>1992</td>\n",
       "      <td>방배동</td>\n",
       "      <td>대우(효령)</td>\n",
       "      <td>84.91</td>\n",
       "      <td>11650</td>\n",
       "      <td>25.498498</td>\n",
       "      <td>6863.149217</td>\n",
       "    </tr>\n",
       "  </tbody>\n",
       "</table>\n",
       "</div>"
      ],
      "text/plain": [
       "   year  month  day   price  built_yr dong_name        apt_name    size  \\\n",
       "0  2021      6    1  150000      1988       방배동            방배임광   82.34   \n",
       "1  2021      6    1  155000      2003       방배동  삼환나띠르빌(1002-9)  148.99   \n",
       "2  2021      6    2  290000      1983       방배동           방배신삼호  185.46   \n",
       "3  2021      6    2  210000      2006       방배동          롯데캐슬헤론  169.08   \n",
       "4  2021      6    2  175000      1992       방배동          대우(효령)   84.91   \n",
       "\n",
       "   gu_code  size_pyung  price_pyung  \n",
       "0    11650   24.726727  6066.310420  \n",
       "1    11650   44.741742  3464.326465  \n",
       "2    11650   55.693694  5207.052734  \n",
       "3    11650   50.774775  4135.911994  \n",
       "4    11650   25.498498  6863.149217  "
      ]
     },
     "execution_count": 27,
     "metadata": {},
     "output_type": "execute_result"
    }
   ],
   "source": [
    "df.head()"
   ]
  },
  {
   "cell_type": "code",
   "execution_count": 28,
   "metadata": {},
   "outputs": [
    {
     "data": {
      "text/html": [
       "<div>\n",
       "<style scoped>\n",
       "    .dataframe tbody tr th:only-of-type {\n",
       "        vertical-align: middle;\n",
       "    }\n",
       "\n",
       "    .dataframe tbody tr th {\n",
       "        vertical-align: top;\n",
       "    }\n",
       "\n",
       "    .dataframe thead th {\n",
       "        text-align: right;\n",
       "    }\n",
       "</style>\n",
       "<table border=\"1\" class=\"dataframe\">\n",
       "  <thead>\n",
       "    <tr style=\"text-align: right;\">\n",
       "      <th></th>\n",
       "      <th>year</th>\n",
       "      <th>month</th>\n",
       "      <th>day</th>\n",
       "      <th>price</th>\n",
       "      <th>built_yr</th>\n",
       "      <th>dong_name</th>\n",
       "      <th>apt_name</th>\n",
       "      <th>size</th>\n",
       "      <th>gu_code</th>\n",
       "      <th>size_pyung</th>\n",
       "      <th>price_pyung</th>\n",
       "    </tr>\n",
       "  </thead>\n",
       "  <tbody>\n",
       "    <tr>\n",
       "      <th>191</th>\n",
       "      <td>2021</td>\n",
       "      <td>6</td>\n",
       "      <td>24</td>\n",
       "      <td>147000</td>\n",
       "      <td>2014</td>\n",
       "      <td>내곡동</td>\n",
       "      <td>서초더샵포레</td>\n",
       "      <td>59.69</td>\n",
       "      <td>11650</td>\n",
       "      <td>17.924925</td>\n",
       "      <td>8200.871168</td>\n",
       "    </tr>\n",
       "    <tr>\n",
       "      <th>192</th>\n",
       "      <td>2021</td>\n",
       "      <td>6</td>\n",
       "      <td>28</td>\n",
       "      <td>160000</td>\n",
       "      <td>2014</td>\n",
       "      <td>내곡동</td>\n",
       "      <td>서초더샵포레</td>\n",
       "      <td>84.81</td>\n",
       "      <td>11650</td>\n",
       "      <td>25.468468</td>\n",
       "      <td>6282.278033</td>\n",
       "    </tr>\n",
       "    <tr>\n",
       "      <th>193</th>\n",
       "      <td>2021</td>\n",
       "      <td>6</td>\n",
       "      <td>3</td>\n",
       "      <td>192500</td>\n",
       "      <td>2014</td>\n",
       "      <td>신원동</td>\n",
       "      <td>서초포레스타5단지</td>\n",
       "      <td>101.35</td>\n",
       "      <td>11650</td>\n",
       "      <td>30.435435</td>\n",
       "      <td>6324.864332</td>\n",
       "    </tr>\n",
       "    <tr>\n",
       "      <th>194</th>\n",
       "      <td>2021</td>\n",
       "      <td>6</td>\n",
       "      <td>3</td>\n",
       "      <td>192500</td>\n",
       "      <td>2014</td>\n",
       "      <td>신원동</td>\n",
       "      <td>서초포레스타5단지</td>\n",
       "      <td>101.35</td>\n",
       "      <td>11650</td>\n",
       "      <td>30.435435</td>\n",
       "      <td>6324.864332</td>\n",
       "    </tr>\n",
       "    <tr>\n",
       "      <th>195</th>\n",
       "      <td>2021</td>\n",
       "      <td>6</td>\n",
       "      <td>11</td>\n",
       "      <td>185000</td>\n",
       "      <td>2014</td>\n",
       "      <td>신원동</td>\n",
       "      <td>서초포레스타5단지</td>\n",
       "      <td>84.41</td>\n",
       "      <td>11650</td>\n",
       "      <td>25.348348</td>\n",
       "      <td>7298.305888</td>\n",
       "    </tr>\n",
       "  </tbody>\n",
       "</table>\n",
       "</div>"
      ],
      "text/plain": [
       "     year  month  day   price  built_yr dong_name   apt_name    size  gu_code  \\\n",
       "191  2021      6   24  147000      2014       내곡동     서초더샵포레   59.69    11650   \n",
       "192  2021      6   28  160000      2014       내곡동     서초더샵포레   84.81    11650   \n",
       "193  2021      6    3  192500      2014       신원동  서초포레스타5단지  101.35    11650   \n",
       "194  2021      6    3  192500      2014       신원동  서초포레스타5단지  101.35    11650   \n",
       "195  2021      6   11  185000      2014       신원동  서초포레스타5단지   84.41    11650   \n",
       "\n",
       "     size_pyung  price_pyung  \n",
       "191   17.924925  8200.871168  \n",
       "192   25.468468  6282.278033  \n",
       "193   30.435435  6324.864332  \n",
       "194   30.435435  6324.864332  \n",
       "195   25.348348  7298.305888  "
      ]
     },
     "execution_count": 28,
     "metadata": {},
     "output_type": "execute_result"
    }
   ],
   "source": [
    "df.tail()"
   ]
  },
  {
   "cell_type": "code",
   "execution_count": 29,
   "metadata": {},
   "outputs": [
    {
     "data": {
      "text/plain": [
       "year             int64\n",
       "month            int64\n",
       "day              int64\n",
       "price            int64\n",
       "built_yr         int64\n",
       "dong_name       object\n",
       "apt_name        object\n",
       "size           float64\n",
       "gu_code          int64\n",
       "size_pyung     float64\n",
       "price_pyung    float64\n",
       "dtype: object"
      ]
     },
     "execution_count": 29,
     "metadata": {},
     "output_type": "execute_result"
    }
   ],
   "source": [
    "df.dtypes"
   ]
  },
  {
   "cell_type": "code",
   "execution_count": 30,
   "metadata": {},
   "outputs": [
    {
     "name": "stdout",
     "output_type": "stream",
     "text": [
      "<class 'pandas.core.frame.DataFrame'>\n",
      "Int64Index: 196 entries, 0 to 195\n",
      "Data columns (total 11 columns):\n",
      " #   Column       Non-Null Count  Dtype  \n",
      "---  ------       --------------  -----  \n",
      " 0   year         196 non-null    int64  \n",
      " 1   month        196 non-null    int64  \n",
      " 2   day          196 non-null    int64  \n",
      " 3   price        196 non-null    int64  \n",
      " 4   built_yr     196 non-null    int64  \n",
      " 5   dong_name    196 non-null    object \n",
      " 6   apt_name     196 non-null    object \n",
      " 7   size         196 non-null    float64\n",
      " 8   gu_code      196 non-null    int64  \n",
      " 9   size_pyung   196 non-null    float64\n",
      " 10  price_pyung  196 non-null    float64\n",
      "dtypes: float64(3), int64(6), object(2)\n",
      "memory usage: 18.4+ KB\n"
     ]
    }
   ],
   "source": [
    "df.info()"
   ]
  },
  {
   "cell_type": "code",
   "execution_count": 31,
   "metadata": {},
   "outputs": [
    {
     "data": {
      "text/html": [
       "<div>\n",
       "<style scoped>\n",
       "    .dataframe tbody tr th:only-of-type {\n",
       "        vertical-align: middle;\n",
       "    }\n",
       "\n",
       "    .dataframe tbody tr th {\n",
       "        vertical-align: top;\n",
       "    }\n",
       "\n",
       "    .dataframe thead th {\n",
       "        text-align: right;\n",
       "    }\n",
       "</style>\n",
       "<table border=\"1\" class=\"dataframe\">\n",
       "  <thead>\n",
       "    <tr style=\"text-align: right;\">\n",
       "      <th></th>\n",
       "      <th>year</th>\n",
       "      <th>month</th>\n",
       "      <th>day</th>\n",
       "      <th>price</th>\n",
       "      <th>built_yr</th>\n",
       "      <th>dong_name</th>\n",
       "      <th>apt_name</th>\n",
       "      <th>size</th>\n",
       "      <th>gu_code</th>\n",
       "      <th>size_pyung</th>\n",
       "      <th>price_pyung</th>\n",
       "    </tr>\n",
       "  </thead>\n",
       "  <tbody>\n",
       "    <tr>\n",
       "      <th>0</th>\n",
       "      <td>2021</td>\n",
       "      <td>6</td>\n",
       "      <td>1</td>\n",
       "      <td>150000</td>\n",
       "      <td>1988</td>\n",
       "      <td>방배동</td>\n",
       "      <td>방배임광</td>\n",
       "      <td>82.34</td>\n",
       "      <td>11650</td>\n",
       "      <td>24.726727</td>\n",
       "      <td>6066.310420</td>\n",
       "    </tr>\n",
       "    <tr>\n",
       "      <th>1</th>\n",
       "      <td>2021</td>\n",
       "      <td>6</td>\n",
       "      <td>1</td>\n",
       "      <td>155000</td>\n",
       "      <td>2003</td>\n",
       "      <td>방배동</td>\n",
       "      <td>삼환나띠르빌(1002-9)</td>\n",
       "      <td>148.99</td>\n",
       "      <td>11650</td>\n",
       "      <td>44.741742</td>\n",
       "      <td>3464.326465</td>\n",
       "    </tr>\n",
       "    <tr>\n",
       "      <th>2</th>\n",
       "      <td>2021</td>\n",
       "      <td>6</td>\n",
       "      <td>2</td>\n",
       "      <td>290000</td>\n",
       "      <td>1983</td>\n",
       "      <td>방배동</td>\n",
       "      <td>방배신삼호</td>\n",
       "      <td>185.46</td>\n",
       "      <td>11650</td>\n",
       "      <td>55.693694</td>\n",
       "      <td>5207.052734</td>\n",
       "    </tr>\n",
       "    <tr>\n",
       "      <th>3</th>\n",
       "      <td>2021</td>\n",
       "      <td>6</td>\n",
       "      <td>2</td>\n",
       "      <td>210000</td>\n",
       "      <td>2006</td>\n",
       "      <td>방배동</td>\n",
       "      <td>롯데캐슬헤론</td>\n",
       "      <td>169.08</td>\n",
       "      <td>11650</td>\n",
       "      <td>50.774775</td>\n",
       "      <td>4135.911994</td>\n",
       "    </tr>\n",
       "    <tr>\n",
       "      <th>4</th>\n",
       "      <td>2021</td>\n",
       "      <td>6</td>\n",
       "      <td>2</td>\n",
       "      <td>175000</td>\n",
       "      <td>1992</td>\n",
       "      <td>방배동</td>\n",
       "      <td>대우(효령)</td>\n",
       "      <td>84.91</td>\n",
       "      <td>11650</td>\n",
       "      <td>25.498498</td>\n",
       "      <td>6863.149217</td>\n",
       "    </tr>\n",
       "  </tbody>\n",
       "</table>\n",
       "</div>"
      ],
      "text/plain": [
       "   year  month  day   price  built_yr dong_name        apt_name    size  \\\n",
       "0  2021      6    1  150000      1988       방배동            방배임광   82.34   \n",
       "1  2021      6    1  155000      2003       방배동  삼환나띠르빌(1002-9)  148.99   \n",
       "2  2021      6    2  290000      1983       방배동           방배신삼호  185.46   \n",
       "3  2021      6    2  210000      2006       방배동          롯데캐슬헤론  169.08   \n",
       "4  2021      6    2  175000      1992       방배동          대우(효령)   84.91   \n",
       "\n",
       "   gu_code  size_pyung  price_pyung  \n",
       "0    11650   24.726727  6066.310420  \n",
       "1    11650   44.741742  3464.326465  \n",
       "2    11650   55.693694  5207.052734  \n",
       "3    11650   50.774775  4135.911994  \n",
       "4    11650   25.498498  6863.149217  "
      ]
     },
     "execution_count": 31,
     "metadata": {},
     "output_type": "execute_result"
    }
   ],
   "source": [
    "df.head()"
   ]
  },
  {
   "cell_type": "code",
   "execution_count": 32,
   "metadata": {},
   "outputs": [
    {
     "data": {
      "text/plain": [
       "Index(['year', 'month', 'day', 'price', 'built_yr', 'dong_name', 'apt_name',\n",
       "       'size', 'gu_code', 'size_pyung', 'price_pyung'],\n",
       "      dtype='object')"
      ]
     },
     "execution_count": 32,
     "metadata": {},
     "output_type": "execute_result"
    }
   ],
   "source": [
    "df.columns"
   ]
  },
  {
   "cell_type": "code",
   "execution_count": 33,
   "metadata": {},
   "outputs": [],
   "source": [
    "df1 = df.copy()"
   ]
  },
  {
   "cell_type": "code",
   "execution_count": 34,
   "metadata": {},
   "outputs": [],
   "source": [
    "# 평균, 중앙값, 최빈치"
   ]
  },
  {
   "cell_type": "code",
   "execution_count": 35,
   "metadata": {},
   "outputs": [
    {
     "data": {
      "text/html": [
       "<div>\n",
       "<style scoped>\n",
       "    .dataframe tbody tr th:only-of-type {\n",
       "        vertical-align: middle;\n",
       "    }\n",
       "\n",
       "    .dataframe tbody tr th {\n",
       "        vertical-align: top;\n",
       "    }\n",
       "\n",
       "    .dataframe thead th {\n",
       "        text-align: right;\n",
       "    }\n",
       "</style>\n",
       "<table border=\"1\" class=\"dataframe\">\n",
       "  <thead>\n",
       "    <tr style=\"text-align: right;\">\n",
       "      <th></th>\n",
       "      <th>year</th>\n",
       "      <th>month</th>\n",
       "      <th>day</th>\n",
       "      <th>price</th>\n",
       "      <th>built_yr</th>\n",
       "      <th>size</th>\n",
       "      <th>gu_code</th>\n",
       "      <th>size_pyung</th>\n",
       "      <th>price_pyung</th>\n",
       "    </tr>\n",
       "  </thead>\n",
       "  <tbody>\n",
       "    <tr>\n",
       "      <th>count</th>\n",
       "      <td>196.0</td>\n",
       "      <td>196.0</td>\n",
       "      <td>196.000000</td>\n",
       "      <td>196.000000</td>\n",
       "      <td>196.000000</td>\n",
       "      <td>196.000000</td>\n",
       "      <td>196.0</td>\n",
       "      <td>196.000000</td>\n",
       "      <td>196.000000</td>\n",
       "    </tr>\n",
       "    <tr>\n",
       "      <th>mean</th>\n",
       "      <td>2021.0</td>\n",
       "      <td>6.0</td>\n",
       "      <td>15.301020</td>\n",
       "      <td>201090.770408</td>\n",
       "      <td>2000.775510</td>\n",
       "      <td>96.555573</td>\n",
       "      <td>11650.0</td>\n",
       "      <td>28.995668</td>\n",
       "      <td>7378.031921</td>\n",
       "    </tr>\n",
       "    <tr>\n",
       "      <th>std</th>\n",
       "      <td>0.0</td>\n",
       "      <td>0.0</td>\n",
       "      <td>7.946371</td>\n",
       "      <td>95597.319324</td>\n",
       "      <td>12.309288</td>\n",
       "      <td>50.931205</td>\n",
       "      <td>0.0</td>\n",
       "      <td>15.294656</td>\n",
       "      <td>3221.817176</td>\n",
       "    </tr>\n",
       "    <tr>\n",
       "      <th>min</th>\n",
       "      <td>2021.0</td>\n",
       "      <td>6.0</td>\n",
       "      <td>1.000000</td>\n",
       "      <td>19000.000000</td>\n",
       "      <td>1974.000000</td>\n",
       "      <td>18.530000</td>\n",
       "      <td>11650.0</td>\n",
       "      <td>5.564565</td>\n",
       "      <td>2688.707038</td>\n",
       "    </tr>\n",
       "    <tr>\n",
       "      <th>25%</th>\n",
       "      <td>2021.0</td>\n",
       "      <td>6.0</td>\n",
       "      <td>10.750000</td>\n",
       "      <td>139000.000000</td>\n",
       "      <td>1992.750000</td>\n",
       "      <td>60.087500</td>\n",
       "      <td>11650.0</td>\n",
       "      <td>18.044294</td>\n",
       "      <td>4682.251207</td>\n",
       "    </tr>\n",
       "    <tr>\n",
       "      <th>50%</th>\n",
       "      <td>2021.0</td>\n",
       "      <td>6.0</td>\n",
       "      <td>15.000000</td>\n",
       "      <td>206875.000000</td>\n",
       "      <td>2003.000000</td>\n",
       "      <td>84.910000</td>\n",
       "      <td>11650.0</td>\n",
       "      <td>25.498498</td>\n",
       "      <td>6889.850555</td>\n",
       "    </tr>\n",
       "    <tr>\n",
       "      <th>75%</th>\n",
       "      <td>2021.0</td>\n",
       "      <td>6.0</td>\n",
       "      <td>21.000000</td>\n",
       "      <td>270000.000000</td>\n",
       "      <td>2011.000000</td>\n",
       "      <td>115.980000</td>\n",
       "      <td>11650.0</td>\n",
       "      <td>34.828829</td>\n",
       "      <td>9724.376968</td>\n",
       "    </tr>\n",
       "    <tr>\n",
       "      <th>max</th>\n",
       "      <td>2021.0</td>\n",
       "      <td>6.0</td>\n",
       "      <td>30.000000</td>\n",
       "      <td>510000.000000</td>\n",
       "      <td>2020.000000</td>\n",
       "      <td>244.980000</td>\n",
       "      <td>11650.0</td>\n",
       "      <td>73.567568</td>\n",
       "      <td>15601.412596</td>\n",
       "    </tr>\n",
       "  </tbody>\n",
       "</table>\n",
       "</div>"
      ],
      "text/plain": [
       "         year  month         day          price     built_yr        size  \\\n",
       "count   196.0  196.0  196.000000     196.000000   196.000000  196.000000   \n",
       "mean   2021.0    6.0   15.301020  201090.770408  2000.775510   96.555573   \n",
       "std       0.0    0.0    7.946371   95597.319324    12.309288   50.931205   \n",
       "min    2021.0    6.0    1.000000   19000.000000  1974.000000   18.530000   \n",
       "25%    2021.0    6.0   10.750000  139000.000000  1992.750000   60.087500   \n",
       "50%    2021.0    6.0   15.000000  206875.000000  2003.000000   84.910000   \n",
       "75%    2021.0    6.0   21.000000  270000.000000  2011.000000  115.980000   \n",
       "max    2021.0    6.0   30.000000  510000.000000  2020.000000  244.980000   \n",
       "\n",
       "       gu_code  size_pyung   price_pyung  \n",
       "count    196.0  196.000000    196.000000  \n",
       "mean   11650.0   28.995668   7378.031921  \n",
       "std        0.0   15.294656   3221.817176  \n",
       "min    11650.0    5.564565   2688.707038  \n",
       "25%    11650.0   18.044294   4682.251207  \n",
       "50%    11650.0   25.498498   6889.850555  \n",
       "75%    11650.0   34.828829   9724.376968  \n",
       "max    11650.0   73.567568  15601.412596  "
      ]
     },
     "execution_count": 35,
     "metadata": {},
     "output_type": "execute_result"
    }
   ],
   "source": [
    "df1.describe()"
   ]
  },
  {
   "cell_type": "code",
   "execution_count": 36,
   "metadata": {},
   "outputs": [
    {
     "name": "stderr",
     "output_type": "stream",
     "text": [
      "C:\\Users\\OWNER\\AppData\\Local\\Temp\\ipykernel_14080\\2053335143.py:1: FutureWarning: Dropping of nuisance columns in DataFrame reductions (with 'numeric_only=None') is deprecated; in a future version this will raise TypeError.  Select only valid columns before calling the reduction.\n",
      "  df1.mean()\n"
     ]
    },
    {
     "data": {
      "text/plain": [
       "year             2021.000000\n",
       "month               6.000000\n",
       "day                15.301020\n",
       "price          201090.770408\n",
       "built_yr         2000.775510\n",
       "size               96.555573\n",
       "gu_code         11650.000000\n",
       "size_pyung         28.995668\n",
       "price_pyung      7378.031921\n",
       "dtype: float64"
      ]
     },
     "execution_count": 36,
     "metadata": {},
     "output_type": "execute_result"
    }
   ],
   "source": [
    "df1.mean()"
   ]
  },
  {
   "cell_type": "code",
   "execution_count": 37,
   "metadata": {},
   "outputs": [],
   "source": [
    "price_mean = df1['price'].mean()"
   ]
  },
  {
   "cell_type": "code",
   "execution_count": 38,
   "metadata": {},
   "outputs": [
    {
     "data": {
      "text/plain": [
       "201090.77040816325"
      ]
     },
     "execution_count": 38,
     "metadata": {},
     "output_type": "execute_result"
    }
   ],
   "source": [
    "price_mean"
   ]
  },
  {
   "cell_type": "code",
   "execution_count": 39,
   "metadata": {},
   "outputs": [],
   "source": [
    "price_std= df1['price'].std()"
   ]
  },
  {
   "cell_type": "code",
   "execution_count": 40,
   "metadata": {},
   "outputs": [
    {
     "data": {
      "text/plain": [
       "95597.31932419787"
      ]
     },
     "execution_count": 40,
     "metadata": {},
     "output_type": "execute_result"
    }
   ],
   "source": [
    "price_std"
   ]
  },
  {
   "cell_type": "code",
   "execution_count": 41,
   "metadata": {},
   "outputs": [],
   "source": [
    "df.to_csv('house_price1.csv')"
   ]
  },
  {
   "cell_type": "code",
   "execution_count": null,
   "metadata": {},
   "outputs": [],
   "source": []
  }
 ],
 "metadata": {
  "kernelspec": {
   "display_name": "Python 3 (ipykernel)",
   "language": "python",
   "name": "python3"
  },
  "language_info": {
   "codemirror_mode": {
    "name": "ipython",
    "version": 3
   },
   "file_extension": ".py",
   "mimetype": "text/x-python",
   "name": "python",
   "nbconvert_exporter": "python",
   "pygments_lexer": "ipython3",
   "version": "3.9.13"
  }
 },
 "nbformat": 4,
 "nbformat_minor": 2
}
