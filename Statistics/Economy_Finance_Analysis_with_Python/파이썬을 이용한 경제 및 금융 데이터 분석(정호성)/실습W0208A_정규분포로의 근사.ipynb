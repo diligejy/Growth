{
 "cells": [
  {
   "cell_type": "markdown",
   "metadata": {},
   "source": [
    "#  제2장"
   ]
  },
  {
   "cell_type": "code",
   "execution_count": 1,
   "metadata": {},
   "outputs": [],
   "source": [
    "import matplotlib.pyplot as plt\n",
    "%matplotlib inline\n",
    "from matplotlib import rcParams\n",
    "from matplotlib import font_manager, rc\n",
    "import matplotlib.dates as mdates\n",
    "import seaborn as sns\n",
    "import pandas as pd\n",
    "import numpy as np\n",
    "\n",
    "###한글 폰트###\n",
    "rcParams['axes.unicode_minus'] = False\n",
    "plt.rcParams['font.family'] = 'Malgun Gothic'\n",
    "font_name = font_manager.FontProperties(fname=\"c:/Windows/Fonts/malgun.ttf\").get_name()\n",
    "rc('font', family=font_name)\n"
   ]
  },
  {
   "cell_type": "code",
   "execution_count": 14,
   "metadata": {},
   "outputs": [],
   "source": [
    "import scipy.stats as stats"
   ]
  },
  {
   "cell_type": "code",
   "execution_count": 2,
   "metadata": {},
   "outputs": [],
   "source": [
    "df = pd.read_csv('house_price1.csv')"
   ]
  },
  {
   "cell_type": "code",
   "execution_count": 3,
   "metadata": {},
   "outputs": [
    {
     "data": {
      "text/html": [
       "<div>\n",
       "<style scoped>\n",
       "    .dataframe tbody tr th:only-of-type {\n",
       "        vertical-align: middle;\n",
       "    }\n",
       "\n",
       "    .dataframe tbody tr th {\n",
       "        vertical-align: top;\n",
       "    }\n",
       "\n",
       "    .dataframe thead th {\n",
       "        text-align: right;\n",
       "    }\n",
       "</style>\n",
       "<table border=\"1\" class=\"dataframe\">\n",
       "  <thead>\n",
       "    <tr style=\"text-align: right;\">\n",
       "      <th></th>\n",
       "      <th>Unnamed: 0</th>\n",
       "      <th>year</th>\n",
       "      <th>month</th>\n",
       "      <th>day</th>\n",
       "      <th>price</th>\n",
       "      <th>built_yr</th>\n",
       "      <th>dong_name</th>\n",
       "      <th>apt_name</th>\n",
       "      <th>size</th>\n",
       "      <th>gu_code</th>\n",
       "      <th>size_pyung</th>\n",
       "      <th>price_pyung</th>\n",
       "    </tr>\n",
       "  </thead>\n",
       "  <tbody>\n",
       "    <tr>\n",
       "      <th>0</th>\n",
       "      <td>0</td>\n",
       "      <td>2021</td>\n",
       "      <td>6</td>\n",
       "      <td>1</td>\n",
       "      <td>150000</td>\n",
       "      <td>1988</td>\n",
       "      <td>방배동</td>\n",
       "      <td>방배임광</td>\n",
       "      <td>82.34</td>\n",
       "      <td>11650</td>\n",
       "      <td>24.726727</td>\n",
       "      <td>6066.310420</td>\n",
       "    </tr>\n",
       "    <tr>\n",
       "      <th>1</th>\n",
       "      <td>1</td>\n",
       "      <td>2021</td>\n",
       "      <td>6</td>\n",
       "      <td>1</td>\n",
       "      <td>155000</td>\n",
       "      <td>2003</td>\n",
       "      <td>방배동</td>\n",
       "      <td>삼환나띠르빌(1002-9)</td>\n",
       "      <td>148.99</td>\n",
       "      <td>11650</td>\n",
       "      <td>44.741742</td>\n",
       "      <td>3464.326465</td>\n",
       "    </tr>\n",
       "    <tr>\n",
       "      <th>2</th>\n",
       "      <td>2</td>\n",
       "      <td>2021</td>\n",
       "      <td>6</td>\n",
       "      <td>2</td>\n",
       "      <td>290000</td>\n",
       "      <td>1983</td>\n",
       "      <td>방배동</td>\n",
       "      <td>방배신삼호</td>\n",
       "      <td>185.46</td>\n",
       "      <td>11650</td>\n",
       "      <td>55.693694</td>\n",
       "      <td>5207.052734</td>\n",
       "    </tr>\n",
       "    <tr>\n",
       "      <th>3</th>\n",
       "      <td>3</td>\n",
       "      <td>2021</td>\n",
       "      <td>6</td>\n",
       "      <td>2</td>\n",
       "      <td>210000</td>\n",
       "      <td>2006</td>\n",
       "      <td>방배동</td>\n",
       "      <td>롯데캐슬헤론</td>\n",
       "      <td>169.08</td>\n",
       "      <td>11650</td>\n",
       "      <td>50.774775</td>\n",
       "      <td>4135.911994</td>\n",
       "    </tr>\n",
       "    <tr>\n",
       "      <th>4</th>\n",
       "      <td>4</td>\n",
       "      <td>2021</td>\n",
       "      <td>6</td>\n",
       "      <td>2</td>\n",
       "      <td>175000</td>\n",
       "      <td>1992</td>\n",
       "      <td>방배동</td>\n",
       "      <td>대우(효령)</td>\n",
       "      <td>84.91</td>\n",
       "      <td>11650</td>\n",
       "      <td>25.498498</td>\n",
       "      <td>6863.149217</td>\n",
       "    </tr>\n",
       "  </tbody>\n",
       "</table>\n",
       "</div>"
      ],
      "text/plain": [
       "   Unnamed: 0  year  month  day   price  built_yr dong_name        apt_name  \\\n",
       "0           0  2021      6    1  150000      1988       방배동            방배임광   \n",
       "1           1  2021      6    1  155000      2003       방배동  삼환나띠르빌(1002-9)   \n",
       "2           2  2021      6    2  290000      1983       방배동           방배신삼호   \n",
       "3           3  2021      6    2  210000      2006       방배동          롯데캐슬헤론   \n",
       "4           4  2021      6    2  175000      1992       방배동          대우(효령)   \n",
       "\n",
       "     size  gu_code  size_pyung  price_pyung  \n",
       "0   82.34    11650   24.726727  6066.310420  \n",
       "1  148.99    11650   44.741742  3464.326465  \n",
       "2  185.46    11650   55.693694  5207.052734  \n",
       "3  169.08    11650   50.774775  4135.911994  \n",
       "4   84.91    11650   25.498498  6863.149217  "
      ]
     },
     "execution_count": 3,
     "metadata": {},
     "output_type": "execute_result"
    }
   ],
   "source": [
    "df.head()"
   ]
  },
  {
   "cell_type": "code",
   "execution_count": 4,
   "metadata": {},
   "outputs": [],
   "source": [
    "df = df.drop('Unnamed: 0', axis=1) # 1 column, 0 row"
   ]
  },
  {
   "cell_type": "code",
   "execution_count": 5,
   "metadata": {},
   "outputs": [],
   "source": [
    "df['price_pyung'] = df['price']/df['size_pyung']"
   ]
  },
  {
   "cell_type": "code",
   "execution_count": 6,
   "metadata": {},
   "outputs": [],
   "source": [
    "df1 = df.loc[df['dong_name'].isin([\"잠원동\"])]"
   ]
  },
  {
   "cell_type": "code",
   "execution_count": 7,
   "metadata": {},
   "outputs": [
    {
     "data": {
      "text/html": [
       "<div>\n",
       "<style scoped>\n",
       "    .dataframe tbody tr th:only-of-type {\n",
       "        vertical-align: middle;\n",
       "    }\n",
       "\n",
       "    .dataframe tbody tr th {\n",
       "        vertical-align: top;\n",
       "    }\n",
       "\n",
       "    .dataframe thead th {\n",
       "        text-align: right;\n",
       "    }\n",
       "</style>\n",
       "<table border=\"1\" class=\"dataframe\">\n",
       "  <thead>\n",
       "    <tr style=\"text-align: right;\">\n",
       "      <th></th>\n",
       "      <th>year</th>\n",
       "      <th>month</th>\n",
       "      <th>day</th>\n",
       "      <th>price</th>\n",
       "      <th>built_yr</th>\n",
       "      <th>dong_name</th>\n",
       "      <th>apt_name</th>\n",
       "      <th>size</th>\n",
       "      <th>gu_code</th>\n",
       "      <th>size_pyung</th>\n",
       "      <th>price_pyung</th>\n",
       "    </tr>\n",
       "  </thead>\n",
       "  <tbody>\n",
       "    <tr>\n",
       "      <th>66</th>\n",
       "      <td>2021</td>\n",
       "      <td>6</td>\n",
       "      <td>1</td>\n",
       "      <td>197941</td>\n",
       "      <td>2000</td>\n",
       "      <td>잠원동</td>\n",
       "      <td>노블레스</td>\n",
       "      <td>152.01</td>\n",
       "      <td>11650</td>\n",
       "      <td>45.648649</td>\n",
       "      <td>4336.185317</td>\n",
       "    </tr>\n",
       "    <tr>\n",
       "      <th>67</th>\n",
       "      <td>2021</td>\n",
       "      <td>6</td>\n",
       "      <td>1</td>\n",
       "      <td>215000</td>\n",
       "      <td>2000</td>\n",
       "      <td>잠원동</td>\n",
       "      <td>노블레스</td>\n",
       "      <td>152.01</td>\n",
       "      <td>11650</td>\n",
       "      <td>45.648649</td>\n",
       "      <td>4709.887507</td>\n",
       "    </tr>\n",
       "    <tr>\n",
       "      <th>68</th>\n",
       "      <td>2021</td>\n",
       "      <td>6</td>\n",
       "      <td>1</td>\n",
       "      <td>163000</td>\n",
       "      <td>1985</td>\n",
       "      <td>잠원동</td>\n",
       "      <td>신반포27</td>\n",
       "      <td>53.46</td>\n",
       "      <td>11650</td>\n",
       "      <td>16.054054</td>\n",
       "      <td>10153.198653</td>\n",
       "    </tr>\n",
       "    <tr>\n",
       "      <th>69</th>\n",
       "      <td>2021</td>\n",
       "      <td>6</td>\n",
       "      <td>2</td>\n",
       "      <td>249000</td>\n",
       "      <td>1981</td>\n",
       "      <td>잠원동</td>\n",
       "      <td>신반포10</td>\n",
       "      <td>76.32</td>\n",
       "      <td>11650</td>\n",
       "      <td>22.918919</td>\n",
       "      <td>10864.386792</td>\n",
       "    </tr>\n",
       "    <tr>\n",
       "      <th>70</th>\n",
       "      <td>2021</td>\n",
       "      <td>6</td>\n",
       "      <td>2</td>\n",
       "      <td>249000</td>\n",
       "      <td>1981</td>\n",
       "      <td>잠원동</td>\n",
       "      <td>신반포10</td>\n",
       "      <td>76.32</td>\n",
       "      <td>11650</td>\n",
       "      <td>22.918919</td>\n",
       "      <td>10864.386792</td>\n",
       "    </tr>\n",
       "  </tbody>\n",
       "</table>\n",
       "</div>"
      ],
      "text/plain": [
       "    year  month  day   price  built_yr dong_name apt_name    size  gu_code  \\\n",
       "66  2021      6    1  197941      2000       잠원동     노블레스  152.01    11650   \n",
       "67  2021      6    1  215000      2000       잠원동     노블레스  152.01    11650   \n",
       "68  2021      6    1  163000      1985       잠원동    신반포27   53.46    11650   \n",
       "69  2021      6    2  249000      1981       잠원동    신반포10   76.32    11650   \n",
       "70  2021      6    2  249000      1981       잠원동    신반포10   76.32    11650   \n",
       "\n",
       "    size_pyung   price_pyung  \n",
       "66   45.648649   4336.185317  \n",
       "67   45.648649   4709.887507  \n",
       "68   16.054054  10153.198653  \n",
       "69   22.918919  10864.386792  \n",
       "70   22.918919  10864.386792  "
      ]
     },
     "execution_count": 7,
     "metadata": {},
     "output_type": "execute_result"
    }
   ],
   "source": [
    "df1.head()"
   ]
  },
  {
   "cell_type": "code",
   "execution_count": 8,
   "metadata": {},
   "outputs": [],
   "source": [
    "x = df1['price_pyung']"
   ]
  },
  {
   "cell_type": "code",
   "execution_count": 9,
   "metadata": {},
   "outputs": [],
   "source": [
    "mu = np.mean(x)\n",
    "sigma = np.std(x)"
   ]
  },
  {
   "cell_type": "code",
   "execution_count": 15,
   "metadata": {},
   "outputs": [
    {
     "data": {
      "image/png": "[encoded data removed]",
      "text/plain": [
       "<Figure size 1800x500 with 2 Axes>"
      ]
     },
     "metadata": {},
     "output_type": "display_data"
    }
   ],
   "source": [
    "fig, ax = plt.subplots(nrows=1, ncols=2, figsize=(18, 5))\n",
    "\n",
    "np.random.seed(6789)\n",
    "\n",
    "ax[0].hist(x, bins=20, color='c', edgecolor='k', alpha=0.65)\n",
    "ax[0].set_ylim(0, 7)\n",
    "ax[0].grid()\n",
    "\n",
    "x1 = np.linspace(mu - 3*sigma, mu + 3*sigma, 100)\n",
    "sns.kdeplot(df1['price_pyung'], shade=True, label='실제분포', ax=ax[1]) \n",
    "ax[1].plot(x1, stats.norm.pdf(x1, mu, sigma), color='red', label=\"정규분포\")\n",
    "\n",
    "ax[1].grid()\n",
    "ax[1].legend()\n",
    "ax[1].set_xlabel(\"\")\n",
    "plt.savefig(\"히스토그램_잠원동.png\", dpi=150, bbox_inches='tight')\n",
    "plt.show()"
   ]
  }
 ],
 "metadata": {
  "kernelspec": {
   "display_name": "Python 3 (ipykernel)",
   "language": "python",
   "name": "python3"
  },
  "language_info": {
   "codemirror_mode": {
    "name": "ipython",
    "version": 3
   },
   "file_extension": ".py",
   "mimetype": "text/x-python",
   "name": "python",
   "nbconvert_exporter": "python",
   "pygments_lexer": "ipython3",
   "version": "3.9.13"
  }
 },
 "nbformat": 4,
 "nbformat_minor": 2
}
