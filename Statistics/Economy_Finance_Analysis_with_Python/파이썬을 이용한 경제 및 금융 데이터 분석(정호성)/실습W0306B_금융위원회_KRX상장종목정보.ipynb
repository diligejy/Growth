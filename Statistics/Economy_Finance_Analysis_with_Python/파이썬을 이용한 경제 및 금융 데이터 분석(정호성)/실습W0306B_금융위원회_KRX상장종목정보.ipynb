{
 "cells": [
  {
   "cell_type": "code",
   "execution_count": 1,
   "metadata": {},
   "outputs": [],
   "source": [
    "import numpy as np\n",
    "import pandas as pd"
   ]
  },
  {
   "cell_type": "code",
   "execution_count": 2,
   "metadata": {},
   "outputs": [],
   "source": [
    "from urllib.request import urlopen\n",
    "from bs4 import BeautifulSoup"
   ]
  },
  {
   "cell_type": "markdown",
   "metadata": {},
   "source": [
    "## <font color=blue> 1.금융위원회_종목가져오기"
   ]
  },
  {
   "cell_type": "markdown",
   "metadata": {},
   "source": [
    "### 1.1.1 공공데이타포털"
   ]
  },
  {
   "cell_type": "markdown",
   "metadata": {},
   "source": [
    "* 주식시세정보를 API를 통해서 입수하기"
   ]
  },
  {
   "cell_type": "code",
   "execution_count": 3,
   "metadata": {},
   "outputs": [],
   "source": [
    "from urllib.request import urlopen\n",
    "import pandas as pd\n",
    "from bs4 import BeautifulSoup\n",
    "\n",
    "ServiceKey = \"PQHpCPO8XCUXCPOF7nf1CW1ue7o92cGPp5Wurd%2F8Dc370C7cl2U3K%2F9MiRRWvDANczMiUiDNHyIPA%2F92YqiK9A%3D%3D\"\n",
    "numOfRows=3000\n",
    "baseDate = 20220624\n",
    "\n",
    "url = \"https://api.odcloud.kr/api/GetKrxListedInfoService/v1/getItemInfo?numOfRows=\"+str(numOfRows)+\"&basDt=\"+str(baseDate)+\"&serviceKey=\"+str(ServiceKey)\n",
    "\n",
    "result = urlopen(url) #this is for response of XML\n",
    "stock = BeautifulSoup(result, 'lxml-xml')\n",
    "te=stock.find_all(\"item\")\n"
   ]
  },
  {
   "cell_type": "code",
   "execution_count": 4,
   "metadata": {},
   "outputs": [
    {
     "data": {
      "text/plain": [
       "2483"
      ]
     },
     "execution_count": 4,
     "metadata": {},
     "output_type": "execute_result"
    }
   ],
   "source": [
    "len(te)"
   ]
  },
  {
   "cell_type": "code",
   "execution_count": 5,
   "metadata": {},
   "outputs": [
    {
     "name": "stdout",
     "output_type": "stream",
     "text": [
      "<item>\n",
      "<basDt>20220624</basDt>\n",
      "<srtnCd>A000020</srtnCd>\n",
      "<isinCd>KR7000020008</isinCd>\n",
      "<mrktCtg>KOSPI</mrktCtg>\n",
      "<itmsNm>동화약품</itmsNm>\n",
      "<crno>1101110043870</crno>\n",
      "<corpNm>동화약품(주)</corpNm>\n",
      "</item>\n"
     ]
    }
   ],
   "source": [
    "print(te[0])"
   ]
  },
  {
   "cell_type": "code",
   "execution_count": 6,
   "metadata": {},
   "outputs": [],
   "source": [
    "k = len(te)"
   ]
  },
  {
   "cell_type": "code",
   "execution_count": 7,
   "metadata": {},
   "outputs": [
    {
     "data": {
      "text/plain": [
       "2483"
      ]
     },
     "execution_count": 7,
     "metadata": {},
     "output_type": "execute_result"
    }
   ],
   "source": [
    "k"
   ]
  },
  {
   "cell_type": "code",
   "execution_count": 9,
   "metadata": {},
   "outputs": [],
   "source": [
    "data = []\n",
    "\n",
    "for i in range(len(te)):\n",
    "    \n",
    "    date = te[i].basDt.string.strip()   \n",
    "    market = te[i].mrktCtg.string.strip()         \n",
    "\n",
    "    name = te[i].itmsNm.string.strip()\n",
    "    fullName = te[i].corpNm.string.strip()\n",
    "    \n",
    "    code = te[i].srtnCd.string.strip()\n",
    "    fullCode = te[i].isinCd.string.strip()\n",
    "    bubinCode = te[i].crno.string.strip()\n",
    "     \n",
    "    total = [date, market, name, fullName, code, fullCode, bubinCode]\n",
    "    data.append(total)\n",
    "   \n",
    "    "
   ]
  },
  {
   "cell_type": "code",
   "execution_count": 10,
   "metadata": {},
   "outputs": [],
   "source": [
    "temp = pd.DataFrame(data, columns= [\"date\", \"market\", \"name\", \"fullName\", \"code\", \"fullCode\", \"bubinCode\"])"
   ]
  },
  {
   "cell_type": "code",
   "execution_count": 11,
   "metadata": {},
   "outputs": [
    {
     "data": {
      "text/html": [
       "<div>\n",
       "<style scoped>\n",
       "    .dataframe tbody tr th:only-of-type {\n",
       "        vertical-align: middle;\n",
       "    }\n",
       "\n",
       "    .dataframe tbody tr th {\n",
       "        vertical-align: top;\n",
       "    }\n",
       "\n",
       "    .dataframe thead th {\n",
       "        text-align: right;\n",
       "    }\n",
       "</style>\n",
       "<table border=\"1\" class=\"dataframe\">\n",
       "  <thead>\n",
       "    <tr style=\"text-align: right;\">\n",
       "      <th></th>\n",
       "      <th>date</th>\n",
       "      <th>market</th>\n",
       "      <th>name</th>\n",
       "      <th>fullName</th>\n",
       "      <th>code</th>\n",
       "      <th>fullCode</th>\n",
       "      <th>bubinCode</th>\n",
       "    </tr>\n",
       "  </thead>\n",
       "  <tbody>\n",
       "    <tr>\n",
       "      <th>2478</th>\n",
       "      <td>20220624</td>\n",
       "      <td>KOSPI</td>\n",
       "      <td>코람코더원리츠</td>\n",
       "      <td>(주)코람코더원위탁관리부동산투자회사</td>\n",
       "      <td>A417310</td>\n",
       "      <td>KR7417310000</td>\n",
       "      <td>1101115837294</td>\n",
       "    </tr>\n",
       "    <tr>\n",
       "      <th>2479</th>\n",
       "      <td>20220624</td>\n",
       "      <td>KOSDAQ</td>\n",
       "      <td>하나금융22호스팩</td>\n",
       "      <td>하나금융22호기업인수목적 주식회사</td>\n",
       "      <td>A418170</td>\n",
       "      <td>KR7418170007</td>\n",
       "      <td>1101118164959</td>\n",
       "    </tr>\n",
       "    <tr>\n",
       "      <th>2480</th>\n",
       "      <td>20220624</td>\n",
       "      <td>KOSDAQ</td>\n",
       "      <td>신영스팩7호</td>\n",
       "      <td>신영해피투모로우제7호기업인수목적 주식회사</td>\n",
       "      <td>A419270</td>\n",
       "      <td>KR7419270004</td>\n",
       "      <td>1101118173760</td>\n",
       "    </tr>\n",
       "    <tr>\n",
       "      <th>2481</th>\n",
       "      <td>20220624</td>\n",
       "      <td>KOSDAQ</td>\n",
       "      <td>교보12호스팩</td>\n",
       "      <td>교보12호기업인수목적 주식회사</td>\n",
       "      <td>A421800</td>\n",
       "      <td>KR7421800004</td>\n",
       "      <td>1101118199592</td>\n",
       "    </tr>\n",
       "    <tr>\n",
       "      <th>2482</th>\n",
       "      <td>20220624</td>\n",
       "      <td>KOSDAQ</td>\n",
       "      <td>케이비제21호스팩</td>\n",
       "      <td>케이비제21호기업인수목적 주식회사</td>\n",
       "      <td>A424140</td>\n",
       "      <td>KR7424140002</td>\n",
       "      <td>1101118228987</td>\n",
       "    </tr>\n",
       "  </tbody>\n",
       "</table>\n",
       "</div>"
      ],
      "text/plain": [
       "          date  market       name                fullName     code  \\\n",
       "2478  20220624   KOSPI    코람코더원리츠     (주)코람코더원위탁관리부동산투자회사  A417310   \n",
       "2479  20220624  KOSDAQ  하나금융22호스팩      하나금융22호기업인수목적 주식회사  A418170   \n",
       "2480  20220624  KOSDAQ     신영스팩7호  신영해피투모로우제7호기업인수목적 주식회사  A419270   \n",
       "2481  20220624  KOSDAQ    교보12호스팩        교보12호기업인수목적 주식회사  A421800   \n",
       "2482  20220624  KOSDAQ  케이비제21호스팩      케이비제21호기업인수목적 주식회사  A424140   \n",
       "\n",
       "          fullCode      bubinCode  \n",
       "2478  KR7417310000  1101115837294  \n",
       "2479  KR7418170007  1101118164959  \n",
       "2480  KR7419270004  1101118173760  \n",
       "2481  KR7421800004  1101118199592  \n",
       "2482  KR7424140002  1101118228987  "
      ]
     },
     "execution_count": 11,
     "metadata": {},
     "output_type": "execute_result"
    }
   ],
   "source": [
    "temp.tail()"
   ]
  }
 ],
 "metadata": {
  "kernelspec": {
   "display_name": "Python 3 (ipykernel)",
   "language": "python",
   "name": "python3"
  },
  "language_info": {
   "codemirror_mode": {
    "name": "ipython",
    "version": 3
   },
   "file_extension": ".py",
   "mimetype": "text/x-python",
   "name": "python",
   "nbconvert_exporter": "python",
   "pygments_lexer": "ipython3",
   "version": "3.9.13"
  }
 },
 "nbformat": 4,
 "nbformat_minor": 2
}
