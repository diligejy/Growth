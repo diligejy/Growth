{
 "cells": [
  {
   "cell_type": "code",
   "execution_count": 1,
   "metadata": {},
   "outputs": [],
   "source": [
    "%matplotlib inline\n",
    "import matplotlib.pyplot as plt"
   ]
  },
  {
   "cell_type": "code",
   "execution_count": 2,
   "metadata": {},
   "outputs": [],
   "source": [
    "import pandas as pd\n",
    "import numpy as np"
   ]
  },
  {
   "cell_type": "code",
   "execution_count": 3,
   "metadata": {},
   "outputs": [],
   "source": [
    "df = pd.read_csv(\"household_2020a.csv\")"
   ]
  },
  {
   "cell_type": "code",
   "execution_count": 10,
   "metadata": {},
   "outputs": [],
   "source": [
    "income = df['income'].dropna()"
   ]
  },
  {
   "cell_type": "code",
   "execution_count": 11,
   "metadata": {},
   "outputs": [
    {
     "data": {
      "text/plain": [
       "18064"
      ]
     },
     "execution_count": 11,
     "metadata": {},
     "output_type": "execute_result"
    }
   ],
   "source": [
    "len(income)"
   ]
  },
  {
   "cell_type": "code",
   "execution_count": 19,
   "metadata": {},
   "outputs": [],
   "source": [
    "n = 100\n",
    "\n",
    "interval=np.zeros((n,2)) # lower bound, higher bound\n",
    "\n",
    "for i in range(n):\n",
    "    sample = np.random.choice(income, size=500, replace=True)\n",
    "    se = np.std(sample) / np.sqrt(len(sample))\n",
    "    mn = np.mean(sample)\n",
    "    lb = mn - 2*se\n",
    "    hb = mn + 2*se\n",
    "    interval[i-1][0] = lb\n",
    "    interval[i-1][1] = hb"
   ]
  },
  {
   "cell_type": "code",
   "execution_count": 20,
   "metadata": {},
   "outputs": [],
   "source": [
    "df1 = pd.DataFrame(data=interval, columns=[\"lb\",\"hb\"])"
   ]
  },
  {
   "cell_type": "code",
   "execution_count": 21,
   "metadata": {},
   "outputs": [],
   "source": [
    "df1['mean'] = np.mean(income)"
   ]
  },
  {
   "cell_type": "code",
   "execution_count": 22,
   "metadata": {},
   "outputs": [
    {
     "data": {
      "text/html": [
       "<div>\n",
       "<style scoped>\n",
       "    .dataframe tbody tr th:only-of-type {\n",
       "        vertical-align: middle;\n",
       "    }\n",
       "\n",
       "    .dataframe tbody tr th {\n",
       "        vertical-align: top;\n",
       "    }\n",
       "\n",
       "    .dataframe thead th {\n",
       "        text-align: right;\n",
       "    }\n",
       "</style>\n",
       "<table border=\"1\" class=\"dataframe\">\n",
       "  <thead>\n",
       "    <tr style=\"text-align: right;\">\n",
       "      <th></th>\n",
       "      <th>lb</th>\n",
       "      <th>hb</th>\n",
       "      <th>mean</th>\n",
       "    </tr>\n",
       "  </thead>\n",
       "  <tbody>\n",
       "    <tr>\n",
       "      <th>95</th>\n",
       "      <td>5171.430683</td>\n",
       "      <td>5982.589317</td>\n",
       "      <td>5494.711138</td>\n",
       "    </tr>\n",
       "    <tr>\n",
       "      <th>96</th>\n",
       "      <td>5013.076575</td>\n",
       "      <td>5855.487425</td>\n",
       "      <td>5494.711138</td>\n",
       "    </tr>\n",
       "    <tr>\n",
       "      <th>97</th>\n",
       "      <td>4753.770614</td>\n",
       "      <td>5487.377386</td>\n",
       "      <td>5494.711138</td>\n",
       "    </tr>\n",
       "    <tr>\n",
       "      <th>98</th>\n",
       "      <td>5109.399178</td>\n",
       "      <td>5858.272822</td>\n",
       "      <td>5494.711138</td>\n",
       "    </tr>\n",
       "    <tr>\n",
       "      <th>99</th>\n",
       "      <td>5303.826359</td>\n",
       "      <td>6229.609641</td>\n",
       "      <td>5494.711138</td>\n",
       "    </tr>\n",
       "  </tbody>\n",
       "</table>\n",
       "</div>"
      ],
      "text/plain": [
       "             lb           hb         mean\n",
       "95  5171.430683  5982.589317  5494.711138\n",
       "96  5013.076575  5855.487425  5494.711138\n",
       "97  4753.770614  5487.377386  5494.711138\n",
       "98  5109.399178  5858.272822  5494.711138\n",
       "99  5303.826359  6229.609641  5494.711138"
      ]
     },
     "execution_count": 22,
     "metadata": {},
     "output_type": "execute_result"
    }
   ],
   "source": [
    "df1.tail()"
   ]
  },
  {
   "cell_type": "code",
   "execution_count": 23,
   "metadata": {},
   "outputs": [],
   "source": [
    "df1['test_l'] = np.where(( df1['mean'] < df1['lb']), 1, 0) # \n",
    "df1['test_h'] = np.where(( df1['mean'] > df1['hb']), 1, 0) # "
   ]
  },
  {
   "cell_type": "code",
   "execution_count": 24,
   "metadata": {},
   "outputs": [],
   "source": [
    "df1['test_t'] = df1['test_l'] + df1['test_h']"
   ]
  },
  {
   "cell_type": "code",
   "execution_count": 25,
   "metadata": {},
   "outputs": [
    {
     "data": {
      "text/html": [
       "<div>\n",
       "<style scoped>\n",
       "    .dataframe tbody tr th:only-of-type {\n",
       "        vertical-align: middle;\n",
       "    }\n",
       "\n",
       "    .dataframe tbody tr th {\n",
       "        vertical-align: top;\n",
       "    }\n",
       "\n",
       "    .dataframe thead th {\n",
       "        text-align: right;\n",
       "    }\n",
       "</style>\n",
       "<table border=\"1\" class=\"dataframe\">\n",
       "  <thead>\n",
       "    <tr style=\"text-align: right;\">\n",
       "      <th></th>\n",
       "      <th>lb</th>\n",
       "      <th>hb</th>\n",
       "      <th>mean</th>\n",
       "      <th>test_l</th>\n",
       "      <th>test_h</th>\n",
       "      <th>test_t</th>\n",
       "    </tr>\n",
       "  </thead>\n",
       "  <tbody>\n",
       "    <tr>\n",
       "      <th>95</th>\n",
       "      <td>5171.430683</td>\n",
       "      <td>5982.589317</td>\n",
       "      <td>5494.711138</td>\n",
       "      <td>0</td>\n",
       "      <td>0</td>\n",
       "      <td>0</td>\n",
       "    </tr>\n",
       "    <tr>\n",
       "      <th>96</th>\n",
       "      <td>5013.076575</td>\n",
       "      <td>5855.487425</td>\n",
       "      <td>5494.711138</td>\n",
       "      <td>0</td>\n",
       "      <td>0</td>\n",
       "      <td>0</td>\n",
       "    </tr>\n",
       "    <tr>\n",
       "      <th>97</th>\n",
       "      <td>4753.770614</td>\n",
       "      <td>5487.377386</td>\n",
       "      <td>5494.711138</td>\n",
       "      <td>0</td>\n",
       "      <td>1</td>\n",
       "      <td>1</td>\n",
       "    </tr>\n",
       "    <tr>\n",
       "      <th>98</th>\n",
       "      <td>5109.399178</td>\n",
       "      <td>5858.272822</td>\n",
       "      <td>5494.711138</td>\n",
       "      <td>0</td>\n",
       "      <td>0</td>\n",
       "      <td>0</td>\n",
       "    </tr>\n",
       "    <tr>\n",
       "      <th>99</th>\n",
       "      <td>5303.826359</td>\n",
       "      <td>6229.609641</td>\n",
       "      <td>5494.711138</td>\n",
       "      <td>0</td>\n",
       "      <td>0</td>\n",
       "      <td>0</td>\n",
       "    </tr>\n",
       "  </tbody>\n",
       "</table>\n",
       "</div>"
      ],
      "text/plain": [
       "             lb           hb         mean  test_l  test_h  test_t\n",
       "95  5171.430683  5982.589317  5494.711138       0       0       0\n",
       "96  5013.076575  5855.487425  5494.711138       0       0       0\n",
       "97  4753.770614  5487.377386  5494.711138       0       1       1\n",
       "98  5109.399178  5858.272822  5494.711138       0       0       0\n",
       "99  5303.826359  6229.609641  5494.711138       0       0       0"
      ]
     },
     "execution_count": 25,
     "metadata": {},
     "output_type": "execute_result"
    }
   ],
   "source": [
    "df1.tail()"
   ]
  },
  {
   "cell_type": "code",
   "execution_count": 26,
   "metadata": {},
   "outputs": [
    {
     "data": {
      "text/plain": [
       "2"
      ]
     },
     "execution_count": 26,
     "metadata": {},
     "output_type": "execute_result"
    }
   ],
   "source": [
    "df1['test_t'].sum()"
   ]
  },
  {
   "cell_type": "code",
   "execution_count": 27,
   "metadata": {},
   "outputs": [],
   "source": [
    "#graph"
   ]
  },
  {
   "cell_type": "code",
   "execution_count": 28,
   "metadata": {},
   "outputs": [
    {
     "data": {
      "text/plain": [
       "array([[4837.53366498, 5667.24633502],\n",
       "       [5052.09934442, 5866.41665558],\n",
       "       [4969.24335324, 5802.22464676],\n",
       "       [5308.14117809, 6173.40282191],\n",
       "       [5036.17329503, 7039.07470497],\n",
       "       [5176.06445138, 6109.68754862],\n",
       "       [5130.78657571, 6106.11742429],\n",
       "       [5176.18222648, 6004.04577352],\n",
       "       [5336.79594911, 6200.32805089],\n",
       "       [5362.13816188, 6478.19383812],\n",
       "       [4980.48705336, 5837.30094664],\n",
       "       [5019.39938639, 5973.69261361],\n",
       "       [4936.46589233, 5760.88210767],\n",
       "       [5404.01872988, 6345.61727012],\n",
       "       [4987.51214134, 5840.42385866],\n",
       "       [5143.81168875, 6149.76831125],\n",
       "       [5386.64286384, 6437.29313616],\n",
       "       [5120.72769289, 6272.20430711],\n",
       "       [5157.83555493, 6443.90844507],\n",
       "       [5053.26482781, 6076.91117219],\n",
       "       [5489.32207733, 6409.10992267],\n",
       "       [5138.36560853, 6160.82639147],\n",
       "       [4906.84596722, 5772.88203278],\n",
       "       [4943.99906575, 5830.92893425],\n",
       "       [5369.47597466, 6416.38402534],\n",
       "       [4966.47030314, 5857.94569686],\n",
       "       [4914.56221105, 5687.74578895],\n",
       "       [5064.1471205 , 5909.2568795 ],\n",
       "       [5029.50587099, 5815.62212901],\n",
       "       [5182.31398835, 6073.13001165],\n",
       "       [5221.12818615, 6230.26781385],\n",
       "       [5307.18044732, 6156.67555268],\n",
       "       [5022.63685556, 5967.41514444],\n",
       "       [5437.05552091, 6592.23247909],\n",
       "       [5061.38813167, 5859.97986833],\n",
       "       [4892.46693281, 5790.16506719],\n",
       "       [5081.58837403, 5912.28362597],\n",
       "       [4762.79203641, 5498.40396359],\n",
       "       [5128.9767242 , 6036.1952758 ],\n",
       "       [4900.0502748 , 5741.8857252 ],\n",
       "       [4932.44027413, 6111.89972587],\n",
       "       [4957.01919522, 5731.22480478],\n",
       "       [5030.63285146, 5812.41114854],\n",
       "       [5235.95064639, 6116.35335361],\n",
       "       [4926.27636372, 5895.05563628],\n",
       "       [4931.38434224, 5761.74765776],\n",
       "       [5058.81137522, 5878.47262478],\n",
       "       [5300.40068739, 6212.45931261],\n",
       "       [5032.85281673, 6044.80718327],\n",
       "       [4979.74946734, 5848.88653266],\n",
       "       [5290.82213924, 6310.82186076],\n",
       "       [5032.82994114, 5792.96205886],\n",
       "       [5340.82373967, 6306.75226033],\n",
       "       [5130.44679066, 6035.59720934],\n",
       "       [5231.64123946, 6209.91076054],\n",
       "       [4648.13124872, 5591.67675128],\n",
       "       [4788.79422994, 5596.64177006],\n",
       "       [4931.75782537, 5801.87417463],\n",
       "       [5469.8474267 , 6572.9205733 ],\n",
       "       [5010.66623633, 5898.65376367],\n",
       "       [4767.85901256, 5600.52898744],\n",
       "       [4660.49793858, 5340.29006142],\n",
       "       [4864.50598518, 5681.29401482],\n",
       "       [4992.03628432, 5817.75171568],\n",
       "       [5002.16785612, 5965.43214388],\n",
       "       [5216.33002054, 6427.52597946],\n",
       "       [4789.93731967, 5625.50268033],\n",
       "       [5125.89050054, 6045.13349946],\n",
       "       [5409.00893585, 6309.60706415],\n",
       "       [4848.91573119, 5699.35226881],\n",
       "       [4957.07585699, 6937.35614301],\n",
       "       [4933.36910089, 5690.01889911],\n",
       "       [4923.91573677, 5751.79226323],\n",
       "       [4823.8781951 , 6412.4618049 ],\n",
       "       [4953.61696895, 6929.87103105],\n",
       "       [4994.06178847, 5958.28621153],\n",
       "       [5202.10601962, 6049.57398038],\n",
       "       [5308.36768658, 6346.80031342],\n",
       "       [5309.69124095, 6361.77675905],\n",
       "       [4875.49915174, 5609.35284826],\n",
       "       [5228.57322615, 5999.79877385],\n",
       "       [5001.11373837, 5956.36626163],\n",
       "       [4886.93845178, 5745.54954822],\n",
       "       [5225.15142468, 6098.78457532],\n",
       "       [4857.55192135, 5692.50807865],\n",
       "       [4794.75468397, 5584.53331603],\n",
       "       [4914.89864916, 5805.41335084],\n",
       "       [5049.09905624, 5990.76894376],\n",
       "       [5018.55360122, 5965.61439878],\n",
       "       [5228.53775454, 6133.79824546],\n",
       "       [5026.55002035, 6030.36597965],\n",
       "       [4879.52722193, 5749.43277807],\n",
       "       [5357.50785027, 6501.65614973],\n",
       "       [5105.51873737, 6275.56926263],\n",
       "       [4884.44115357, 5865.39884643],\n",
       "       [5171.43068343, 5982.58931657],\n",
       "       [5013.07657521, 5855.48742479],\n",
       "       [4753.77061423, 5487.37738577],\n",
       "       [5109.39917765, 5858.27282235],\n",
       "       [5303.82635885, 6229.60964115]])"
      ]
     },
     "execution_count": 28,
     "metadata": {},
     "output_type": "execute_result"
    }
   ],
   "source": [
    "interval"
   ]
  },
  {
   "cell_type": "code",
   "execution_count": 29,
   "metadata": {},
   "outputs": [
    {
     "data": {
      "text/plain": [
       "100"
      ]
     },
     "execution_count": 29,
     "metadata": {},
     "output_type": "execute_result"
    }
   ],
   "source": [
    "len(interval)"
   ]
  },
  {
   "cell_type": "code",
   "execution_count": 33,
   "metadata": {},
   "outputs": [],
   "source": [
    "c = [x for x in range(1, 101)]"
   ]
  },
  {
   "cell_type": "code",
   "execution_count": 34,
   "metadata": {},
   "outputs": [],
   "source": [
    "data_dict = {}\n",
    "data_dict['category'] = c\n",
    "data_dict['lower'] = interval[:, 0] \n",
    "data_dict['upper'] = interval[:, 1] \n",
    "dataset = pd.DataFrame(data_dict)"
   ]
  },
  {
   "cell_type": "code",
   "execution_count": 35,
   "metadata": {},
   "outputs": [
    {
     "data": {
      "image/png": "[encoded data removed]",
      "text/plain": [
       "<Figure size 1500x800 with 1 Axes>"
      ]
     },
     "metadata": {},
     "output_type": "display_data"
    }
   ],
   "source": [
    "fig, ax = plt.subplots(figsize=(15,8))\n",
    "for lower,upper,y in zip(dataset['lower'],dataset['upper'],range(len(dataset))):\n",
    "    plt.plot((lower,upper),(y,y),'-',color='red', linewidth=0.4)\n",
    "plt.axvline(x=np.mean(income))   \n",
    "plt.grid()\n",
    "plt.savefig(\"income_inverval01.png\", dpi=150, bbox_inches='tight')"
   ]
  },
  {
   "cell_type": "code",
   "execution_count": null,
   "metadata": {},
   "outputs": [],
   "source": []
  }
 ],
 "metadata": {
  "kernelspec": {
   "display_name": "Python 3 (ipykernel)",
   "language": "python",
   "name": "python3"
  },
  "language_info": {
   "codemirror_mode": {
    "name": "ipython",
    "version": 3
   },
   "file_extension": ".py",
   "mimetype": "text/x-python",
   "name": "python",
   "nbconvert_exporter": "python",
   "pygments_lexer": "ipython3",
   "version": "3.9.13"
  }
 },
 "nbformat": 4,
 "nbformat_minor": 2
}
