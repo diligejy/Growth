{
 "cells": [
  {
   "cell_type": "markdown",
   "metadata": {},
   "source": [
    "#  제6강"
   ]
  },
  {
   "cell_type": "code",
   "execution_count": 1,
   "metadata": {},
   "outputs": [],
   "source": [
    "import pandas as pd\n",
    "import numpy as np"
   ]
  },
  {
   "cell_type": "code",
   "execution_count": 2,
   "metadata": {},
   "outputs": [],
   "source": [
    "###한글 폰트###\n",
    "%matplotlib inline\n",
    "import seaborn as sns\n",
    "\n",
    "import matplotlib.pyplot as plt\n",
    "from matplotlib import rcParams\n",
    "from matplotlib import font_manager, rc\n",
    "\n",
    "rcParams['axes.unicode_minus'] = False\n",
    "plt.rcParams['font.family'] = 'Malgun Gothic'\n",
    "\n",
    "font_name = font_manager.FontProperties(fname=\"c:/Windows/Fonts/malgun.ttf\").get_name()\n",
    "rc('font', family=font_name)"
   ]
  },
  {
   "cell_type": "code",
   "execution_count": 3,
   "metadata": {},
   "outputs": [],
   "source": [
    "df10 = pd.read_csv(\"household_2019a.csv\")"
   ]
  },
  {
   "cell_type": "code",
   "execution_count": 4,
   "metadata": {},
   "outputs": [],
   "source": [
    "df20 = pd.read_csv(\"household_2020a.csv\")"
   ]
  },
  {
   "cell_type": "code",
   "execution_count": 5,
   "metadata": {},
   "outputs": [],
   "source": [
    "df11 = df10[['year', 'id', 'income']]"
   ]
  },
  {
   "cell_type": "code",
   "execution_count": 6,
   "metadata": {},
   "outputs": [],
   "source": [
    "df21 = df20[['year', 'id', 'age', 'sex', 'income']]"
   ]
  },
  {
   "cell_type": "code",
   "execution_count": 7,
   "metadata": {},
   "outputs": [],
   "source": [
    "df = pd.merge(df11, df21, on=\"id\", how=\"inner\")"
   ]
  },
  {
   "cell_type": "code",
   "execution_count": 8,
   "metadata": {},
   "outputs": [
    {
     "data": {
      "text/html": [
       "<div>\n",
       "<style scoped>\n",
       "    .dataframe tbody tr th:only-of-type {\n",
       "        vertical-align: middle;\n",
       "    }\n",
       "\n",
       "    .dataframe tbody tr th {\n",
       "        vertical-align: top;\n",
       "    }\n",
       "\n",
       "    .dataframe thead th {\n",
       "        text-align: right;\n",
       "    }\n",
       "</style>\n",
       "<table border=\"1\" class=\"dataframe\">\n",
       "  <thead>\n",
       "    <tr style=\"text-align: right;\">\n",
       "      <th></th>\n",
       "      <th>year_x</th>\n",
       "      <th>id</th>\n",
       "      <th>income_x</th>\n",
       "      <th>year_y</th>\n",
       "      <th>age</th>\n",
       "      <th>sex</th>\n",
       "      <th>income_y</th>\n",
       "    </tr>\n",
       "  </thead>\n",
       "  <tbody>\n",
       "    <tr>\n",
       "      <th>13907</th>\n",
       "      <td>2019</td>\n",
       "      <td>994800261</td>\n",
       "      <td>35030</td>\n",
       "      <td>2020</td>\n",
       "      <td>57</td>\n",
       "      <td>1</td>\n",
       "      <td>15098</td>\n",
       "    </tr>\n",
       "    <tr>\n",
       "      <th>13908</th>\n",
       "      <td>2019</td>\n",
       "      <td>994800291</td>\n",
       "      <td>6983</td>\n",
       "      <td>2020</td>\n",
       "      <td>53</td>\n",
       "      <td>2</td>\n",
       "      <td>9114</td>\n",
       "    </tr>\n",
       "    <tr>\n",
       "      <th>13909</th>\n",
       "      <td>2019</td>\n",
       "      <td>995800261</td>\n",
       "      <td>10307</td>\n",
       "      <td>2020</td>\n",
       "      <td>44</td>\n",
       "      <td>1</td>\n",
       "      <td>7857</td>\n",
       "    </tr>\n",
       "  </tbody>\n",
       "</table>\n",
       "</div>"
      ],
      "text/plain": [
       "       year_x         id  income_x  year_y  age  sex  income_y\n",
       "13907    2019  994800261     35030    2020   57    1     15098\n",
       "13908    2019  994800291      6983    2020   53    2      9114\n",
       "13909    2019  995800261     10307    2020   44    1      7857"
      ]
     },
     "execution_count": 8,
     "metadata": {},
     "output_type": "execute_result"
    }
   ],
   "source": [
    "df.tail(3)"
   ]
  },
  {
   "cell_type": "code",
   "execution_count": 9,
   "metadata": {},
   "outputs": [],
   "source": [
    "df1 = df.set_index('id')"
   ]
  },
  {
   "cell_type": "code",
   "execution_count": 10,
   "metadata": {},
   "outputs": [],
   "source": [
    "df2 = df1[['sex', 'age', 'income_x', 'income_y']]"
   ]
  },
  {
   "cell_type": "code",
   "execution_count": 11,
   "metadata": {},
   "outputs": [
    {
     "data": {
      "text/html": [
       "<div>\n",
       "<style scoped>\n",
       "    .dataframe tbody tr th:only-of-type {\n",
       "        vertical-align: middle;\n",
       "    }\n",
       "\n",
       "    .dataframe tbody tr th {\n",
       "        vertical-align: top;\n",
       "    }\n",
       "\n",
       "    .dataframe thead th {\n",
       "        text-align: right;\n",
       "    }\n",
       "</style>\n",
       "<table border=\"1\" class=\"dataframe\">\n",
       "  <thead>\n",
       "    <tr style=\"text-align: right;\">\n",
       "      <th></th>\n",
       "      <th>sex</th>\n",
       "      <th>age</th>\n",
       "      <th>income_x</th>\n",
       "      <th>income_y</th>\n",
       "    </tr>\n",
       "    <tr>\n",
       "      <th>id</th>\n",
       "      <th></th>\n",
       "      <th></th>\n",
       "      <th></th>\n",
       "      <th></th>\n",
       "    </tr>\n",
       "  </thead>\n",
       "  <tbody>\n",
       "    <tr>\n",
       "      <th>10600141</th>\n",
       "      <td>1</td>\n",
       "      <td>66</td>\n",
       "      <td>5385</td>\n",
       "      <td>2695</td>\n",
       "    </tr>\n",
       "    <tr>\n",
       "      <th>10600211</th>\n",
       "      <td>1</td>\n",
       "      <td>69</td>\n",
       "      <td>2772</td>\n",
       "      <td>1563</td>\n",
       "    </tr>\n",
       "    <tr>\n",
       "      <th>10600221</th>\n",
       "      <td>2</td>\n",
       "      <td>25</td>\n",
       "      <td>1140</td>\n",
       "      <td>6014</td>\n",
       "    </tr>\n",
       "    <tr>\n",
       "      <th>10600241</th>\n",
       "      <td>2</td>\n",
       "      <td>83</td>\n",
       "      <td>803</td>\n",
       "      <td>851</td>\n",
       "    </tr>\n",
       "    <tr>\n",
       "      <th>10600271</th>\n",
       "      <td>1</td>\n",
       "      <td>56</td>\n",
       "      <td>8021</td>\n",
       "      <td>7264</td>\n",
       "    </tr>\n",
       "    <tr>\n",
       "      <th>...</th>\n",
       "      <td>...</td>\n",
       "      <td>...</td>\n",
       "      <td>...</td>\n",
       "      <td>...</td>\n",
       "    </tr>\n",
       "    <tr>\n",
       "      <th>993800291</th>\n",
       "      <td>1</td>\n",
       "      <td>42</td>\n",
       "      <td>5092</td>\n",
       "      <td>179</td>\n",
       "    </tr>\n",
       "    <tr>\n",
       "      <th>994800251</th>\n",
       "      <td>1</td>\n",
       "      <td>49</td>\n",
       "      <td>16070</td>\n",
       "      <td>15454</td>\n",
       "    </tr>\n",
       "    <tr>\n",
       "      <th>994800261</th>\n",
       "      <td>1</td>\n",
       "      <td>57</td>\n",
       "      <td>35030</td>\n",
       "      <td>15098</td>\n",
       "    </tr>\n",
       "    <tr>\n",
       "      <th>994800291</th>\n",
       "      <td>2</td>\n",
       "      <td>53</td>\n",
       "      <td>6983</td>\n",
       "      <td>9114</td>\n",
       "    </tr>\n",
       "    <tr>\n",
       "      <th>995800261</th>\n",
       "      <td>1</td>\n",
       "      <td>44</td>\n",
       "      <td>10307</td>\n",
       "      <td>7857</td>\n",
       "    </tr>\n",
       "  </tbody>\n",
       "</table>\n",
       "<p>13910 rows × 4 columns</p>\n",
       "</div>"
      ],
      "text/plain": [
       "           sex  age  income_x  income_y\n",
       "id                                     \n",
       "10600141     1   66      5385      2695\n",
       "10600211     1   69      2772      1563\n",
       "10600221     2   25      1140      6014\n",
       "10600241     2   83       803       851\n",
       "10600271     1   56      8021      7264\n",
       "...        ...  ...       ...       ...\n",
       "993800291    1   42      5092       179\n",
       "994800251    1   49     16070     15454\n",
       "994800261    1   57     35030     15098\n",
       "994800291    2   53      6983      9114\n",
       "995800261    1   44     10307      7857\n",
       "\n",
       "[13910 rows x 4 columns]"
      ]
     },
     "execution_count": 11,
     "metadata": {},
     "output_type": "execute_result"
    }
   ],
   "source": [
    "df2"
   ]
  },
  {
   "cell_type": "code",
   "execution_count": 12,
   "metadata": {},
   "outputs": [],
   "source": [
    "df3 = df2.copy()"
   ]
  },
  {
   "cell_type": "code",
   "execution_count": 13,
   "metadata": {},
   "outputs": [],
   "source": [
    "df3.rename(columns = {'income_x':'income2019', 'income_y':'income2020'}, inplace=True)"
   ]
  },
  {
   "cell_type": "code",
   "execution_count": 14,
   "metadata": {},
   "outputs": [
    {
     "data": {
      "text/html": [
       "<div>\n",
       "<style scoped>\n",
       "    .dataframe tbody tr th:only-of-type {\n",
       "        vertical-align: middle;\n",
       "    }\n",
       "\n",
       "    .dataframe tbody tr th {\n",
       "        vertical-align: top;\n",
       "    }\n",
       "\n",
       "    .dataframe thead th {\n",
       "        text-align: right;\n",
       "    }\n",
       "</style>\n",
       "<table border=\"1\" class=\"dataframe\">\n",
       "  <thead>\n",
       "    <tr style=\"text-align: right;\">\n",
       "      <th></th>\n",
       "      <th>sex</th>\n",
       "      <th>age</th>\n",
       "      <th>income2019</th>\n",
       "      <th>income2020</th>\n",
       "    </tr>\n",
       "    <tr>\n",
       "      <th>id</th>\n",
       "      <th></th>\n",
       "      <th></th>\n",
       "      <th></th>\n",
       "      <th></th>\n",
       "    </tr>\n",
       "  </thead>\n",
       "  <tbody>\n",
       "    <tr>\n",
       "      <th>993800291</th>\n",
       "      <td>1</td>\n",
       "      <td>42</td>\n",
       "      <td>5092</td>\n",
       "      <td>179</td>\n",
       "    </tr>\n",
       "    <tr>\n",
       "      <th>994800251</th>\n",
       "      <td>1</td>\n",
       "      <td>49</td>\n",
       "      <td>16070</td>\n",
       "      <td>15454</td>\n",
       "    </tr>\n",
       "    <tr>\n",
       "      <th>994800261</th>\n",
       "      <td>1</td>\n",
       "      <td>57</td>\n",
       "      <td>35030</td>\n",
       "      <td>15098</td>\n",
       "    </tr>\n",
       "    <tr>\n",
       "      <th>994800291</th>\n",
       "      <td>2</td>\n",
       "      <td>53</td>\n",
       "      <td>6983</td>\n",
       "      <td>9114</td>\n",
       "    </tr>\n",
       "    <tr>\n",
       "      <th>995800261</th>\n",
       "      <td>1</td>\n",
       "      <td>44</td>\n",
       "      <td>10307</td>\n",
       "      <td>7857</td>\n",
       "    </tr>\n",
       "  </tbody>\n",
       "</table>\n",
       "</div>"
      ],
      "text/plain": [
       "           sex  age  income2019  income2020\n",
       "id                                         \n",
       "993800291    1   42        5092         179\n",
       "994800251    1   49       16070       15454\n",
       "994800261    1   57       35030       15098\n",
       "994800291    2   53        6983        9114\n",
       "995800261    1   44       10307        7857"
      ]
     },
     "execution_count": 14,
     "metadata": {},
     "output_type": "execute_result"
    }
   ],
   "source": [
    "df3.tail()"
   ]
  },
  {
   "cell_type": "code",
   "execution_count": null,
   "metadata": {},
   "outputs": [],
   "source": []
  },
  {
   "cell_type": "code",
   "execution_count": 15,
   "metadata": {},
   "outputs": [],
   "source": [
    "df3['diff'] = df3['income2020'] - df3['income2019']\n",
    "df3 = df3.reset_index(drop=True)"
   ]
  },
  {
   "cell_type": "code",
   "execution_count": 16,
   "metadata": {},
   "outputs": [
    {
     "data": {
      "text/html": [
       "<div>\n",
       "<style scoped>\n",
       "    .dataframe tbody tr th:only-of-type {\n",
       "        vertical-align: middle;\n",
       "    }\n",
       "\n",
       "    .dataframe tbody tr th {\n",
       "        vertical-align: top;\n",
       "    }\n",
       "\n",
       "    .dataframe thead th {\n",
       "        text-align: right;\n",
       "    }\n",
       "</style>\n",
       "<table border=\"1\" class=\"dataframe\">\n",
       "  <thead>\n",
       "    <tr style=\"text-align: right;\">\n",
       "      <th></th>\n",
       "      <th>sex</th>\n",
       "      <th>age</th>\n",
       "      <th>income2019</th>\n",
       "      <th>income2020</th>\n",
       "      <th>diff</th>\n",
       "    </tr>\n",
       "  </thead>\n",
       "  <tbody>\n",
       "    <tr>\n",
       "      <th>0</th>\n",
       "      <td>1</td>\n",
       "      <td>66</td>\n",
       "      <td>5385</td>\n",
       "      <td>2695</td>\n",
       "      <td>-2690</td>\n",
       "    </tr>\n",
       "    <tr>\n",
       "      <th>1</th>\n",
       "      <td>1</td>\n",
       "      <td>69</td>\n",
       "      <td>2772</td>\n",
       "      <td>1563</td>\n",
       "      <td>-1209</td>\n",
       "    </tr>\n",
       "    <tr>\n",
       "      <th>2</th>\n",
       "      <td>2</td>\n",
       "      <td>25</td>\n",
       "      <td>1140</td>\n",
       "      <td>6014</td>\n",
       "      <td>4874</td>\n",
       "    </tr>\n",
       "    <tr>\n",
       "      <th>3</th>\n",
       "      <td>2</td>\n",
       "      <td>83</td>\n",
       "      <td>803</td>\n",
       "      <td>851</td>\n",
       "      <td>48</td>\n",
       "    </tr>\n",
       "    <tr>\n",
       "      <th>4</th>\n",
       "      <td>1</td>\n",
       "      <td>56</td>\n",
       "      <td>8021</td>\n",
       "      <td>7264</td>\n",
       "      <td>-757</td>\n",
       "    </tr>\n",
       "  </tbody>\n",
       "</table>\n",
       "</div>"
      ],
      "text/plain": [
       "   sex  age  income2019  income2020  diff\n",
       "0    1   66        5385        2695 -2690\n",
       "1    1   69        2772        1563 -1209\n",
       "2    2   25        1140        6014  4874\n",
       "3    2   83         803         851    48\n",
       "4    1   56        8021        7264  -757"
      ]
     },
     "execution_count": 16,
     "metadata": {},
     "output_type": "execute_result"
    }
   ],
   "source": [
    "df3.head()"
   ]
  },
  {
   "cell_type": "code",
   "execution_count": 17,
   "metadata": {},
   "outputs": [],
   "source": [
    "data = pd.DataFrame(df3, columns=['income2019', 'income2020'])"
   ]
  },
  {
   "cell_type": "code",
   "execution_count": 18,
   "metadata": {},
   "outputs": [
    {
     "data": {
      "image/png": "[encoded data removed]",
      "text/plain": [
       "<Figure size 1200x400 with 2 Axes>"
      ]
     },
     "metadata": {},
     "output_type": "display_data"
    }
   ],
   "source": [
    "import seaborn as sns\n",
    "plt.rcParams[\"figure.figsize\"] = (12,4)\n",
    "plt.rcParams['axes.grid'] = True \n",
    "\n",
    "fig, axs = plt.subplots(1, 2)\n",
    "\n",
    "axs[0].set_title(\"가구별 2020년과 2019년 소득 차이\")\n",
    "sns.kdeplot(df3['diff'], shade=False, clip=(-7500, 7500), ax=axs[0])  \n",
    "axs[0].set_xlabel('만원')\n",
    "\n",
    "axs[1].set_title(\"가구별 2020년과 2019년 소득 분포\")\n",
    "sns.kdeplot(df3['income2019'], shade=False, clip=(-1000, 20000), label=\"2019\", ax=axs[1]) \n",
    "sns.kdeplot(df3['income2020'], shade=False, clip=(-1000, 20000), label=\"2020\", ax=axs[1])  \n",
    "axs[1].set_xlabel('만원')\n",
    "\n",
    "\n",
    "plt.legend(loc=\"upper right\")\n",
    "plt.savefig(\"실습W0604A_동일가구소득차이히스토그램.png\", dpi=150, bbox_inches='tight')\n",
    "plt.show()"
   ]
  },
  {
   "cell_type": "code",
   "execution_count": 19,
   "metadata": {},
   "outputs": [
    {
     "data": {
      "text/plain": [
       "13910"
      ]
     },
     "execution_count": 19,
     "metadata": {},
     "output_type": "execute_result"
    }
   ],
   "source": [
    "len(df3)"
   ]
  },
  {
   "cell_type": "code",
   "execution_count": null,
   "metadata": {},
   "outputs": [],
   "source": []
  },
  {
   "cell_type": "code",
   "execution_count": 20,
   "metadata": {},
   "outputs": [],
   "source": [
    "mn = df3['diff'].mean()"
   ]
  },
  {
   "cell_type": "code",
   "execution_count": 21,
   "metadata": {},
   "outputs": [],
   "source": [
    "std = df3['diff'].std()"
   ]
  },
  {
   "cell_type": "code",
   "execution_count": 22,
   "metadata": {},
   "outputs": [
    {
     "data": {
      "text/plain": [
       "211.83803019410496"
      ]
     },
     "execution_count": 22,
     "metadata": {},
     "output_type": "execute_result"
    }
   ],
   "source": [
    "mn"
   ]
  },
  {
   "cell_type": "code",
   "execution_count": 23,
   "metadata": {},
   "outputs": [
    {
     "data": {
      "text/plain": [
       "2935.26"
      ]
     },
     "execution_count": 23,
     "metadata": {},
     "output_type": "execute_result"
    }
   ],
   "source": [
    "round(std,2)"
   ]
  },
  {
   "cell_type": "code",
   "execution_count": 24,
   "metadata": {},
   "outputs": [],
   "source": [
    "n = len(df3)"
   ]
  },
  {
   "cell_type": "code",
   "execution_count": 25,
   "metadata": {},
   "outputs": [
    {
     "data": {
      "text/plain": [
       "13910"
      ]
     },
     "execution_count": 25,
     "metadata": {},
     "output_type": "execute_result"
    }
   ],
   "source": [
    "n"
   ]
  },
  {
   "cell_type": "code",
   "execution_count": 26,
   "metadata": {},
   "outputs": [],
   "source": [
    "se = std/np.sqrt(n)"
   ]
  },
  {
   "cell_type": "code",
   "execution_count": 27,
   "metadata": {},
   "outputs": [
    {
     "data": {
      "text/plain": [
       "24.88760561455631"
      ]
     },
     "execution_count": 27,
     "metadata": {},
     "output_type": "execute_result"
    }
   ],
   "source": [
    "se"
   ]
  },
  {
   "cell_type": "code",
   "execution_count": 28,
   "metadata": {},
   "outputs": [],
   "source": [
    "z = mn/se"
   ]
  },
  {
   "cell_type": "code",
   "execution_count": 29,
   "metadata": {},
   "outputs": [
    {
     "data": {
      "text/plain": [
       "8.5"
      ]
     },
     "execution_count": 29,
     "metadata": {},
     "output_type": "execute_result"
    }
   ],
   "source": [
    "z.round(1)"
   ]
  },
  {
   "cell_type": "code",
   "execution_count": 30,
   "metadata": {},
   "outputs": [],
   "source": [
    "import scipy as sp\n",
    "import scipy.stats"
   ]
  },
  {
   "cell_type": "code",
   "execution_count": 31,
   "metadata": {},
   "outputs": [],
   "source": [
    "rv = sp.stats.norm(loc=0, scale=1) # 평균0, 표준편차 1, 표준정규분포"
   ]
  },
  {
   "cell_type": "code",
   "execution_count": 32,
   "metadata": {},
   "outputs": [
    {
     "data": {
      "text/plain": [
       "0.0"
      ]
     },
     "execution_count": 32,
     "metadata": {},
     "output_type": "execute_result"
    }
   ],
   "source": [
    "np.round(1-rv.cdf(z), 2)"
   ]
  },
  {
   "cell_type": "code",
   "execution_count": null,
   "metadata": {},
   "outputs": [],
   "source": []
  }
 ],
 "metadata": {
  "kernelspec": {
   "display_name": "Python 3 (ipykernel)",
   "language": "python",
   "name": "python3"
  },
  "language_info": {
   "codemirror_mode": {
    "name": "ipython",
    "version": 3
   },
   "file_extension": ".py",
   "mimetype": "text/x-python",
   "name": "python",
   "nbconvert_exporter": "python",
   "pygments_lexer": "ipython3",
   "version": "3.9.13"
  }
 },
 "nbformat": 4,
 "nbformat_minor": 2
}
