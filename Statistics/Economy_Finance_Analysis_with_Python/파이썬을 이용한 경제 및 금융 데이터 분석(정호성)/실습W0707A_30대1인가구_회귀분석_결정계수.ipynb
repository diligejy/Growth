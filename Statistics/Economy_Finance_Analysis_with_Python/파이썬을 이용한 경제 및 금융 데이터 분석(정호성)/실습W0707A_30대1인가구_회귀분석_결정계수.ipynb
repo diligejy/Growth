{
 "cells": [
  {
   "cell_type": "code",
   "execution_count": 1,
   "metadata": {},
   "outputs": [],
   "source": [
    "import pandas as pd\n",
    "import numpy as np"
   ]
  },
  {
   "cell_type": "code",
   "execution_count": 2,
   "metadata": {},
   "outputs": [],
   "source": [
    "###한글 폰트###\n",
    "%matplotlib inline\n",
    "import matplotlib.pyplot as plt\n",
    "\n",
    "%matplotlib inline\n",
    "import matplotlib.pyplot as plt\n",
    "from matplotlib import rcParams\n",
    "from matplotlib import font_manager, rc\n",
    "\n",
    "rcParams['axes.unicode_minus'] = False\n",
    "#plt.rcParams['font.family'] = 'Malgun Gothic'\n",
    "\n",
    "font_name = font_manager.FontProperties(fname=\"c:/Windows/Fonts/malgun.ttf\").get_name()\n",
    "rc('font', family=font_name)"
   ]
  },
  {
   "cell_type": "code",
   "execution_count": 3,
   "metadata": {},
   "outputs": [],
   "source": [
    "df = pd.read_csv(\"household_2020a.csv\")"
   ]
  },
  {
   "cell_type": "code",
   "execution_count": 4,
   "metadata": {},
   "outputs": [
    {
     "data": {
      "text/html": [
       "<div>\n",
       "<style scoped>\n",
       "    .dataframe tbody tr th:only-of-type {\n",
       "        vertical-align: middle;\n",
       "    }\n",
       "\n",
       "    .dataframe tbody tr th {\n",
       "        vertical-align: top;\n",
       "    }\n",
       "\n",
       "    .dataframe thead th {\n",
       "        text-align: right;\n",
       "    }\n",
       "</style>\n",
       "<table border=\"1\" class=\"dataframe\">\n",
       "  <thead>\n",
       "    <tr style=\"text-align: right;\">\n",
       "      <th></th>\n",
       "      <th>year</th>\n",
       "      <th>metro</th>\n",
       "      <th>id</th>\n",
       "      <th>sex</th>\n",
       "      <th>age</th>\n",
       "      <th>number</th>\n",
       "      <th>education</th>\n",
       "      <th>marriage</th>\n",
       "      <th>asset</th>\n",
       "      <th>debt</th>\n",
       "      <th>income</th>\n",
       "      <th>income_d</th>\n",
       "      <th>industry</th>\n",
       "      <th>job</th>\n",
       "      <th>house</th>\n",
       "    </tr>\n",
       "  </thead>\n",
       "  <tbody>\n",
       "    <tr>\n",
       "      <th>18059</th>\n",
       "      <td>2020</td>\n",
       "      <td>G2</td>\n",
       "      <td>993800291</td>\n",
       "      <td>1</td>\n",
       "      <td>42</td>\n",
       "      <td>3</td>\n",
       "      <td>6</td>\n",
       "      <td>2</td>\n",
       "      <td>6705</td>\n",
       "      <td>2200</td>\n",
       "      <td>179</td>\n",
       "      <td>-390</td>\n",
       "      <td>NaN</td>\n",
       "      <td>NaN</td>\n",
       "      <td>3</td>\n",
       "    </tr>\n",
       "    <tr>\n",
       "      <th>18060</th>\n",
       "      <td>2020</td>\n",
       "      <td>G2</td>\n",
       "      <td>994800251</td>\n",
       "      <td>1</td>\n",
       "      <td>49</td>\n",
       "      <td>5</td>\n",
       "      <td>6</td>\n",
       "      <td>2</td>\n",
       "      <td>130180</td>\n",
       "      <td>22000</td>\n",
       "      <td>15454</td>\n",
       "      <td>11784</td>\n",
       "      <td>O</td>\n",
       "      <td>3</td>\n",
       "      <td>1</td>\n",
       "    </tr>\n",
       "    <tr>\n",
       "      <th>18061</th>\n",
       "      <td>2020</td>\n",
       "      <td>G2</td>\n",
       "      <td>994800261</td>\n",
       "      <td>1</td>\n",
       "      <td>57</td>\n",
       "      <td>5</td>\n",
       "      <td>6</td>\n",
       "      <td>2</td>\n",
       "      <td>265226</td>\n",
       "      <td>29000</td>\n",
       "      <td>15098</td>\n",
       "      <td>11560</td>\n",
       "      <td>NaN</td>\n",
       "      <td>NaN</td>\n",
       "      <td>1</td>\n",
       "    </tr>\n",
       "    <tr>\n",
       "      <th>18062</th>\n",
       "      <td>2020</td>\n",
       "      <td>G2</td>\n",
       "      <td>994800291</td>\n",
       "      <td>2</td>\n",
       "      <td>53</td>\n",
       "      <td>2</td>\n",
       "      <td>7</td>\n",
       "      <td>4</td>\n",
       "      <td>109695</td>\n",
       "      <td>25000</td>\n",
       "      <td>9114</td>\n",
       "      <td>7074</td>\n",
       "      <td>O</td>\n",
       "      <td>2</td>\n",
       "      <td>2</td>\n",
       "    </tr>\n",
       "    <tr>\n",
       "      <th>18063</th>\n",
       "      <td>2020</td>\n",
       "      <td>G2</td>\n",
       "      <td>995800261</td>\n",
       "      <td>1</td>\n",
       "      <td>44</td>\n",
       "      <td>5</td>\n",
       "      <td>6</td>\n",
       "      <td>2</td>\n",
       "      <td>71223</td>\n",
       "      <td>13000</td>\n",
       "      <td>7857</td>\n",
       "      <td>5404</td>\n",
       "      <td>C</td>\n",
       "      <td>3</td>\n",
       "      <td>1</td>\n",
       "    </tr>\n",
       "  </tbody>\n",
       "</table>\n",
       "</div>"
      ],
      "text/plain": [
       "       year metro         id  sex  age  number  education  marriage   asset  \\\n",
       "18059  2020    G2  993800291    1   42       3          6         2    6705   \n",
       "18060  2020    G2  994800251    1   49       5          6         2  130180   \n",
       "18061  2020    G2  994800261    1   57       5          6         2  265226   \n",
       "18062  2020    G2  994800291    2   53       2          7         4  109695   \n",
       "18063  2020    G2  995800261    1   44       5          6         2   71223   \n",
       "\n",
       "        debt  income  income_d industry  job  house  \n",
       "18059   2200     179      -390      NaN  NaN      3  \n",
       "18060  22000   15454     11784        O    3      1  \n",
       "18061  29000   15098     11560      NaN  NaN      1  \n",
       "18062  25000    9114      7074        O    2      2  \n",
       "18063  13000    7857      5404        C    3      1  "
      ]
     },
     "execution_count": 4,
     "metadata": {},
     "output_type": "execute_result"
    }
   ],
   "source": [
    "df.tail()"
   ]
  },
  {
   "cell_type": "code",
   "execution_count": 5,
   "metadata": {},
   "outputs": [],
   "source": [
    "df['income'] = df['income_d']/10000"
   ]
  },
  {
   "cell_type": "code",
   "execution_count": 6,
   "metadata": {},
   "outputs": [],
   "source": [
    "df['net_asset'] = df['asset']/10000 - df['debt']/10000"
   ]
  },
  {
   "cell_type": "code",
   "execution_count": 7,
   "metadata": {
    "scrolled": true
   },
   "outputs": [
    {
     "data": {
      "text/html": [
       "<div>\n",
       "<style scoped>\n",
       "    .dataframe tbody tr th:only-of-type {\n",
       "        vertical-align: middle;\n",
       "    }\n",
       "\n",
       "    .dataframe tbody tr th {\n",
       "        vertical-align: top;\n",
       "    }\n",
       "\n",
       "    .dataframe thead th {\n",
       "        text-align: right;\n",
       "    }\n",
       "</style>\n",
       "<table border=\"1\" class=\"dataframe\">\n",
       "  <thead>\n",
       "    <tr style=\"text-align: right;\">\n",
       "      <th></th>\n",
       "      <th>year</th>\n",
       "      <th>metro</th>\n",
       "      <th>id</th>\n",
       "      <th>sex</th>\n",
       "      <th>age</th>\n",
       "      <th>number</th>\n",
       "      <th>education</th>\n",
       "      <th>marriage</th>\n",
       "      <th>asset</th>\n",
       "      <th>debt</th>\n",
       "      <th>income</th>\n",
       "      <th>income_d</th>\n",
       "      <th>industry</th>\n",
       "      <th>job</th>\n",
       "      <th>house</th>\n",
       "      <th>net_asset</th>\n",
       "    </tr>\n",
       "  </thead>\n",
       "  <tbody>\n",
       "    <tr>\n",
       "      <th>0</th>\n",
       "      <td>2020</td>\n",
       "      <td>G1</td>\n",
       "      <td>10000112</td>\n",
       "      <td>1</td>\n",
       "      <td>34</td>\n",
       "      <td>3</td>\n",
       "      <td>6</td>\n",
       "      <td>2</td>\n",
       "      <td>112000</td>\n",
       "      <td>54500</td>\n",
       "      <td>0.4599</td>\n",
       "      <td>4599</td>\n",
       "      <td>F</td>\n",
       "      <td>3</td>\n",
       "      <td>2</td>\n",
       "      <td>5.7500</td>\n",
       "    </tr>\n",
       "    <tr>\n",
       "      <th>1</th>\n",
       "      <td>2020</td>\n",
       "      <td>G1</td>\n",
       "      <td>10000132</td>\n",
       "      <td>2</td>\n",
       "      <td>45</td>\n",
       "      <td>2</td>\n",
       "      <td>8</td>\n",
       "      <td>2</td>\n",
       "      <td>42500</td>\n",
       "      <td>17500</td>\n",
       "      <td>1.5257</td>\n",
       "      <td>15257</td>\n",
       "      <td>J</td>\n",
       "      <td>2</td>\n",
       "      <td>3</td>\n",
       "      <td>2.5000</td>\n",
       "    </tr>\n",
       "    <tr>\n",
       "      <th>2</th>\n",
       "      <td>2020</td>\n",
       "      <td>G1</td>\n",
       "      <td>10000162</td>\n",
       "      <td>2</td>\n",
       "      <td>73</td>\n",
       "      <td>1</td>\n",
       "      <td>2</td>\n",
       "      <td>3</td>\n",
       "      <td>5712</td>\n",
       "      <td>0</td>\n",
       "      <td>0.0725</td>\n",
       "      <td>725</td>\n",
       "      <td>T</td>\n",
       "      <td>4</td>\n",
       "      <td>2</td>\n",
       "      <td>0.5712</td>\n",
       "    </tr>\n",
       "    <tr>\n",
       "      <th>3</th>\n",
       "      <td>2020</td>\n",
       "      <td>G1</td>\n",
       "      <td>10000182</td>\n",
       "      <td>1</td>\n",
       "      <td>58</td>\n",
       "      <td>2</td>\n",
       "      <td>4</td>\n",
       "      <td>2</td>\n",
       "      <td>14870</td>\n",
       "      <td>0</td>\n",
       "      <td>0.2431</td>\n",
       "      <td>2431</td>\n",
       "      <td>C</td>\n",
       "      <td>5</td>\n",
       "      <td>2</td>\n",
       "      <td>1.4870</td>\n",
       "    </tr>\n",
       "    <tr>\n",
       "      <th>4</th>\n",
       "      <td>2020</td>\n",
       "      <td>G1</td>\n",
       "      <td>10000192</td>\n",
       "      <td>2</td>\n",
       "      <td>27</td>\n",
       "      <td>1</td>\n",
       "      <td>4</td>\n",
       "      <td>1</td>\n",
       "      <td>814</td>\n",
       "      <td>0</td>\n",
       "      <td>0.0893</td>\n",
       "      <td>893</td>\n",
       "      <td>R</td>\n",
       "      <td>2</td>\n",
       "      <td>3</td>\n",
       "      <td>0.0814</td>\n",
       "    </tr>\n",
       "    <tr>\n",
       "      <th>...</th>\n",
       "      <td>...</td>\n",
       "      <td>...</td>\n",
       "      <td>...</td>\n",
       "      <td>...</td>\n",
       "      <td>...</td>\n",
       "      <td>...</td>\n",
       "      <td>...</td>\n",
       "      <td>...</td>\n",
       "      <td>...</td>\n",
       "      <td>...</td>\n",
       "      <td>...</td>\n",
       "      <td>...</td>\n",
       "      <td>...</td>\n",
       "      <td>...</td>\n",
       "      <td>...</td>\n",
       "      <td>...</td>\n",
       "    </tr>\n",
       "    <tr>\n",
       "      <th>18059</th>\n",
       "      <td>2020</td>\n",
       "      <td>G2</td>\n",
       "      <td>993800291</td>\n",
       "      <td>1</td>\n",
       "      <td>42</td>\n",
       "      <td>3</td>\n",
       "      <td>6</td>\n",
       "      <td>2</td>\n",
       "      <td>6705</td>\n",
       "      <td>2200</td>\n",
       "      <td>-0.0390</td>\n",
       "      <td>-390</td>\n",
       "      <td>NaN</td>\n",
       "      <td>NaN</td>\n",
       "      <td>3</td>\n",
       "      <td>0.4505</td>\n",
       "    </tr>\n",
       "    <tr>\n",
       "      <th>18060</th>\n",
       "      <td>2020</td>\n",
       "      <td>G2</td>\n",
       "      <td>994800251</td>\n",
       "      <td>1</td>\n",
       "      <td>49</td>\n",
       "      <td>5</td>\n",
       "      <td>6</td>\n",
       "      <td>2</td>\n",
       "      <td>130180</td>\n",
       "      <td>22000</td>\n",
       "      <td>1.1784</td>\n",
       "      <td>11784</td>\n",
       "      <td>O</td>\n",
       "      <td>3</td>\n",
       "      <td>1</td>\n",
       "      <td>10.8180</td>\n",
       "    </tr>\n",
       "    <tr>\n",
       "      <th>18061</th>\n",
       "      <td>2020</td>\n",
       "      <td>G2</td>\n",
       "      <td>994800261</td>\n",
       "      <td>1</td>\n",
       "      <td>57</td>\n",
       "      <td>5</td>\n",
       "      <td>6</td>\n",
       "      <td>2</td>\n",
       "      <td>265226</td>\n",
       "      <td>29000</td>\n",
       "      <td>1.1560</td>\n",
       "      <td>11560</td>\n",
       "      <td>NaN</td>\n",
       "      <td>NaN</td>\n",
       "      <td>1</td>\n",
       "      <td>23.6226</td>\n",
       "    </tr>\n",
       "    <tr>\n",
       "      <th>18062</th>\n",
       "      <td>2020</td>\n",
       "      <td>G2</td>\n",
       "      <td>994800291</td>\n",
       "      <td>2</td>\n",
       "      <td>53</td>\n",
       "      <td>2</td>\n",
       "      <td>7</td>\n",
       "      <td>4</td>\n",
       "      <td>109695</td>\n",
       "      <td>25000</td>\n",
       "      <td>0.7074</td>\n",
       "      <td>7074</td>\n",
       "      <td>O</td>\n",
       "      <td>2</td>\n",
       "      <td>2</td>\n",
       "      <td>8.4695</td>\n",
       "    </tr>\n",
       "    <tr>\n",
       "      <th>18063</th>\n",
       "      <td>2020</td>\n",
       "      <td>G2</td>\n",
       "      <td>995800261</td>\n",
       "      <td>1</td>\n",
       "      <td>44</td>\n",
       "      <td>5</td>\n",
       "      <td>6</td>\n",
       "      <td>2</td>\n",
       "      <td>71223</td>\n",
       "      <td>13000</td>\n",
       "      <td>0.5404</td>\n",
       "      <td>5404</td>\n",
       "      <td>C</td>\n",
       "      <td>3</td>\n",
       "      <td>1</td>\n",
       "      <td>5.8223</td>\n",
       "    </tr>\n",
       "  </tbody>\n",
       "</table>\n",
       "<p>18064 rows × 16 columns</p>\n",
       "</div>"
      ],
      "text/plain": [
       "       year metro         id  sex  age  number  education  marriage   asset  \\\n",
       "0      2020    G1   10000112    1   34       3          6         2  112000   \n",
       "1      2020    G1   10000132    2   45       2          8         2   42500   \n",
       "2      2020    G1   10000162    2   73       1          2         3    5712   \n",
       "3      2020    G1   10000182    1   58       2          4         2   14870   \n",
       "4      2020    G1   10000192    2   27       1          4         1     814   \n",
       "...     ...   ...        ...  ...  ...     ...        ...       ...     ...   \n",
       "18059  2020    G2  993800291    1   42       3          6         2    6705   \n",
       "18060  2020    G2  994800251    1   49       5          6         2  130180   \n",
       "18061  2020    G2  994800261    1   57       5          6         2  265226   \n",
       "18062  2020    G2  994800291    2   53       2          7         4  109695   \n",
       "18063  2020    G2  995800261    1   44       5          6         2   71223   \n",
       "\n",
       "        debt  income  income_d industry  job  house  net_asset  \n",
       "0      54500  0.4599      4599        F    3      2     5.7500  \n",
       "1      17500  1.5257     15257        J    2      3     2.5000  \n",
       "2          0  0.0725       725        T    4      2     0.5712  \n",
       "3          0  0.2431      2431        C    5      2     1.4870  \n",
       "4          0  0.0893       893        R    2      3     0.0814  \n",
       "...      ...     ...       ...      ...  ...    ...        ...  \n",
       "18059   2200 -0.0390      -390      NaN  NaN      3     0.4505  \n",
       "18060  22000  1.1784     11784        O    3      1    10.8180  \n",
       "18061  29000  1.1560     11560      NaN  NaN      1    23.6226  \n",
       "18062  25000  0.7074      7074        O    2      2     8.4695  \n",
       "18063  13000  0.5404      5404        C    3      1     5.8223  \n",
       "\n",
       "[18064 rows x 16 columns]"
      ]
     },
     "execution_count": 7,
     "metadata": {},
     "output_type": "execute_result"
    }
   ],
   "source": [
    "df"
   ]
  },
  {
   "cell_type": "code",
   "execution_count": 62,
   "metadata": {},
   "outputs": [],
   "source": [
    "df1 = df.loc[df['number'].isin([1]) & (df['age'] >= 30) & (df['age'] < 39)]"
   ]
  },
  {
   "cell_type": "code",
   "execution_count": 63,
   "metadata": {},
   "outputs": [
    {
     "data": {
      "text/html": [
       "<div>\n",
       "<style scoped>\n",
       "    .dataframe tbody tr th:only-of-type {\n",
       "        vertical-align: middle;\n",
       "    }\n",
       "\n",
       "    .dataframe tbody tr th {\n",
       "        vertical-align: top;\n",
       "    }\n",
       "\n",
       "    .dataframe thead th {\n",
       "        text-align: right;\n",
       "    }\n",
       "</style>\n",
       "<table border=\"1\" class=\"dataframe\">\n",
       "  <thead>\n",
       "    <tr style=\"text-align: right;\">\n",
       "      <th></th>\n",
       "      <th>year</th>\n",
       "      <th>metro</th>\n",
       "      <th>id</th>\n",
       "      <th>sex</th>\n",
       "      <th>age</th>\n",
       "      <th>number</th>\n",
       "      <th>education</th>\n",
       "      <th>marriage</th>\n",
       "      <th>asset</th>\n",
       "      <th>debt</th>\n",
       "      <th>income</th>\n",
       "      <th>income_d</th>\n",
       "      <th>industry</th>\n",
       "      <th>job</th>\n",
       "      <th>house</th>\n",
       "      <th>net_asset</th>\n",
       "    </tr>\n",
       "  </thead>\n",
       "  <tbody>\n",
       "    <tr>\n",
       "      <th>19</th>\n",
       "      <td>2020</td>\n",
       "      <td>G1</td>\n",
       "      <td>10001102</td>\n",
       "      <td>1</td>\n",
       "      <td>35</td>\n",
       "      <td>1</td>\n",
       "      <td>5</td>\n",
       "      <td>1</td>\n",
       "      <td>5252</td>\n",
       "      <td>0</td>\n",
       "      <td>0.1033</td>\n",
       "      <td>1033</td>\n",
       "      <td>L</td>\n",
       "      <td>5</td>\n",
       "      <td>2</td>\n",
       "      <td>0.5252</td>\n",
       "    </tr>\n",
       "    <tr>\n",
       "      <th>134</th>\n",
       "      <td>2020</td>\n",
       "      <td>G2</td>\n",
       "      <td>11800271</td>\n",
       "      <td>2</td>\n",
       "      <td>30</td>\n",
       "      <td>1</td>\n",
       "      <td>6</td>\n",
       "      <td>1</td>\n",
       "      <td>17920</td>\n",
       "      <td>5000</td>\n",
       "      <td>0.3032</td>\n",
       "      <td>3032</td>\n",
       "      <td>O</td>\n",
       "      <td>4</td>\n",
       "      <td>2</td>\n",
       "      <td>1.2920</td>\n",
       "    </tr>\n",
       "    <tr>\n",
       "      <th>157</th>\n",
       "      <td>2020</td>\n",
       "      <td>G1</td>\n",
       "      <td>12000102</td>\n",
       "      <td>1</td>\n",
       "      <td>30</td>\n",
       "      <td>1</td>\n",
       "      <td>6</td>\n",
       "      <td>1</td>\n",
       "      <td>540</td>\n",
       "      <td>0</td>\n",
       "      <td>0.1812</td>\n",
       "      <td>1812</td>\n",
       "      <td>G</td>\n",
       "      <td>5</td>\n",
       "      <td>3</td>\n",
       "      <td>0.0540</td>\n",
       "    </tr>\n",
       "    <tr>\n",
       "      <th>190</th>\n",
       "      <td>2020</td>\n",
       "      <td>G1</td>\n",
       "      <td>12600311</td>\n",
       "      <td>1</td>\n",
       "      <td>36</td>\n",
       "      <td>1</td>\n",
       "      <td>6</td>\n",
       "      <td>1</td>\n",
       "      <td>1500</td>\n",
       "      <td>6280</td>\n",
       "      <td>0.3959</td>\n",
       "      <td>3959</td>\n",
       "      <td>C</td>\n",
       "      <td>2</td>\n",
       "      <td>3</td>\n",
       "      <td>-0.4780</td>\n",
       "    </tr>\n",
       "    <tr>\n",
       "      <th>191</th>\n",
       "      <td>2020</td>\n",
       "      <td>G1</td>\n",
       "      <td>12600321</td>\n",
       "      <td>2</td>\n",
       "      <td>31</td>\n",
       "      <td>1</td>\n",
       "      <td>6</td>\n",
       "      <td>1</td>\n",
       "      <td>1610</td>\n",
       "      <td>0</td>\n",
       "      <td>0.1197</td>\n",
       "      <td>1197</td>\n",
       "      <td>J</td>\n",
       "      <td>2</td>\n",
       "      <td>5</td>\n",
       "      <td>0.1610</td>\n",
       "    </tr>\n",
       "    <tr>\n",
       "      <th>...</th>\n",
       "      <td>...</td>\n",
       "      <td>...</td>\n",
       "      <td>...</td>\n",
       "      <td>...</td>\n",
       "      <td>...</td>\n",
       "      <td>...</td>\n",
       "      <td>...</td>\n",
       "      <td>...</td>\n",
       "      <td>...</td>\n",
       "      <td>...</td>\n",
       "      <td>...</td>\n",
       "      <td>...</td>\n",
       "      <td>...</td>\n",
       "      <td>...</td>\n",
       "      <td>...</td>\n",
       "      <td>...</td>\n",
       "    </tr>\n",
       "    <tr>\n",
       "      <th>17525</th>\n",
       "      <td>2020</td>\n",
       "      <td>G2</td>\n",
       "      <td>951000332</td>\n",
       "      <td>1</td>\n",
       "      <td>37</td>\n",
       "      <td>1</td>\n",
       "      <td>4</td>\n",
       "      <td>1</td>\n",
       "      <td>16230</td>\n",
       "      <td>3708</td>\n",
       "      <td>0.3090</td>\n",
       "      <td>3090</td>\n",
       "      <td>C</td>\n",
       "      <td>8</td>\n",
       "      <td>2</td>\n",
       "      <td>1.2522</td>\n",
       "    </tr>\n",
       "    <tr>\n",
       "      <th>17544</th>\n",
       "      <td>2020</td>\n",
       "      <td>G2</td>\n",
       "      <td>951700271</td>\n",
       "      <td>2</td>\n",
       "      <td>30</td>\n",
       "      <td>1</td>\n",
       "      <td>5</td>\n",
       "      <td>1</td>\n",
       "      <td>4536</td>\n",
       "      <td>1600</td>\n",
       "      <td>0.1017</td>\n",
       "      <td>1017</td>\n",
       "      <td>Q</td>\n",
       "      <td>2</td>\n",
       "      <td>3</td>\n",
       "      <td>0.2936</td>\n",
       "    </tr>\n",
       "    <tr>\n",
       "      <th>17599</th>\n",
       "      <td>2020</td>\n",
       "      <td>G2</td>\n",
       "      <td>952600291</td>\n",
       "      <td>2</td>\n",
       "      <td>37</td>\n",
       "      <td>1</td>\n",
       "      <td>6</td>\n",
       "      <td>1</td>\n",
       "      <td>37540</td>\n",
       "      <td>9020</td>\n",
       "      <td>0.4603</td>\n",
       "      <td>4603</td>\n",
       "      <td>Q</td>\n",
       "      <td>2</td>\n",
       "      <td>2</td>\n",
       "      <td>2.8520</td>\n",
       "    </tr>\n",
       "    <tr>\n",
       "      <th>17696</th>\n",
       "      <td>2020</td>\n",
       "      <td>G2</td>\n",
       "      <td>960900311</td>\n",
       "      <td>1</td>\n",
       "      <td>37</td>\n",
       "      <td>1</td>\n",
       "      <td>5</td>\n",
       "      <td>1</td>\n",
       "      <td>7500</td>\n",
       "      <td>300</td>\n",
       "      <td>0.1122</td>\n",
       "      <td>1122</td>\n",
       "      <td>Q</td>\n",
       "      <td>2</td>\n",
       "      <td>5</td>\n",
       "      <td>0.7200</td>\n",
       "    </tr>\n",
       "    <tr>\n",
       "      <th>18014</th>\n",
       "      <td>2020</td>\n",
       "      <td>G2</td>\n",
       "      <td>990800261</td>\n",
       "      <td>2</td>\n",
       "      <td>34</td>\n",
       "      <td>1</td>\n",
       "      <td>6</td>\n",
       "      <td>1</td>\n",
       "      <td>41904</td>\n",
       "      <td>3000</td>\n",
       "      <td>0.4618</td>\n",
       "      <td>4618</td>\n",
       "      <td>P</td>\n",
       "      <td>2</td>\n",
       "      <td>1</td>\n",
       "      <td>3.8904</td>\n",
       "    </tr>\n",
       "  </tbody>\n",
       "</table>\n",
       "<p>352 rows × 16 columns</p>\n",
       "</div>"
      ],
      "text/plain": [
       "       year metro         id  sex  age  number  education  marriage  asset  \\\n",
       "19     2020    G1   10001102    1   35       1          5         1   5252   \n",
       "134    2020    G2   11800271    2   30       1          6         1  17920   \n",
       "157    2020    G1   12000102    1   30       1          6         1    540   \n",
       "190    2020    G1   12600311    1   36       1          6         1   1500   \n",
       "191    2020    G1   12600321    2   31       1          6         1   1610   \n",
       "...     ...   ...        ...  ...  ...     ...        ...       ...    ...   \n",
       "17525  2020    G2  951000332    1   37       1          4         1  16230   \n",
       "17544  2020    G2  951700271    2   30       1          5         1   4536   \n",
       "17599  2020    G2  952600291    2   37       1          6         1  37540   \n",
       "17696  2020    G2  960900311    1   37       1          5         1   7500   \n",
       "18014  2020    G2  990800261    2   34       1          6         1  41904   \n",
       "\n",
       "       debt  income  income_d industry job  house  net_asset  \n",
       "19        0  0.1033      1033        L   5      2     0.5252  \n",
       "134    5000  0.3032      3032        O   4      2     1.2920  \n",
       "157       0  0.1812      1812        G   5      3     0.0540  \n",
       "190    6280  0.3959      3959        C   2      3    -0.4780  \n",
       "191       0  0.1197      1197        J   2      5     0.1610  \n",
       "...     ...     ...       ...      ...  ..    ...        ...  \n",
       "17525  3708  0.3090      3090        C   8      2     1.2522  \n",
       "17544  1600  0.1017      1017        Q   2      3     0.2936  \n",
       "17599  9020  0.4603      4603        Q   2      2     2.8520  \n",
       "17696   300  0.1122      1122        Q   2      5     0.7200  \n",
       "18014  3000  0.4618      4618        P   2      1     3.8904  \n",
       "\n",
       "[352 rows x 16 columns]"
      ]
     },
     "execution_count": 63,
     "metadata": {},
     "output_type": "execute_result"
    }
   ],
   "source": [
    "df1"
   ]
  },
  {
   "cell_type": "code",
   "execution_count": 64,
   "metadata": {},
   "outputs": [],
   "source": [
    "df1 = df1.loc[(df1['age'] >= 31) & (df1['age'] < 39)]"
   ]
  },
  {
   "cell_type": "code",
   "execution_count": 65,
   "metadata": {},
   "outputs": [],
   "source": [
    "df1 = df1[['income', 'net_asset']]"
   ]
  },
  {
   "cell_type": "code",
   "execution_count": 66,
   "metadata": {},
   "outputs": [
    {
     "data": {
      "text/html": [
       "<div>\n",
       "<style scoped>\n",
       "    .dataframe tbody tr th:only-of-type {\n",
       "        vertical-align: middle;\n",
       "    }\n",
       "\n",
       "    .dataframe tbody tr th {\n",
       "        vertical-align: top;\n",
       "    }\n",
       "\n",
       "    .dataframe thead th {\n",
       "        text-align: right;\n",
       "    }\n",
       "</style>\n",
       "<table border=\"1\" class=\"dataframe\">\n",
       "  <thead>\n",
       "    <tr style=\"text-align: right;\">\n",
       "      <th></th>\n",
       "      <th>income</th>\n",
       "      <th>net_asset</th>\n",
       "    </tr>\n",
       "  </thead>\n",
       "  <tbody>\n",
       "    <tr>\n",
       "      <th>19</th>\n",
       "      <td>0.1033</td>\n",
       "      <td>0.5252</td>\n",
       "    </tr>\n",
       "    <tr>\n",
       "      <th>190</th>\n",
       "      <td>0.3959</td>\n",
       "      <td>-0.4780</td>\n",
       "    </tr>\n",
       "    <tr>\n",
       "      <th>191</th>\n",
       "      <td>0.1197</td>\n",
       "      <td>0.1610</td>\n",
       "    </tr>\n",
       "    <tr>\n",
       "      <th>262</th>\n",
       "      <td>0.3790</td>\n",
       "      <td>1.2412</td>\n",
       "    </tr>\n",
       "    <tr>\n",
       "      <th>293</th>\n",
       "      <td>0.3440</td>\n",
       "      <td>-0.0440</td>\n",
       "    </tr>\n",
       "    <tr>\n",
       "      <th>...</th>\n",
       "      <td>...</td>\n",
       "      <td>...</td>\n",
       "    </tr>\n",
       "    <tr>\n",
       "      <th>17502</th>\n",
       "      <td>0.4088</td>\n",
       "      <td>1.5204</td>\n",
       "    </tr>\n",
       "    <tr>\n",
       "      <th>17525</th>\n",
       "      <td>0.3090</td>\n",
       "      <td>1.2522</td>\n",
       "    </tr>\n",
       "    <tr>\n",
       "      <th>17599</th>\n",
       "      <td>0.4603</td>\n",
       "      <td>2.8520</td>\n",
       "    </tr>\n",
       "    <tr>\n",
       "      <th>17696</th>\n",
       "      <td>0.1122</td>\n",
       "      <td>0.7200</td>\n",
       "    </tr>\n",
       "    <tr>\n",
       "      <th>18014</th>\n",
       "      <td>0.4618</td>\n",
       "      <td>3.8904</td>\n",
       "    </tr>\n",
       "  </tbody>\n",
       "</table>\n",
       "<p>308 rows × 2 columns</p>\n",
       "</div>"
      ],
      "text/plain": [
       "       income  net_asset\n",
       "19     0.1033     0.5252\n",
       "190    0.3959    -0.4780\n",
       "191    0.1197     0.1610\n",
       "262    0.3790     1.2412\n",
       "293    0.3440    -0.0440\n",
       "...       ...        ...\n",
       "17502  0.4088     1.5204\n",
       "17525  0.3090     1.2522\n",
       "17599  0.4603     2.8520\n",
       "17696  0.1122     0.7200\n",
       "18014  0.4618     3.8904\n",
       "\n",
       "[308 rows x 2 columns]"
      ]
     },
     "execution_count": 66,
     "metadata": {},
     "output_type": "execute_result"
    }
   ],
   "source": [
    "df1"
   ]
  },
  {
   "cell_type": "code",
   "execution_count": 67,
   "metadata": {},
   "outputs": [],
   "source": [
    "import statsmodels.api as sm\n",
    "from statsmodels.formula.api import ols\n",
    "\n",
    "asset_model = ols(\"net_asset ~ income\", data = df1).fit()"
   ]
  },
  {
   "cell_type": "code",
   "execution_count": 68,
   "metadata": {},
   "outputs": [
    {
     "name": "stdout",
     "output_type": "stream",
     "text": [
      "                            OLS Regression Results                            \n",
      "==============================================================================\n",
      "Dep. Variable:              net_asset   R-squared:                       0.136\n",
      "Model:                            OLS   Adj. R-squared:                  0.134\n",
      "Method:                 Least Squares   F-statistic:                     48.34\n",
      "Date:                Mon, 13 Feb 2023   Prob (F-statistic):           2.17e-11\n",
      "Time:                        15:10:10   Log-Likelihood:                -505.70\n",
      "No. Observations:                 308   AIC:                             1015.\n",
      "Df Residuals:                     306   BIC:                             1023.\n",
      "Df Model:                           1                                         \n",
      "Covariance Type:            nonrobust                                         \n",
      "==============================================================================\n",
      "                 coef    std err          t      P>|t|      [0.025      0.975]\n",
      "------------------------------------------------------------------------------\n",
      "Intercept      0.2191      0.138      1.591      0.113      -0.052       0.490\n",
      "income         2.7894      0.401      6.953      0.000       2.000       3.579\n",
      "==============================================================================\n",
      "Omnibus:                      206.378   Durbin-Watson:                   2.095\n",
      "Prob(Omnibus):                  0.000   Jarque-Bera (JB):             2016.689\n",
      "Skew:                           2.699   Prob(JB):                         0.00\n",
      "Kurtosis:                      14.314   Cond. No.                         6.11\n",
      "==============================================================================\n",
      "\n",
      "Notes:\n",
      "[1] Standard Errors assume that the covariance matrix of the errors is correctly specified.\n"
     ]
    }
   ],
   "source": [
    "print(asset_model.summary())"
   ]
  },
  {
   "cell_type": "code",
   "execution_count": 69,
   "metadata": {},
   "outputs": [
    {
     "data": {
      "text/plain": [
       "Intercept    0.219072\n",
       "income       2.789424\n",
       "dtype: float64"
      ]
     },
     "execution_count": 69,
     "metadata": {},
     "output_type": "execute_result"
    }
   ],
   "source": [
    "asset_model.params"
   ]
  },
  {
   "cell_type": "code",
   "execution_count": 70,
   "metadata": {},
   "outputs": [
    {
     "data": {
      "text/plain": [
       "0.21907154483136235"
      ]
     },
     "execution_count": 70,
     "metadata": {},
     "output_type": "execute_result"
    }
   ],
   "source": [
    "asset_model.params[0]"
   ]
  },
  {
   "cell_type": "code",
   "execution_count": 71,
   "metadata": {},
   "outputs": [],
   "source": [
    "# estimation error, 추정오차"
   ]
  },
  {
   "cell_type": "code",
   "execution_count": 72,
   "metadata": {},
   "outputs": [],
   "source": [
    "df2 = df1.copy()"
   ]
  },
  {
   "cell_type": "code",
   "execution_count": 73,
   "metadata": {},
   "outputs": [],
   "source": [
    "df2['predicted'] = asset_model.params[0] + df2['income']*asset_model.params[1]"
   ]
  },
  {
   "cell_type": "code",
   "execution_count": 74,
   "metadata": {},
   "outputs": [],
   "source": [
    "df2['er'] = df2['net_asset'] - df2['predicted']"
   ]
  },
  {
   "cell_type": "code",
   "execution_count": 75,
   "metadata": {},
   "outputs": [
    {
     "data": {
      "text/html": [
       "<div>\n",
       "<style scoped>\n",
       "    .dataframe tbody tr th:only-of-type {\n",
       "        vertical-align: middle;\n",
       "    }\n",
       "\n",
       "    .dataframe tbody tr th {\n",
       "        vertical-align: top;\n",
       "    }\n",
       "\n",
       "    .dataframe thead th {\n",
       "        text-align: right;\n",
       "    }\n",
       "</style>\n",
       "<table border=\"1\" class=\"dataframe\">\n",
       "  <thead>\n",
       "    <tr style=\"text-align: right;\">\n",
       "      <th></th>\n",
       "      <th>income</th>\n",
       "      <th>net_asset</th>\n",
       "      <th>predicted</th>\n",
       "      <th>er</th>\n",
       "    </tr>\n",
       "  </thead>\n",
       "  <tbody>\n",
       "    <tr>\n",
       "      <th>19</th>\n",
       "      <td>0.1033</td>\n",
       "      <td>0.5252</td>\n",
       "      <td>0.507219</td>\n",
       "      <td>0.017981</td>\n",
       "    </tr>\n",
       "    <tr>\n",
       "      <th>190</th>\n",
       "      <td>0.3959</td>\n",
       "      <td>-0.4780</td>\n",
       "      <td>1.323405</td>\n",
       "      <td>-1.801405</td>\n",
       "    </tr>\n",
       "    <tr>\n",
       "      <th>191</th>\n",
       "      <td>0.1197</td>\n",
       "      <td>0.1610</td>\n",
       "      <td>0.552966</td>\n",
       "      <td>-0.391966</td>\n",
       "    </tr>\n",
       "    <tr>\n",
       "      <th>262</th>\n",
       "      <td>0.3790</td>\n",
       "      <td>1.2412</td>\n",
       "      <td>1.276263</td>\n",
       "      <td>-0.035063</td>\n",
       "    </tr>\n",
       "    <tr>\n",
       "      <th>293</th>\n",
       "      <td>0.3440</td>\n",
       "      <td>-0.0440</td>\n",
       "      <td>1.178634</td>\n",
       "      <td>-1.222634</td>\n",
       "    </tr>\n",
       "  </tbody>\n",
       "</table>\n",
       "</div>"
      ],
      "text/plain": [
       "     income  net_asset  predicted        er\n",
       "19   0.1033     0.5252   0.507219  0.017981\n",
       "190  0.3959    -0.4780   1.323405 -1.801405\n",
       "191  0.1197     0.1610   0.552966 -0.391966\n",
       "262  0.3790     1.2412   1.276263 -0.035063\n",
       "293  0.3440    -0.0440   1.178634 -1.222634"
      ]
     },
     "execution_count": 75,
     "metadata": {},
     "output_type": "execute_result"
    }
   ],
   "source": [
    "df2.head()"
   ]
  },
  {
   "cell_type": "code",
   "execution_count": 76,
   "metadata": {},
   "outputs": [],
   "source": [
    "# RMSE 구하기"
   ]
  },
  {
   "cell_type": "code",
   "execution_count": 77,
   "metadata": {},
   "outputs": [],
   "source": [
    "error = df2['er'].to_numpy()"
   ]
  },
  {
   "cell_type": "code",
   "execution_count": 78,
   "metadata": {},
   "outputs": [
    {
     "data": {
      "text/plain": [
       "308"
      ]
     },
     "execution_count": 78,
     "metadata": {},
     "output_type": "execute_result"
    }
   ],
   "source": [
    "len(error)"
   ]
  },
  {
   "cell_type": "code",
   "execution_count": 79,
   "metadata": {},
   "outputs": [],
   "source": [
    "error2 = []\n",
    "\n",
    "for i in range(len(error)):\n",
    "    er2 = error[i] ** 2\n",
    "    error2.append(er2)"
   ]
  },
  {
   "cell_type": "code",
   "execution_count": 80,
   "metadata": {},
   "outputs": [],
   "source": [
    "rmse = np.sqrt(np.sum(error2)/(len(error)-2))"
   ]
  },
  {
   "cell_type": "code",
   "execution_count": 81,
   "metadata": {},
   "outputs": [
    {
     "data": {
      "text/plain": [
       "1.25"
      ]
     },
     "execution_count": 81,
     "metadata": {},
     "output_type": "execute_result"
    }
   ],
   "source": [
    "np.round(rmse, 2)"
   ]
  },
  {
   "cell_type": "code",
   "execution_count": 82,
   "metadata": {},
   "outputs": [],
   "source": [
    "# 소득이 5천만원인 30대 이상 가구주중에서 순자산이 2억원 이상인 비율"
   ]
  },
  {
   "cell_type": "code",
   "execution_count": 83,
   "metadata": {},
   "outputs": [],
   "source": [
    "import scipy.stats as st"
   ]
  },
  {
   "cell_type": "code",
   "execution_count": 84,
   "metadata": {},
   "outputs": [],
   "source": [
    "intercept = asset_model.params[0] "
   ]
  },
  {
   "cell_type": "code",
   "execution_count": 85,
   "metadata": {},
   "outputs": [],
   "source": [
    "slope = asset_model.params[1]"
   ]
  },
  {
   "cell_type": "code",
   "execution_count": 86,
   "metadata": {},
   "outputs": [],
   "source": [
    "asset1_mn = intercept + 0.5*slope"
   ]
  },
  {
   "cell_type": "code",
   "execution_count": 87,
   "metadata": {},
   "outputs": [
    {
     "data": {
      "text/plain": [
       "1.6137837361584668"
      ]
     },
     "execution_count": 87,
     "metadata": {},
     "output_type": "execute_result"
    }
   ],
   "source": [
    "asset1_mn"
   ]
  },
  {
   "cell_type": "code",
   "execution_count": 88,
   "metadata": {},
   "outputs": [],
   "source": [
    "dif = 2 -asset1_mn"
   ]
  },
  {
   "cell_type": "code",
   "execution_count": 89,
   "metadata": {},
   "outputs": [],
   "source": [
    "z = dif/rmse"
   ]
  },
  {
   "cell_type": "code",
   "execution_count": 90,
   "metadata": {},
   "outputs": [
    {
     "data": {
      "text/plain": [
       "0.308"
      ]
     },
     "execution_count": 90,
     "metadata": {},
     "output_type": "execute_result"
    }
   ],
   "source": [
    "np.round(z, 3)"
   ]
  },
  {
   "cell_type": "code",
   "execution_count": 91,
   "metadata": {},
   "outputs": [],
   "source": [
    "p_value = 1-st.norm.cdf(z)"
   ]
  },
  {
   "cell_type": "code",
   "execution_count": 92,
   "metadata": {},
   "outputs": [
    {
     "data": {
      "text/plain": [
       "0.38"
      ]
     },
     "execution_count": 92,
     "metadata": {},
     "output_type": "execute_result"
    }
   ],
   "source": [
    "np.round(p_value, 2)"
   ]
  },
  {
   "cell_type": "markdown",
   "metadata": {},
   "source": [
    "### 결정계수"
   ]
  },
  {
   "cell_type": "code",
   "execution_count": 94,
   "metadata": {},
   "outputs": [],
   "source": [
    "df3 = df2.copy()"
   ]
  },
  {
   "cell_type": "code",
   "execution_count": 95,
   "metadata": {},
   "outputs": [
    {
     "data": {
      "text/html": [
       "<div>\n",
       "<style scoped>\n",
       "    .dataframe tbody tr th:only-of-type {\n",
       "        vertical-align: middle;\n",
       "    }\n",
       "\n",
       "    .dataframe tbody tr th {\n",
       "        vertical-align: top;\n",
       "    }\n",
       "\n",
       "    .dataframe thead th {\n",
       "        text-align: right;\n",
       "    }\n",
       "</style>\n",
       "<table border=\"1\" class=\"dataframe\">\n",
       "  <thead>\n",
       "    <tr style=\"text-align: right;\">\n",
       "      <th></th>\n",
       "      <th>income</th>\n",
       "      <th>net_asset</th>\n",
       "      <th>predicted</th>\n",
       "      <th>er</th>\n",
       "    </tr>\n",
       "  </thead>\n",
       "  <tbody>\n",
       "    <tr>\n",
       "      <th>19</th>\n",
       "      <td>0.1033</td>\n",
       "      <td>0.5252</td>\n",
       "      <td>0.507219</td>\n",
       "      <td>0.017981</td>\n",
       "    </tr>\n",
       "    <tr>\n",
       "      <th>190</th>\n",
       "      <td>0.3959</td>\n",
       "      <td>-0.4780</td>\n",
       "      <td>1.323405</td>\n",
       "      <td>-1.801405</td>\n",
       "    </tr>\n",
       "    <tr>\n",
       "      <th>191</th>\n",
       "      <td>0.1197</td>\n",
       "      <td>0.1610</td>\n",
       "      <td>0.552966</td>\n",
       "      <td>-0.391966</td>\n",
       "    </tr>\n",
       "  </tbody>\n",
       "</table>\n",
       "</div>"
      ],
      "text/plain": [
       "     income  net_asset  predicted        er\n",
       "19   0.1033     0.5252   0.507219  0.017981\n",
       "190  0.3959    -0.4780   1.323405 -1.801405\n",
       "191  0.1197     0.1610   0.552966 -0.391966"
      ]
     },
     "execution_count": 95,
     "metadata": {},
     "output_type": "execute_result"
    }
   ],
   "source": [
    "df3.head(3)"
   ]
  },
  {
   "cell_type": "code",
   "execution_count": 96,
   "metadata": {},
   "outputs": [],
   "source": [
    "df3['y_bar'] = df3['net_asset'].mean()"
   ]
  },
  {
   "cell_type": "code",
   "execution_count": 97,
   "metadata": {},
   "outputs": [],
   "source": [
    "df3['sst'] = (df3['net_asset'] - df3['y_bar'])**2\n",
    "df3['ssr'] = (df3['predicted'] - df3['y_bar'])**2\n",
    "df3['sse'] = (df3['net_asset'] - df3['predicted'])**2"
   ]
  },
  {
   "cell_type": "code",
   "execution_count": 98,
   "metadata": {},
   "outputs": [],
   "source": [
    "df4 = df3[['sst', 'ssr', 'sse']]"
   ]
  },
  {
   "cell_type": "code",
   "execution_count": 99,
   "metadata": {},
   "outputs": [],
   "source": [
    "df5 = df4.sum(axis=0)"
   ]
  },
  {
   "cell_type": "code",
   "execution_count": 100,
   "metadata": {},
   "outputs": [],
   "source": [
    "r2 = df5['ssr']/df5['sst']"
   ]
  },
  {
   "cell_type": "code",
   "execution_count": 101,
   "metadata": {},
   "outputs": [
    {
     "data": {
      "text/plain": [
       "0.13642435181998333"
      ]
     },
     "execution_count": 101,
     "metadata": {},
     "output_type": "execute_result"
    }
   ],
   "source": [
    "r2"
   ]
  },
  {
   "cell_type": "code",
   "execution_count": 102,
   "metadata": {},
   "outputs": [
    {
     "name": "stdout",
     "output_type": "stream",
     "text": [
      "R2:  0.13642435181998314\n"
     ]
    }
   ],
   "source": [
    "print('R2: ', asset_model.rsquared)"
   ]
  },
  {
   "cell_type": "code",
   "execution_count": 103,
   "metadata": {},
   "outputs": [],
   "source": [
    "#  adjucted R squae"
   ]
  },
  {
   "cell_type": "code",
   "execution_count": 104,
   "metadata": {},
   "outputs": [],
   "source": [
    "k = 2\n",
    "n = len(df3)"
   ]
  },
  {
   "cell_type": "code",
   "execution_count": 105,
   "metadata": {},
   "outputs": [
    {
     "data": {
      "text/plain": [
       "308"
      ]
     },
     "execution_count": 105,
     "metadata": {},
     "output_type": "execute_result"
    }
   ],
   "source": [
    "n"
   ]
  },
  {
   "cell_type": "code",
   "execution_count": 106,
   "metadata": {},
   "outputs": [],
   "source": [
    "a = df5['sse']/(n-k-1)\n",
    "b = df5['sst']/(n-1)\n",
    "adjR2 = 1 - a/b"
   ]
  },
  {
   "cell_type": "code",
   "execution_count": 107,
   "metadata": {},
   "outputs": [
    {
     "data": {
      "text/plain": [
       "0.1307615606843765"
      ]
     },
     "execution_count": 107,
     "metadata": {},
     "output_type": "execute_result"
    }
   ],
   "source": [
    "adjR2"
   ]
  },
  {
   "cell_type": "code",
   "execution_count": 108,
   "metadata": {},
   "outputs": [
    {
     "name": "stdout",
     "output_type": "stream",
     "text": [
      "adjsted R2:  0.133602209178872\n"
     ]
    }
   ],
   "source": [
    "print('adjsted R2: ', asset_model.rsquared_adj)"
   ]
  },
  {
   "cell_type": "code",
   "execution_count": null,
   "metadata": {},
   "outputs": [],
   "source": []
  },
  {
   "cell_type": "code",
   "execution_count": null,
   "metadata": {},
   "outputs": [],
   "source": []
  }
 ],
 "metadata": {
  "kernelspec": {
   "display_name": "Python 3 (ipykernel)",
   "language": "python",
   "name": "python3"
  },
  "language_info": {
   "codemirror_mode": {
    "name": "ipython",
    "version": 3
   },
   "file_extension": ".py",
   "mimetype": "text/x-python",
   "name": "python",
   "nbconvert_exporter": "python",
   "pygments_lexer": "ipython3",
   "version": "3.9.13"
  }
 },
 "nbformat": 4,
 "nbformat_minor": 2
}
