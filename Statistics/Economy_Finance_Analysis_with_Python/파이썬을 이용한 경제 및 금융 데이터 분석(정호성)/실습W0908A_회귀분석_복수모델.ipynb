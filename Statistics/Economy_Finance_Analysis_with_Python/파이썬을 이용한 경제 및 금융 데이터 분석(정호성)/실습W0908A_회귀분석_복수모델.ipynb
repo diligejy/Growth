{
 "cells": [
  {
   "cell_type": "markdown",
   "metadata": {},
   "source": [
    "#  제9장"
   ]
  },
  {
   "cell_type": "code",
   "execution_count": 1,
   "metadata": {},
   "outputs": [],
   "source": [
    "%matplotlib inline\n",
    "import numpy as np \n",
    "import matplotlib.pyplot as plt \n",
    "import pandas as pd\n",
    "import os\n",
    "from ipypublish import nb_setup"
   ]
  },
  {
   "cell_type": "code",
   "execution_count": 2,
   "metadata": {},
   "outputs": [],
   "source": [
    "import statsmodels.api as sm\n",
    "from statsmodels.formula.api import ols\n",
    "from statsmodels.iolib.summary2 import summary_col"
   ]
  },
  {
   "cell_type": "code",
   "execution_count": 3,
   "metadata": {},
   "outputs": [],
   "source": [
    "df = pd.read_csv(\"education2020.csv\")"
   ]
  },
  {
   "cell_type": "code",
   "execution_count": 4,
   "metadata": {},
   "outputs": [],
   "source": [
    "df1 =  df.loc[ (df['income'] > 0) &  (df['asset'] > 0) &  (df['education_year'] > 0) & (df['age'] > 0) ]"
   ]
  },
  {
   "cell_type": "markdown",
   "metadata": {},
   "source": [
    "### Model 1 : y : income, x: education_year\n",
    "### Model 2 : y : income, x: education_year, age\n",
    "### Model 3 : y : income, x: education_year, age, age2\n",
    "### Model 4 : y : income, x: education_year, age, age2, sex\n",
    "### Model 5 : y : income, x: education_year, age, age2, sex, job_code\n",
    "### Model 6 : y : income, x: education_year, age, age2, sex, job_code, marriage_code"
   ]
  },
  {
   "cell_type": "code",
   "execution_count": 5,
   "metadata": {},
   "outputs": [],
   "source": [
    "df2=df1.copy()"
   ]
  },
  {
   "cell_type": "code",
   "execution_count": 6,
   "metadata": {},
   "outputs": [],
   "source": [
    "df2['age2'] = df2['age']**2"
   ]
  },
  {
   "cell_type": "code",
   "execution_count": 7,
   "metadata": {},
   "outputs": [],
   "source": [
    "df2['sex'] = (df2['sex']).astype(int)"
   ]
  },
  {
   "cell_type": "code",
   "execution_count": 8,
   "metadata": {},
   "outputs": [],
   "source": [
    "df2['job_code'] = df2['job']"
   ]
  },
  {
   "cell_type": "code",
   "execution_count": 9,
   "metadata": {},
   "outputs": [],
   "source": [
    "marriage_dummies = pd.get_dummies(df2['marriage']).rename(columns=lambda x: 'm'+str(x))"
   ]
  },
  {
   "cell_type": "code",
   "execution_count": 10,
   "metadata": {},
   "outputs": [
    {
     "data": {
      "text/html": [
       "<div>\n",
       "<style scoped>\n",
       "    .dataframe tbody tr th:only-of-type {\n",
       "        vertical-align: middle;\n",
       "    }\n",
       "\n",
       "    .dataframe tbody tr th {\n",
       "        vertical-align: top;\n",
       "    }\n",
       "\n",
       "    .dataframe thead th {\n",
       "        text-align: right;\n",
       "    }\n",
       "</style>\n",
       "<table border=\"1\" class=\"dataframe\">\n",
       "  <thead>\n",
       "    <tr style=\"text-align: right;\">\n",
       "      <th></th>\n",
       "      <th>m1</th>\n",
       "      <th>m2</th>\n",
       "      <th>m3</th>\n",
       "      <th>m4</th>\n",
       "    </tr>\n",
       "  </thead>\n",
       "  <tbody>\n",
       "    <tr>\n",
       "      <th>0</th>\n",
       "      <td>0</td>\n",
       "      <td>1</td>\n",
       "      <td>0</td>\n",
       "      <td>0</td>\n",
       "    </tr>\n",
       "    <tr>\n",
       "      <th>1</th>\n",
       "      <td>0</td>\n",
       "      <td>1</td>\n",
       "      <td>0</td>\n",
       "      <td>0</td>\n",
       "    </tr>\n",
       "    <tr>\n",
       "      <th>2</th>\n",
       "      <td>0</td>\n",
       "      <td>0</td>\n",
       "      <td>1</td>\n",
       "      <td>0</td>\n",
       "    </tr>\n",
       "    <tr>\n",
       "      <th>3</th>\n",
       "      <td>0</td>\n",
       "      <td>1</td>\n",
       "      <td>0</td>\n",
       "      <td>0</td>\n",
       "    </tr>\n",
       "    <tr>\n",
       "      <th>4</th>\n",
       "      <td>1</td>\n",
       "      <td>0</td>\n",
       "      <td>0</td>\n",
       "      <td>0</td>\n",
       "    </tr>\n",
       "    <tr>\n",
       "      <th>...</th>\n",
       "      <td>...</td>\n",
       "      <td>...</td>\n",
       "      <td>...</td>\n",
       "      <td>...</td>\n",
       "    </tr>\n",
       "    <tr>\n",
       "      <th>18059</th>\n",
       "      <td>0</td>\n",
       "      <td>1</td>\n",
       "      <td>0</td>\n",
       "      <td>0</td>\n",
       "    </tr>\n",
       "    <tr>\n",
       "      <th>18060</th>\n",
       "      <td>0</td>\n",
       "      <td>1</td>\n",
       "      <td>0</td>\n",
       "      <td>0</td>\n",
       "    </tr>\n",
       "    <tr>\n",
       "      <th>18061</th>\n",
       "      <td>0</td>\n",
       "      <td>1</td>\n",
       "      <td>0</td>\n",
       "      <td>0</td>\n",
       "    </tr>\n",
       "    <tr>\n",
       "      <th>18062</th>\n",
       "      <td>0</td>\n",
       "      <td>0</td>\n",
       "      <td>0</td>\n",
       "      <td>1</td>\n",
       "    </tr>\n",
       "    <tr>\n",
       "      <th>18063</th>\n",
       "      <td>0</td>\n",
       "      <td>1</td>\n",
       "      <td>0</td>\n",
       "      <td>0</td>\n",
       "    </tr>\n",
       "  </tbody>\n",
       "</table>\n",
       "<p>17135 rows × 4 columns</p>\n",
       "</div>"
      ],
      "text/plain": [
       "       m1  m2  m3  m4\n",
       "0       0   1   0   0\n",
       "1       0   1   0   0\n",
       "2       0   0   1   0\n",
       "3       0   1   0   0\n",
       "4       1   0   0   0\n",
       "...    ..  ..  ..  ..\n",
       "18059   0   1   0   0\n",
       "18060   0   1   0   0\n",
       "18061   0   1   0   0\n",
       "18062   0   0   0   1\n",
       "18063   0   1   0   0\n",
       "\n",
       "[17135 rows x 4 columns]"
      ]
     },
     "execution_count": 10,
     "metadata": {},
     "output_type": "execute_result"
    }
   ],
   "source": [
    "marriage_dummies"
   ]
  },
  {
   "cell_type": "code",
   "execution_count": 11,
   "metadata": {},
   "outputs": [],
   "source": [
    "sex_dummies = pd.get_dummies(df2['sex']).rename(columns=lambda x: 's'+str(x))"
   ]
  },
  {
   "cell_type": "code",
   "execution_count": 12,
   "metadata": {},
   "outputs": [],
   "source": [
    "job_dummies = pd.get_dummies(df2['job_code']).rename(columns=lambda x: 'd'+str(x))"
   ]
  },
  {
   "cell_type": "code",
   "execution_count": 13,
   "metadata": {},
   "outputs": [],
   "source": [
    "df3 = pd.concat([df2, sex_dummies, job_dummies, marriage_dummies], axis=1)"
   ]
  },
  {
   "cell_type": "code",
   "execution_count": 14,
   "metadata": {},
   "outputs": [],
   "source": [
    "df3['const'] = 1\n",
    "# Create lists of variables to be used in each regression\n",
    "\n",
    "X1 = ['const', 'education_year']\n",
    "X2 = ['const', 'education_year', 'age', 'age2']\n",
    "X3 = ['const', 'education_year', 'age', 'age2', 's2']\n",
    "X4 = ['const', 'education_year', 'age', 'age2', 's2', 'd2', 'd3', 'd4', 'd5', 'd6', 'd7', 'd8', 'd9', 'dA']\n",
    "X5 = ['const', 'education_year', 'age', 'age2', 's2', 'd2', 'd3', 'd4', 'd5', 'd6', 'd7', 'd8', 'd9', 'dA','m2', 'm3', 'm4']\n",
    "\n",
    "# Estimate an OLS regression for each set of variables\n",
    "reg1 = sm.OLS(df3['income'], df3[X1], missing='drop').fit()\n",
    "reg2 = sm.OLS(df3['income'], df3[X2], missing='drop').fit()\n",
    "reg3 = sm.OLS(df3['income'], df3[X3], missing='drop').fit()\n",
    "reg4 = sm.OLS(df3['income'], df3[X4], missing='drop').fit()\n",
    "reg5 = sm.OLS(df3['income'], df3[X5], missing='drop').fit()"
   ]
  },
  {
   "cell_type": "code",
   "execution_count": 15,
   "metadata": {},
   "outputs": [
    {
     "name": "stdout",
     "output_type": "stream",
     "text": [
      "                            OLS Regression Results                            \n",
      "==============================================================================\n",
      "Dep. Variable:                 income   R-squared:                       0.203\n",
      "Model:                            OLS   Adj. R-squared:                  0.203\n",
      "Method:                 Least Squares   F-statistic:                     1090.\n",
      "Date:                Mon, 13 Feb 2023   Prob (F-statistic):               0.00\n",
      "Time:                        16:10:32   Log-Likelihood:            -1.7031e+05\n",
      "No. Observations:               17135   AIC:                         3.406e+05\n",
      "Df Residuals:                   17130   BIC:                         3.407e+05\n",
      "Df Model:                           4                                         \n",
      "Covariance Type:            nonrobust                                         \n",
      "==================================================================================\n",
      "                     coef    std err          t      P>|t|      [0.025      0.975]\n",
      "----------------------------------------------------------------------------------\n",
      "const          -1.184e+04    568.382    -20.835      0.000    -1.3e+04   -1.07e+04\n",
      "education_year   509.8678     13.051     39.068      0.000     484.287     535.449\n",
      "age              451.4836     18.700     24.143      0.000     414.829     488.138\n",
      "age2              -4.0693      0.163    -24.929      0.000      -4.389      -3.749\n",
      "s2             -1916.6636     94.188    -20.349      0.000   -2101.283   -1732.045\n",
      "==============================================================================\n",
      "Omnibus:                    27644.445   Durbin-Watson:                   1.927\n",
      "Prob(Omnibus):                  0.000   Jarque-Bera (JB):         66055334.132\n",
      "Skew:                          10.069   Prob(JB):                         0.00\n",
      "Kurtosis:                     306.503   Cond. No.                     5.60e+04\n",
      "==============================================================================\n",
      "\n",
      "Notes:\n",
      "[1] Standard Errors assume that the covariance matrix of the errors is correctly specified.\n",
      "[2] The condition number is large, 5.6e+04. This might indicate that there are\n",
      "strong multicollinearity or other numerical problems.\n"
     ]
    }
   ],
   "source": [
    "print(reg3.summary())"
   ]
  },
  {
   "cell_type": "code",
   "execution_count": 16,
   "metadata": {},
   "outputs": [
    {
     "name": "stdout",
     "output_type": "stream",
     "text": [
      "                           Table 1 - OLS Regressions\n",
      "================================================================================\n",
      "                   Model 1     Model 2      Model 3      Model 4      Model 5   \n",
      "--------------------------------------------------------------------------------\n",
      "const            -1809.22*** -14003.25*** -11842.16*** -12886.04*** -12679.13***\n",
      "                 (142.12)    (565.06)     (568.38)     (560.27)     (552.29)    \n",
      "education_year   607.63***   572.07***    509.87***    379.69***    350.49***   \n",
      "                 (11.03)     (12.84)      (13.05)      (14.09)      (13.86)     \n",
      "age                          483.86***    451.48***    473.47***    411.92***   \n",
      "                             (18.86)      (18.70)      (18.61)      (19.11)     \n",
      "age2                         -4.33***     -4.07***     -4.01***     -3.72***    \n",
      "                             (0.16)       (0.16)       (0.16)       (0.17)      \n",
      "s2                                        -1916.66***  -1962.54***  -622.95***  \n",
      "                                          (94.19)      (97.22)      (119.36)    \n",
      "d2                                                     3614.99***   3186.97***  \n",
      "                                                       (153.50)     (150.45)    \n",
      "d3                                                     3125.16***   2607.28***  \n",
      "                                                       (151.43)     (148.68)    \n",
      "d4                                                     1108.76***   870.93***   \n",
      "                                                       (171.52)     (167.70)    \n",
      "d5                                                     1452.82***   1093.88***  \n",
      "                                                       (170.34)     (166.70)    \n",
      "d6                                                     490.30***    173.53      \n",
      "                                                       (168.47)     (164.97)    \n",
      "d7                                                     906.89***    601.11***   \n",
      "                                                       (161.69)     (157.96)    \n",
      "d8                                                     1299.80***   1027.59***  \n",
      "                                                       (148.06)     (144.67)    \n",
      "d9                                                     -100.46      -101.57     \n",
      "                                                       (142.34)     (138.82)    \n",
      "dA                                                     2956.83***   2021.54**   \n",
      "                                                       (987.90)     (963.42)    \n",
      "m2                                                                  3401.64***  \n",
      "                                                                    (143.25)    \n",
      "m3                                                                  2096.61***  \n",
      "                                                                    (189.14)    \n",
      "m4                                                                  354.07**    \n",
      "                                                                    (175.00)    \n",
      "R-squared        0.15        0.18         0.20         0.24         0.28        \n",
      "R-squared Adj.   0.15        0.18         0.20         0.24         0.28        \n",
      "R-squared        0.15        0.18         0.20         0.24         0.28        \n",
      "No. observations 17135       17135        17135        17135        17135       \n",
      "================================================================================\n",
      "Standard errors in parentheses.\n",
      "* p<.1, ** p<.05, ***p<.01\n"
     ]
    }
   ],
   "source": [
    "info_dict={'R-squared' : lambda x: f\"{x.rsquared:.2f}\", 'No. observations' : lambda x: f\"{int(x.nobs):d}\"}\n",
    "\n",
    "results_table = summary_col(results=[reg1, reg2, reg3, reg4, reg5],\n",
    "                            float_format='%0.2f',\n",
    "                            stars = True,\n",
    "                            model_names=['Model 1','Model 2','Model 3','Model 4','Model 5'],\n",
    "                            info_dict=info_dict,\n",
    "                            regressor_order=['const','education_year', 'age','age2','s2',\n",
    "                                             'd2','d3','d4', 'd5', 'd6', 'd7', 'd8', 'd9','dA'\n",
    "                                             ,'m2','m3','m4'])\n",
    "\n",
    "results_table.add_title('Table 1 - OLS Regressions')\n",
    "\n",
    "print(results_table)"
   ]
  },
  {
   "cell_type": "code",
   "execution_count": null,
   "metadata": {},
   "outputs": [],
   "source": []
  }
 ],
 "metadata": {
  "kernelspec": {
   "display_name": "Python 3 (ipykernel)",
   "language": "python",
   "name": "python3"
  },
  "language_info": {
   "codemirror_mode": {
    "name": "ipython",
    "version": 3
   },
   "file_extension": ".py",
   "mimetype": "text/x-python",
   "name": "python",
   "nbconvert_exporter": "python",
   "pygments_lexer": "ipython3",
   "version": "3.9.13"
  }
 },
 "nbformat": 4,
 "nbformat_minor": 2
}
