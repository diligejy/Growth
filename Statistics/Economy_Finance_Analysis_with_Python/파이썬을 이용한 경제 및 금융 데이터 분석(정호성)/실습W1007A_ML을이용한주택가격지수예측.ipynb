{
 "cells": [
  {
   "cell_type": "code",
   "execution_count": 84,
   "metadata": {},
   "outputs": [],
   "source": [
    "# 자료 결합"
   ]
  },
  {
   "cell_type": "code",
   "execution_count": 110,
   "metadata": {},
   "outputs": [],
   "source": [
    "%matplotlib inline\n",
    "import numpy as np \n",
    "import matplotlib.pyplot as plt \n",
    "import pandas as pd"
   ]
  },
  {
   "cell_type": "code",
   "execution_count": 86,
   "metadata": {},
   "outputs": [],
   "source": [
    "from statsmodels.compat import lzip\n",
    "import statsmodels.api as sm\n",
    "from statsmodels.formula.api import ols"
   ]
  },
  {
   "cell_type": "code",
   "execution_count": 87,
   "metadata": {},
   "outputs": [],
   "source": [
    "import tensorflow as tf"
   ]
  },
  {
   "cell_type": "code",
   "execution_count": 88,
   "metadata": {},
   "outputs": [],
   "source": [
    "df = pd.read_csv('Z:/B01_HSCHUNG/PYTHON/B_CLASS/A_BigDataEconomics/C202201/DATA/D_HousePrice/HPI_SEOUL.csv', encoding='CP949')"
   ]
  },
  {
   "cell_type": "code",
   "execution_count": 89,
   "metadata": {},
   "outputs": [
    {
     "data": {
      "text/html": [
       "<div>\n",
       "<style scoped>\n",
       "    .dataframe tbody tr th:only-of-type {\n",
       "        vertical-align: middle;\n",
       "    }\n",
       "\n",
       "    .dataframe tbody tr th {\n",
       "        vertical-align: top;\n",
       "    }\n",
       "\n",
       "    .dataframe thead th {\n",
       "        text-align: right;\n",
       "    }\n",
       "</style>\n",
       "<table border=\"1\" class=\"dataframe\">\n",
       "  <thead>\n",
       "    <tr style=\"text-align: right;\">\n",
       "      <th></th>\n",
       "      <th>YYM1</th>\n",
       "      <th>CITY</th>\n",
       "      <th>CITY_CODE</th>\n",
       "      <th>GU_NAME</th>\n",
       "      <th>GU_CODE2</th>\n",
       "      <th>API_TT0</th>\n",
       "      <th>BaseRate</th>\n",
       "      <th>MoRate</th>\n",
       "      <th>FREQ</th>\n",
       "      <th>A_PSUM</th>\n",
       "      <th>...</th>\n",
       "      <th>LTV</th>\n",
       "      <th>DTI</th>\n",
       "      <th>MV_APT</th>\n",
       "      <th>JAEGO</th>\n",
       "      <th>BUNYANG</th>\n",
       "      <th>N_BUNYANG</th>\n",
       "      <th>IND_INDEX</th>\n",
       "      <th>JTP</th>\n",
       "      <th>LOAN_T</th>\n",
       "      <th>MON</th>\n",
       "    </tr>\n",
       "  </thead>\n",
       "  <tbody>\n",
       "    <tr>\n",
       "      <th>1147</th>\n",
       "      <td>201612</td>\n",
       "      <td>서울특별시</td>\n",
       "      <td>11</td>\n",
       "      <td>강동구</td>\n",
       "      <td>1174</td>\n",
       "      <td>116.453338</td>\n",
       "      <td>1.25</td>\n",
       "      <td>3.13</td>\n",
       "      <td>72</td>\n",
       "      <td>3.614700</td>\n",
       "      <td>...</td>\n",
       "      <td>70.000000</td>\n",
       "      <td>63.611317</td>\n",
       "      <td>24.466097</td>\n",
       "      <td>3725</td>\n",
       "      <td>0</td>\n",
       "      <td>0</td>\n",
       "      <td>120.4</td>\n",
       "      <td>73.233545</td>\n",
       "      <td>305.476327</td>\n",
       "      <td>12</td>\n",
       "    </tr>\n",
       "    <tr>\n",
       "      <th>1148</th>\n",
       "      <td>201703</td>\n",
       "      <td>서울특별시</td>\n",
       "      <td>11</td>\n",
       "      <td>강동구</td>\n",
       "      <td>1174</td>\n",
       "      <td>117.595660</td>\n",
       "      <td>1.25</td>\n",
       "      <td>3.21</td>\n",
       "      <td>279</td>\n",
       "      <td>13.742008</td>\n",
       "      <td>...</td>\n",
       "      <td>70.000000</td>\n",
       "      <td>63.602881</td>\n",
       "      <td>24.466097</td>\n",
       "      <td>0</td>\n",
       "      <td>460</td>\n",
       "      <td>30</td>\n",
       "      <td>113.7</td>\n",
       "      <td>73.220091</td>\n",
       "      <td>307.784349</td>\n",
       "      <td>3</td>\n",
       "    </tr>\n",
       "    <tr>\n",
       "      <th>1149</th>\n",
       "      <td>201706</td>\n",
       "      <td>서울특별시</td>\n",
       "      <td>11</td>\n",
       "      <td>강동구</td>\n",
       "      <td>1174</td>\n",
       "      <td>127.266315</td>\n",
       "      <td>1.25</td>\n",
       "      <td>3.22</td>\n",
       "      <td>362</td>\n",
       "      <td>19.242373</td>\n",
       "      <td>...</td>\n",
       "      <td>70.000000</td>\n",
       "      <td>63.611486</td>\n",
       "      <td>24.466097</td>\n",
       "      <td>0</td>\n",
       "      <td>1745</td>\n",
       "      <td>0</td>\n",
       "      <td>98.4</td>\n",
       "      <td>72.379698</td>\n",
       "      <td>315.170313</td>\n",
       "      <td>6</td>\n",
       "    </tr>\n",
       "    <tr>\n",
       "      <th>1150</th>\n",
       "      <td>201709</td>\n",
       "      <td>서울특별시</td>\n",
       "      <td>11</td>\n",
       "      <td>강동구</td>\n",
       "      <td>1174</td>\n",
       "      <td>130.400708</td>\n",
       "      <td>1.25</td>\n",
       "      <td>3.24</td>\n",
       "      <td>193</td>\n",
       "      <td>11.178257</td>\n",
       "      <td>...</td>\n",
       "      <td>46.062176</td>\n",
       "      <td>43.937824</td>\n",
       "      <td>24.466097</td>\n",
       "      <td>687</td>\n",
       "      <td>0</td>\n",
       "      <td>0</td>\n",
       "      <td>129.0</td>\n",
       "      <td>71.199624</td>\n",
       "      <td>316.459837</td>\n",
       "      <td>9</td>\n",
       "    </tr>\n",
       "    <tr>\n",
       "      <th>1151</th>\n",
       "      <td>201712</td>\n",
       "      <td>서울특별시</td>\n",
       "      <td>11</td>\n",
       "      <td>강동구</td>\n",
       "      <td>1174</td>\n",
       "      <td>133.046313</td>\n",
       "      <td>1.50</td>\n",
       "      <td>3.42</td>\n",
       "      <td>82</td>\n",
       "      <td>4.605583</td>\n",
       "      <td>...</td>\n",
       "      <td>45.365854</td>\n",
       "      <td>44.634146</td>\n",
       "      <td>24.466097</td>\n",
       "      <td>0</td>\n",
       "      <td>0</td>\n",
       "      <td>0</td>\n",
       "      <td>111.5</td>\n",
       "      <td>70.058967</td>\n",
       "      <td>319.561803</td>\n",
       "      <td>12</td>\n",
       "    </tr>\n",
       "  </tbody>\n",
       "</table>\n",
       "<p>5 rows × 22 columns</p>\n",
       "</div>"
      ],
      "text/plain": [
       "        YYM1   CITY  CITY_CODE GU_NAME  GU_CODE2     API_TT0  BaseRate  \\\n",
       "1147  201612  서울특별시         11     강동구      1174  116.453338      1.25   \n",
       "1148  201703  서울특별시         11     강동구      1174  117.595660      1.25   \n",
       "1149  201706  서울특별시         11     강동구      1174  127.266315      1.25   \n",
       "1150  201709  서울특별시         11     강동구      1174  130.400708      1.25   \n",
       "1151  201712  서울특별시         11     강동구      1174  133.046313      1.50   \n",
       "\n",
       "      MoRate  FREQ     A_PSUM  ...        LTV        DTI     MV_APT  JAEGO  \\\n",
       "1147    3.13    72   3.614700  ...  70.000000  63.611317  24.466097   3725   \n",
       "1148    3.21   279  13.742008  ...  70.000000  63.602881  24.466097      0   \n",
       "1149    3.22   362  19.242373  ...  70.000000  63.611486  24.466097      0   \n",
       "1150    3.24   193  11.178257  ...  46.062176  43.937824  24.466097    687   \n",
       "1151    3.42    82   4.605583  ...  45.365854  44.634146  24.466097      0   \n",
       "\n",
       "      BUNYANG  N_BUNYANG  IND_INDEX        JTP      LOAN_T  MON  \n",
       "1147        0          0      120.4  73.233545  305.476327   12  \n",
       "1148      460         30      113.7  73.220091  307.784349    3  \n",
       "1149     1745          0       98.4  72.379698  315.170313    6  \n",
       "1150        0          0      129.0  71.199624  316.459837    9  \n",
       "1151        0          0      111.5  70.058967  319.561803   12  \n",
       "\n",
       "[5 rows x 22 columns]"
      ]
     },
     "execution_count": 89,
     "metadata": {},
     "output_type": "execute_result"
    }
   ],
   "source": [
    "df.tail()"
   ]
  },
  {
   "cell_type": "code",
   "execution_count": 90,
   "metadata": {},
   "outputs": [],
   "source": [
    "df1 = df[['API_TT0', 'GU_CODE2', 'BaseRate', 'IND_INDEX', 'LTV', 'DTI']]"
   ]
  },
  {
   "cell_type": "code",
   "execution_count": 91,
   "metadata": {},
   "outputs": [
    {
     "data": {
      "text/html": [
       "<div>\n",
       "<style scoped>\n",
       "    .dataframe tbody tr th:only-of-type {\n",
       "        vertical-align: middle;\n",
       "    }\n",
       "\n",
       "    .dataframe tbody tr th {\n",
       "        vertical-align: top;\n",
       "    }\n",
       "\n",
       "    .dataframe thead th {\n",
       "        text-align: right;\n",
       "    }\n",
       "</style>\n",
       "<table border=\"1\" class=\"dataframe\">\n",
       "  <thead>\n",
       "    <tr style=\"text-align: right;\">\n",
       "      <th></th>\n",
       "      <th>API_TT0</th>\n",
       "      <th>GU_CODE2</th>\n",
       "      <th>BaseRate</th>\n",
       "      <th>IND_INDEX</th>\n",
       "      <th>LTV</th>\n",
       "      <th>DTI</th>\n",
       "    </tr>\n",
       "  </thead>\n",
       "  <tbody>\n",
       "    <tr>\n",
       "      <th>1149</th>\n",
       "      <td>127.266315</td>\n",
       "      <td>1174</td>\n",
       "      <td>1.25</td>\n",
       "      <td>98.4</td>\n",
       "      <td>70.000000</td>\n",
       "      <td>63.611486</td>\n",
       "    </tr>\n",
       "    <tr>\n",
       "      <th>1150</th>\n",
       "      <td>130.400708</td>\n",
       "      <td>1174</td>\n",
       "      <td>1.25</td>\n",
       "      <td>129.0</td>\n",
       "      <td>46.062176</td>\n",
       "      <td>43.937824</td>\n",
       "    </tr>\n",
       "    <tr>\n",
       "      <th>1151</th>\n",
       "      <td>133.046313</td>\n",
       "      <td>1174</td>\n",
       "      <td>1.50</td>\n",
       "      <td>111.5</td>\n",
       "      <td>45.365854</td>\n",
       "      <td>44.634146</td>\n",
       "    </tr>\n",
       "  </tbody>\n",
       "</table>\n",
       "</div>"
      ],
      "text/plain": [
       "         API_TT0  GU_CODE2  BaseRate  IND_INDEX        LTV        DTI\n",
       "1149  127.266315      1174      1.25       98.4  70.000000  63.611486\n",
       "1150  130.400708      1174      1.25      129.0  46.062176  43.937824\n",
       "1151  133.046313      1174      1.50      111.5  45.365854  44.634146"
      ]
     },
     "execution_count": 91,
     "metadata": {},
     "output_type": "execute_result"
    }
   ],
   "source": [
    "df1.tail(3)"
   ]
  },
  {
   "cell_type": "code",
   "execution_count": 92,
   "metadata": {},
   "outputs": [],
   "source": [
    "#pd.options.display.max_columns = 50\n",
    "pd.options.display.max_rows = 10000"
   ]
  },
  {
   "cell_type": "code",
   "execution_count": 93,
   "metadata": {},
   "outputs": [],
   "source": [
    "df2 = df1.copy()"
   ]
  },
  {
   "cell_type": "code",
   "execution_count": 94,
   "metadata": {},
   "outputs": [],
   "source": [
    "df2['BaseRate1']= df2.groupby('GU_CODE2')['BaseRate'].shift(1)\n",
    "df2['IND_INDEX1']= df2.groupby('GU_CODE2')['IND_INDEX'].shift(1)\n",
    "df2['LTV1']= df2.groupby('GU_CODE2')['LTV'].shift(1)\n",
    "df2['DTI1']= df2.groupby('GU_CODE2')['DTI'].shift(1)"
   ]
  },
  {
   "cell_type": "code",
   "execution_count": 95,
   "metadata": {},
   "outputs": [],
   "source": [
    "df2['BaseRate2']= df2.groupby('GU_CODE2')['BaseRate'].shift(2)\n",
    "df2['IND_INDEX2']= df2.groupby('GU_CODE2')['IND_INDEX'].shift(2)\n",
    "df2['LTV2']= df2.groupby('GU_CODE2')['LTV'].shift(2)\n",
    "df2['DTI2']= df2.groupby('GU_CODE2')['DTI'].shift(2)"
   ]
  },
  {
   "cell_type": "code",
   "execution_count": 96,
   "metadata": {},
   "outputs": [],
   "source": [
    "df3 = df2.dropna()"
   ]
  },
  {
   "cell_type": "code",
   "execution_count": 97,
   "metadata": {},
   "outputs": [
    {
     "data": {
      "text/html": [
       "<div>\n",
       "<style scoped>\n",
       "    .dataframe tbody tr th:only-of-type {\n",
       "        vertical-align: middle;\n",
       "    }\n",
       "\n",
       "    .dataframe tbody tr th {\n",
       "        vertical-align: top;\n",
       "    }\n",
       "\n",
       "    .dataframe thead th {\n",
       "        text-align: right;\n",
       "    }\n",
       "</style>\n",
       "<table border=\"1\" class=\"dataframe\">\n",
       "  <thead>\n",
       "    <tr style=\"text-align: right;\">\n",
       "      <th></th>\n",
       "      <th>API_TT0</th>\n",
       "      <th>GU_CODE2</th>\n",
       "      <th>BaseRate</th>\n",
       "      <th>IND_INDEX</th>\n",
       "      <th>LTV</th>\n",
       "      <th>DTI</th>\n",
       "      <th>BaseRate1</th>\n",
       "      <th>IND_INDEX1</th>\n",
       "      <th>LTV1</th>\n",
       "      <th>DTI1</th>\n",
       "      <th>BaseRate2</th>\n",
       "      <th>IND_INDEX2</th>\n",
       "      <th>LTV2</th>\n",
       "      <th>DTI2</th>\n",
       "    </tr>\n",
       "  </thead>\n",
       "  <tbody>\n",
       "    <tr>\n",
       "      <th>2</th>\n",
       "      <td>81.208640</td>\n",
       "      <td>1111</td>\n",
       "      <td>4.5</td>\n",
       "      <td>123.203</td>\n",
       "      <td>44.425621</td>\n",
       "      <td>94.000000</td>\n",
       "      <td>4.25</td>\n",
       "      <td>99.469</td>\n",
       "      <td>43.944172</td>\n",
       "      <td>94.827586</td>\n",
       "      <td>4.00</td>\n",
       "      <td>109.907</td>\n",
       "      <td>42.912677</td>\n",
       "      <td>93.255607</td>\n",
       "    </tr>\n",
       "    <tr>\n",
       "      <th>3</th>\n",
       "      <td>88.068940</td>\n",
       "      <td>1111</td>\n",
       "      <td>4.5</td>\n",
       "      <td>128.718</td>\n",
       "      <td>50.340131</td>\n",
       "      <td>95.151515</td>\n",
       "      <td>4.50</td>\n",
       "      <td>123.203</td>\n",
       "      <td>44.425621</td>\n",
       "      <td>94.000000</td>\n",
       "      <td>4.25</td>\n",
       "      <td>99.469</td>\n",
       "      <td>43.944172</td>\n",
       "      <td>94.827586</td>\n",
       "    </tr>\n",
       "    <tr>\n",
       "      <th>4</th>\n",
       "      <td>86.507762</td>\n",
       "      <td>1111</td>\n",
       "      <td>4.5</td>\n",
       "      <td>110.893</td>\n",
       "      <td>50.951451</td>\n",
       "      <td>48.890836</td>\n",
       "      <td>4.50</td>\n",
       "      <td>128.718</td>\n",
       "      <td>50.340131</td>\n",
       "      <td>95.151515</td>\n",
       "      <td>4.50</td>\n",
       "      <td>123.203</td>\n",
       "      <td>44.425621</td>\n",
       "      <td>94.000000</td>\n",
       "    </tr>\n",
       "    <tr>\n",
       "      <th>5</th>\n",
       "      <td>91.769299</td>\n",
       "      <td>1111</td>\n",
       "      <td>4.5</td>\n",
       "      <td>102.227</td>\n",
       "      <td>51.251565</td>\n",
       "      <td>48.351863</td>\n",
       "      <td>4.50</td>\n",
       "      <td>110.893</td>\n",
       "      <td>50.951451</td>\n",
       "      <td>48.890836</td>\n",
       "      <td>4.50</td>\n",
       "      <td>128.718</td>\n",
       "      <td>50.340131</td>\n",
       "      <td>95.151515</td>\n",
       "    </tr>\n",
       "    <tr>\n",
       "      <th>6</th>\n",
       "      <td>92.079847</td>\n",
       "      <td>1111</td>\n",
       "      <td>5.0</td>\n",
       "      <td>108.332</td>\n",
       "      <td>52.053270</td>\n",
       "      <td>48.055339</td>\n",
       "      <td>4.50</td>\n",
       "      <td>102.227</td>\n",
       "      <td>51.251565</td>\n",
       "      <td>48.351863</td>\n",
       "      <td>4.50</td>\n",
       "      <td>110.893</td>\n",
       "      <td>50.951451</td>\n",
       "      <td>48.890836</td>\n",
       "    </tr>\n",
       "  </tbody>\n",
       "</table>\n",
       "</div>"
      ],
      "text/plain": [
       "     API_TT0  GU_CODE2  BaseRate  IND_INDEX        LTV        DTI  BaseRate1  \\\n",
       "2  81.208640      1111       4.5    123.203  44.425621  94.000000       4.25   \n",
       "3  88.068940      1111       4.5    128.718  50.340131  95.151515       4.50   \n",
       "4  86.507762      1111       4.5    110.893  50.951451  48.890836       4.50   \n",
       "5  91.769299      1111       4.5    102.227  51.251565  48.351863       4.50   \n",
       "6  92.079847      1111       5.0    108.332  52.053270  48.055339       4.50   \n",
       "\n",
       "   IND_INDEX1       LTV1       DTI1  BaseRate2  IND_INDEX2       LTV2  \\\n",
       "2      99.469  43.944172  94.827586       4.00     109.907  42.912677   \n",
       "3     123.203  44.425621  94.000000       4.25      99.469  43.944172   \n",
       "4     128.718  50.340131  95.151515       4.50     123.203  44.425621   \n",
       "5     110.893  50.951451  48.890836       4.50     128.718  50.340131   \n",
       "6     102.227  51.251565  48.351863       4.50     110.893  50.951451   \n",
       "\n",
       "        DTI2  \n",
       "2  93.255607  \n",
       "3  94.827586  \n",
       "4  94.000000  \n",
       "5  95.151515  \n",
       "6  48.890836  "
      ]
     },
     "execution_count": 97,
     "metadata": {},
     "output_type": "execute_result"
    }
   ],
   "source": [
    "df3.head()"
   ]
  },
  {
   "cell_type": "markdown",
   "metadata": {},
   "source": [
    "<h3> OLS를 이용한 회귀분석</h3>"
   ]
  },
  {
   "cell_type": "code",
   "execution_count": 98,
   "metadata": {},
   "outputs": [],
   "source": [
    "edu_model = ols(\"API_TT0 ~ BaseRate1 + IND_INDEX1 + LTV2\", data=df3).fit()"
   ]
  },
  {
   "cell_type": "code",
   "execution_count": 99,
   "metadata": {},
   "outputs": [
    {
     "name": "stdout",
     "output_type": "stream",
     "text": [
      "                            OLS Regression Results                            \n",
      "==============================================================================\n",
      "Dep. Variable:                API_TT0   R-squared:                       0.363\n",
      "Model:                            OLS   Adj. R-squared:                  0.361\n",
      "Method:                 Least Squares   F-statistic:                     209.0\n",
      "Date:                Wed, 27 Jul 2022   Prob (F-statistic):          2.85e-107\n",
      "Time:                        15:07:39   Log-Likelihood:                -3861.4\n",
      "No. Observations:                1104   AIC:                             7731.\n",
      "Df Residuals:                    1100   BIC:                             7751.\n",
      "Df Model:                           3                                         \n",
      "Covariance Type:            nonrobust                                         \n",
      "==============================================================================\n",
      "                 coef    std err          t      P>|t|      [0.025      0.975]\n",
      "------------------------------------------------------------------------------\n",
      "Intercept     71.0618      3.592     19.784      0.000      64.014      78.110\n",
      "BaseRate1     -3.1829      0.314    -10.136      0.000      -3.799      -2.567\n",
      "IND_INDEX1     0.1681      0.025      6.778      0.000       0.119       0.217\n",
      "LTV2           0.2910      0.048      6.099      0.000       0.197       0.385\n",
      "==============================================================================\n",
      "Omnibus:                       25.412   Durbin-Watson:                   0.557\n",
      "Prob(Omnibus):                  0.000   Jarque-Bera (JB):               45.459\n",
      "Skew:                           0.146   Prob(JB):                     1.34e-10\n",
      "Kurtosis:                       3.950   Cond. No.                     1.80e+03\n",
      "==============================================================================\n",
      "\n",
      "Notes:\n",
      "[1] Standard Errors assume that the covariance matrix of the errors is correctly specified.\n",
      "[2] The condition number is large, 1.8e+03. This might indicate that there are\n",
      "strong multicollinearity or other numerical problems.\n"
     ]
    }
   ],
   "source": [
    "print(edu_model.summary())"
   ]
  },
  {
   "cell_type": "markdown",
   "metadata": {},
   "source": [
    "<h3>  Machine Learning을 이용한 회귀분석 </h3>"
   ]
  },
  {
   "cell_type": "code",
   "execution_count": 100,
   "metadata": {},
   "outputs": [],
   "source": [
    "X = df3[['BaseRate1', 'IND_INDEX1', 'LTV2']].to_numpy()"
   ]
  },
  {
   "cell_type": "code",
   "execution_count": 101,
   "metadata": {},
   "outputs": [],
   "source": [
    "X = X.astype('float32')"
   ]
  },
  {
   "cell_type": "code",
   "execution_count": 102,
   "metadata": {},
   "outputs": [],
   "source": [
    "k = X.shape[1]"
   ]
  },
  {
   "cell_type": "code",
   "execution_count": 103,
   "metadata": {},
   "outputs": [
    {
     "data": {
      "text/plain": [
       "3"
      ]
     },
     "execution_count": 103,
     "metadata": {},
     "output_type": "execute_result"
    }
   ],
   "source": [
    "k"
   ]
  },
  {
   "cell_type": "code",
   "execution_count": 104,
   "metadata": {},
   "outputs": [
    {
     "data": {
      "text/plain": [
       "(1104, 3)"
      ]
     },
     "execution_count": 104,
     "metadata": {},
     "output_type": "execute_result"
    }
   ],
   "source": [
    "X.shape"
   ]
  },
  {
   "cell_type": "code",
   "execution_count": 105,
   "metadata": {},
   "outputs": [],
   "source": [
    "y = df3[['API_TT0']].to_numpy()"
   ]
  },
  {
   "cell_type": "code",
   "execution_count": 106,
   "metadata": {},
   "outputs": [],
   "source": [
    "y = y.astype('float32')"
   ]
  },
  {
   "cell_type": "code",
   "execution_count": 107,
   "metadata": {},
   "outputs": [
    {
     "data": {
      "text/plain": [
       "(1104, 1)"
      ]
     },
     "execution_count": 107,
     "metadata": {},
     "output_type": "execute_result"
    }
   ],
   "source": [
    "y.shape"
   ]
  },
  {
   "cell_type": "code",
   "execution_count": 108,
   "metadata": {},
   "outputs": [],
   "source": [
    "W = tf.Variable(tf.random.normal((k, 1)))\n",
    "b = tf.Variable(tf.random.normal((1,)))"
   ]
  },
  {
   "cell_type": "code",
   "execution_count": 109,
   "metadata": {},
   "outputs": [
    {
     "data": {
      "text/plain": [
       "<tf.Variable 'Variable:0' shape=(1,) dtype=float32, numpy=array([-0.65960777], dtype=float32)>"
      ]
     },
     "execution_count": 109,
     "metadata": {},
     "output_type": "execute_result"
    }
   ],
   "source": [
    "#b = tf.Variable(10.01) # 3 Dimension\n",
    "b"
   ]
  },
  {
   "cell_type": "code",
   "execution_count": 63,
   "metadata": {},
   "outputs": [],
   "source": [
    "loss = []"
   ]
  },
  {
   "cell_type": "code",
   "execution_count": 64,
   "metadata": {},
   "outputs": [
    {
     "name": "stdout",
     "output_type": "stream",
     "text": [
      "    0 | 46558.316406 \n",
      "  100 | 128.894241 \n",
      "  200 | 119.313721 \n",
      "  300 | 111.955795 \n",
      "  400 | 106.304649 \n",
      "  500 | 101.964195 \n",
      "  600 |  98.630180 \n",
      "  700 |  96.069107 \n",
      "  800 |  94.101555 \n",
      "  900 |  92.589798 \n",
      " 1000 |  91.428047 \n"
     ]
    }
   ],
   "source": [
    "learning_rate = tf.Variable(0.00001)\n",
    "\n",
    "for i in range(1000+1):\n",
    "    with tf.GradientTape() as tape:\n",
    "        hypothesis = tf.matmul(X, W) + b \n",
    "        cost = tf.reduce_mean(tf.square(hypothesis - y))\n",
    "        loss.append(cost.numpy())\n",
    "\n",
    "        W_grad, b_grad = tape.gradient(cost, [W, b])\n",
    "        \n",
    "        W.assign_sub(learning_rate * W_grad)\n",
    "        b.assign_sub(learning_rate * b_grad)\n",
    "    \n",
    "    if i % 100 == 0:\n",
    "        print(\"{:5} | {:10.6f} \".format(i, cost.numpy()))"
   ]
  },
  {
   "cell_type": "code",
   "execution_count": 83,
   "metadata": {},
   "outputs": [
    {
     "name": "stdout",
     "output_type": "stream",
     "text": [
      "b: [-0.1785343]\n",
      "W: [-0.30079165  0.5436497   0.6946181 ]\n"
     ]
    }
   ],
   "source": [
    "print('b:',b.numpy())\n",
    "print('W:',W.numpy().flatten())"
   ]
  },
  {
   "cell_type": "code",
   "execution_count": 78,
   "metadata": {},
   "outputs": [
    {
     "data": {
      "text/plain": [
       "2"
      ]
     },
     "execution_count": 78,
     "metadata": {},
     "output_type": "execute_result"
    }
   ],
   "source": [
    "np.ndim(W)"
   ]
  },
  {
   "cell_type": "code",
   "execution_count": 67,
   "metadata": {},
   "outputs": [
    {
     "data": {
      "text/plain": [
       "Intercept     71.061831\n",
       "BaseRate1     -3.182927\n",
       "IND_INDEX1     0.168060\n",
       "LTV2           0.290994\n",
       "dtype: float64"
      ]
     },
     "execution_count": 67,
     "metadata": {},
     "output_type": "execute_result"
    }
   ],
   "source": [
    "edu_model.params"
   ]
  },
  {
   "cell_type": "code",
   "execution_count": 68,
   "metadata": {},
   "outputs": [],
   "source": [
    "def predict(X):\n",
    "    return tf.matmul(X, W) + b"
   ]
  },
  {
   "cell_type": "code",
   "execution_count": 111,
   "metadata": {},
   "outputs": [],
   "source": [
    "x = X[1].reshape(1,3)"
   ]
  },
  {
   "cell_type": "code",
   "execution_count": null,
   "metadata": {},
   "outputs": [],
   "source": [
    "x = [[4.5, 120, 45]]"
   ]
  },
  {
   "cell_type": "code",
   "execution_count": null,
   "metadata": {},
   "outputs": [],
   "source": [
    "x"
   ]
  },
  {
   "cell_type": "code",
   "execution_count": null,
   "metadata": {},
   "outputs": [],
   "source": [
    "predict(x)"
   ]
  },
  {
   "cell_type": "code",
   "execution_count": 71,
   "metadata": {},
   "outputs": [
    {
     "data": {
      "image/png": "[encoded data removed]",
      "text/plain": [
       "<Figure size 576x288 with 1 Axes>"
      ]
     },
     "metadata": {
      "needs_background": "light"
     },
     "output_type": "display_data"
    }
   ],
   "source": [
    "n_iterations = 101\n",
    "\n",
    "ax = pd.Series(loss).plot(figsize=(8, 4), title='Loss per Iteration', xlim=(0, n_iterations), logy=True)\n",
    "ax.set_xlabel('Iterations')\n",
    "ax.set_ylabel('Loss', fontsize=12, rotation=90)\n",
    "plt.grid()\n",
    "plt.tight_layout()\n",
    "plt.savefig(\"ML_회귀분석01.png\", dpi=150, bbox_inches='tight')"
   ]
  },
  {
   "cell_type": "code",
   "execution_count": null,
   "metadata": {},
   "outputs": [],
   "source": []
  },
  {
   "cell_type": "code",
   "execution_count": null,
   "metadata": {},
   "outputs": [],
   "source": []
  }
 ],
 "metadata": {
  "kernelspec": {
   "display_name": "Python 3 (ipykernel)",
   "language": "python",
   "name": "python3"
  },
  "language_info": {
   "codemirror_mode": {
    "name": "ipython",
    "version": 3
   },
   "file_extension": ".py",
   "mimetype": "text/x-python",
   "name": "python",
   "nbconvert_exporter": "python",
   "pygments_lexer": "ipython3",
   "version": "3.9.12"
  }
 },
 "nbformat": 4,
 "nbformat_minor": 2
}
