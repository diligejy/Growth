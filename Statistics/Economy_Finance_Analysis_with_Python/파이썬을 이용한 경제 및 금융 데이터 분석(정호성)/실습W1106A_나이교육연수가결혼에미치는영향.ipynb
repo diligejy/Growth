{
 "cells": [
  {
   "cell_type": "code",
   "execution_count": 1,
   "metadata": {},
   "outputs": [],
   "source": [
    "%matplotlib inline\n",
    "import numpy as np\n",
    "import matplotlib.pyplot as plt\n",
    "import pandas as pd\n",
    "import statsmodels.api as sm\n",
    "from statsmodels.iolib.summary2 import summary_col"
   ]
  },
  {
   "cell_type": "code",
   "execution_count": 4,
   "metadata": {},
   "outputs": [],
   "source": [
    "df = pd.read_csv(\"household_2021a.csv\", index_col=0)"
   ]
  },
  {
   "cell_type": "code",
   "execution_count": 5,
   "metadata": {},
   "outputs": [
    {
     "data": {
      "text/html": [
       "<div>\n",
       "<style scoped>\n",
       "    .dataframe tbody tr th:only-of-type {\n",
       "        vertical-align: middle;\n",
       "    }\n",
       "\n",
       "    .dataframe tbody tr th {\n",
       "        vertical-align: top;\n",
       "    }\n",
       "\n",
       "    .dataframe thead th {\n",
       "        text-align: right;\n",
       "    }\n",
       "</style>\n",
       "<table border=\"1\" class=\"dataframe\">\n",
       "  <thead>\n",
       "    <tr style=\"text-align: right;\">\n",
       "      <th></th>\n",
       "      <th>year</th>\n",
       "      <th>metro</th>\n",
       "      <th>id</th>\n",
       "      <th>sex</th>\n",
       "      <th>old_h</th>\n",
       "      <th>grand_h</th>\n",
       "      <th>single_h</th>\n",
       "      <th>multi_h</th>\n",
       "      <th>age</th>\n",
       "      <th>number</th>\n",
       "      <th>education</th>\n",
       "      <th>marriage</th>\n",
       "      <th>asset</th>\n",
       "      <th>debt</th>\n",
       "      <th>income</th>\n",
       "      <th>income_d</th>\n",
       "      <th>industry</th>\n",
       "      <th>job</th>\n",
       "      <th>house</th>\n",
       "      <th>education_year</th>\n",
       "    </tr>\n",
       "  </thead>\n",
       "  <tbody>\n",
       "    <tr>\n",
       "      <th>0</th>\n",
       "      <td>2021</td>\n",
       "      <td>G1</td>\n",
       "      <td>10000162</td>\n",
       "      <td>2</td>\n",
       "      <td>G1</td>\n",
       "      <td>G2</td>\n",
       "      <td>G2</td>\n",
       "      <td>G2</td>\n",
       "      <td>74</td>\n",
       "      <td>1</td>\n",
       "      <td>2</td>\n",
       "      <td>3</td>\n",
       "      <td>15740</td>\n",
       "      <td>0</td>\n",
       "      <td>1718</td>\n",
       "      <td>1617</td>\n",
       "      <td>T</td>\n",
       "      <td>4</td>\n",
       "      <td>2</td>\n",
       "      <td>0</td>\n",
       "    </tr>\n",
       "    <tr>\n",
       "      <th>1</th>\n",
       "      <td>2021</td>\n",
       "      <td>G1</td>\n",
       "      <td>10000182</td>\n",
       "      <td>1</td>\n",
       "      <td>G2</td>\n",
       "      <td>G2</td>\n",
       "      <td>G2</td>\n",
       "      <td>G2</td>\n",
       "      <td>59</td>\n",
       "      <td>2</td>\n",
       "      <td>4</td>\n",
       "      <td>2</td>\n",
       "      <td>13680</td>\n",
       "      <td>0</td>\n",
       "      <td>2977</td>\n",
       "      <td>2744</td>\n",
       "      <td>C</td>\n",
       "      <td>5</td>\n",
       "      <td>2</td>\n",
       "      <td>9</td>\n",
       "    </tr>\n",
       "    <tr>\n",
       "      <th>2</th>\n",
       "      <td>2021</td>\n",
       "      <td>G1</td>\n",
       "      <td>10000192</td>\n",
       "      <td>2</td>\n",
       "      <td>G2</td>\n",
       "      <td>G2</td>\n",
       "      <td>G2</td>\n",
       "      <td>G2</td>\n",
       "      <td>28</td>\n",
       "      <td>1</td>\n",
       "      <td>4</td>\n",
       "      <td>1</td>\n",
       "      <td>1520</td>\n",
       "      <td>400</td>\n",
       "      <td>971</td>\n",
       "      <td>878</td>\n",
       "      <td>R</td>\n",
       "      <td>2</td>\n",
       "      <td>3</td>\n",
       "      <td>9</td>\n",
       "    </tr>\n",
       "    <tr>\n",
       "      <th>3</th>\n",
       "      <td>2021</td>\n",
       "      <td>G2</td>\n",
       "      <td>10000212</td>\n",
       "      <td>1</td>\n",
       "      <td>G1</td>\n",
       "      <td>G2</td>\n",
       "      <td>G2</td>\n",
       "      <td>G2</td>\n",
       "      <td>72</td>\n",
       "      <td>2</td>\n",
       "      <td>4</td>\n",
       "      <td>2</td>\n",
       "      <td>16982</td>\n",
       "      <td>300</td>\n",
       "      <td>3101</td>\n",
       "      <td>2992</td>\n",
       "      <td>NaN</td>\n",
       "      <td>NaN</td>\n",
       "      <td>1</td>\n",
       "      <td>9</td>\n",
       "    </tr>\n",
       "    <tr>\n",
       "      <th>4</th>\n",
       "      <td>2021</td>\n",
       "      <td>G2</td>\n",
       "      <td>10000222</td>\n",
       "      <td>1</td>\n",
       "      <td>G2</td>\n",
       "      <td>G2</td>\n",
       "      <td>G2</td>\n",
       "      <td>G2</td>\n",
       "      <td>53</td>\n",
       "      <td>1</td>\n",
       "      <td>4</td>\n",
       "      <td>1</td>\n",
       "      <td>6410</td>\n",
       "      <td>6500</td>\n",
       "      <td>3066</td>\n",
       "      <td>2137</td>\n",
       "      <td>C</td>\n",
       "      <td>9</td>\n",
       "      <td>1</td>\n",
       "      <td>9</td>\n",
       "    </tr>\n",
       "  </tbody>\n",
       "</table>\n",
       "</div>"
      ],
      "text/plain": [
       "   year metro        id  sex old_h grand_h single_h multi_h  age  number  \\\n",
       "0  2021    G1  10000162    2    G1      G2       G2      G2   74       1   \n",
       "1  2021    G1  10000182    1    G2      G2       G2      G2   59       2   \n",
       "2  2021    G1  10000192    2    G2      G2       G2      G2   28       1   \n",
       "3  2021    G2  10000212    1    G1      G2       G2      G2   72       2   \n",
       "4  2021    G2  10000222    1    G2      G2       G2      G2   53       1   \n",
       "\n",
       "   education  marriage  asset  debt  income  income_d industry  job  house  \\\n",
       "0          2         3  15740     0    1718      1617        T    4      2   \n",
       "1          4         2  13680     0    2977      2744        C    5      2   \n",
       "2          4         1   1520   400     971       878        R    2      3   \n",
       "3          4         2  16982   300    3101      2992      NaN  NaN      1   \n",
       "4          4         1   6410  6500    3066      2137        C    9      1   \n",
       "\n",
       "   education_year  \n",
       "0               0  \n",
       "1               9  \n",
       "2               9  \n",
       "3               9  \n",
       "4               9  "
      ]
     },
     "execution_count": 5,
     "metadata": {},
     "output_type": "execute_result"
    }
   ],
   "source": [
    "df.head()"
   ]
  },
  {
   "cell_type": "code",
   "execution_count": 6,
   "metadata": {},
   "outputs": [
    {
     "data": {
      "text/plain": [
       "18187"
      ]
     },
     "execution_count": 6,
     "metadata": {},
     "output_type": "execute_result"
    }
   ],
   "source": [
    "len(df)"
   ]
  },
  {
   "cell_type": "markdown",
   "metadata": {},
   "source": [
    "marrige code :\n",
    "1\t미혼,\n",
    "2\t배우자있음,\n",
    "3\t사별,\n",
    "4\t이혼"
   ]
  },
  {
   "cell_type": "markdown",
   "metadata": {},
   "source": [
    "house code : \n",
    "1\t자가,\n",
    "2\t전세,\n",
    "3\t보증금 있는 월세,\n",
    "4\t보증금 없는 월세,\n",
    "5\t기타"
   ]
  },
  {
   "cell_type": "code",
   "execution_count": 7,
   "metadata": {},
   "outputs": [],
   "source": [
    "# 1. marriaged, 2. single\n",
    "def status(x):\n",
    "    if x== 2:\n",
    "        return 1    \n",
    "    else:\n",
    "        return 0"
   ]
  },
  {
   "cell_type": "code",
   "execution_count": 8,
   "metadata": {},
   "outputs": [],
   "source": [
    "df1 = df.copy()"
   ]
  },
  {
   "cell_type": "code",
   "execution_count": 9,
   "metadata": {},
   "outputs": [],
   "source": [
    "#df1 = df1.loc[df1['marriage'].isin([1,2,4])]\n",
    "df1 = df1.loc[~df1['marriage'].isin([3])]"
   ]
  },
  {
   "cell_type": "code",
   "execution_count": 10,
   "metadata": {},
   "outputs": [
    {
     "data": {
      "text/plain": [
       "15320"
      ]
     },
     "execution_count": 10,
     "metadata": {},
     "output_type": "execute_result"
    }
   ],
   "source": [
    "len(df1)"
   ]
  },
  {
   "cell_type": "code",
   "execution_count": 11,
   "metadata": {},
   "outputs": [],
   "source": [
    "df1['marriage_type'] = df1['marriage'].apply(status)"
   ]
  },
  {
   "cell_type": "code",
   "execution_count": 13,
   "metadata": {},
   "outputs": [],
   "source": [
    "df1['const'] = 1"
   ]
  },
  {
   "cell_type": "code",
   "execution_count": 14,
   "metadata": {},
   "outputs": [],
   "source": [
    "df1['age2'] = df1['age']**2\n",
    "df1['sex'] = (df1['sex']).astype(int)"
   ]
  },
  {
   "cell_type": "code",
   "execution_count": 15,
   "metadata": {},
   "outputs": [],
   "source": [
    "x =df1[['const', 'income', 'age', 'age2', 'education_year']].to_numpy()"
   ]
  },
  {
   "cell_type": "code",
   "execution_count": 16,
   "metadata": {},
   "outputs": [],
   "source": [
    "y =df1['marriage_type'].to_numpy()"
   ]
  },
  {
   "cell_type": "code",
   "execution_count": 17,
   "metadata": {},
   "outputs": [
    {
     "name": "stdout",
     "output_type": "stream",
     "text": [
      "Optimization terminated successfully.\n",
      "         Current function value: 0.405483\n",
      "         Iterations 8\n",
      "                           Logit Regression Results                           \n",
      "==============================================================================\n",
      "Dep. Variable:                      y   No. Observations:                15320\n",
      "Model:                          Logit   Df Residuals:                    15315\n",
      "Method:                           MLE   Df Model:                            4\n",
      "Date:                Tue, 14 Feb 2023   Pseudo R-squ.:                  0.2920\n",
      "Time:                        14:51:50   Log-Likelihood:                -6212.0\n",
      "converged:                       True   LL-Null:                       -8773.8\n",
      "Covariance Type:            nonrobust   LLR p-value:                     0.000\n",
      "==============================================================================\n",
      "                 coef    std err          z      P>|z|      [0.025      0.975]\n",
      "------------------------------------------------------------------------------\n",
      "const         -2.4320      0.310     -7.837      0.000      -3.040      -1.824\n",
      "x1             0.0005   1.13e-05     45.134      0.000       0.000       0.001\n",
      "x2            -0.0548      0.012     -4.714      0.000      -0.078      -0.032\n",
      "x3             0.0012      0.000     11.279      0.000       0.001       0.001\n",
      "x4             0.0275      0.006      4.315      0.000       0.015       0.040\n",
      "==============================================================================\n"
     ]
    }
   ],
   "source": [
    "logit = sm.Logit(y, x)\n",
    "results = logit.fit(method='newton')\n",
    "print(results.summary())"
   ]
  },
  {
   "cell_type": "code",
   "execution_count": 18,
   "metadata": {},
   "outputs": [],
   "source": [
    "# 1. Confusion Matrix"
   ]
  },
  {
   "cell_type": "code",
   "execution_count": 19,
   "metadata": {},
   "outputs": [],
   "source": [
    "coef = results.params"
   ]
  },
  {
   "cell_type": "code",
   "execution_count": 20,
   "metadata": {},
   "outputs": [],
   "source": [
    "def log_odds(x):\n",
    "    return coef[0]*x[0] + coef[1]*x[1]+coef[2]*x[2]+coef[3]*x[3]+coef[4]*x[4]"
   ]
  },
  {
   "cell_type": "code",
   "execution_count": 21,
   "metadata": {},
   "outputs": [],
   "source": [
    "def prob(x):\n",
    "    return 1 / (1 + np.exp(-(log_odds(x))))"
   ]
  },
  {
   "cell_type": "code",
   "execution_count": 22,
   "metadata": {},
   "outputs": [],
   "source": [
    "p_m = []\n",
    "\n",
    "for i in range(len(x)):\n",
    "    x1 = x[i,:]\n",
    "    x2 = prob(x1)\n",
    "    p_m.append(x2)"
   ]
  },
  {
   "cell_type": "code",
   "execution_count": 23,
   "metadata": {},
   "outputs": [],
   "source": [
    "y_Predicted = (np.array(p_m) > 0.5).astype(int)"
   ]
  },
  {
   "cell_type": "code",
   "execution_count": 24,
   "metadata": {},
   "outputs": [],
   "source": [
    "y_Actual = y.copy()"
   ]
  },
  {
   "cell_type": "code",
   "execution_count": 25,
   "metadata": {},
   "outputs": [],
   "source": [
    "data = {'y_Actual':    y_Actual,\n",
    "        'y_Predicted': y_Predicted\n",
    "        }\n",
    "\n",
    "df = pd.DataFrame(data, columns=['y_Actual','y_Predicted'])"
   ]
  },
  {
   "cell_type": "code",
   "execution_count": 26,
   "metadata": {},
   "outputs": [],
   "source": [
    "confusion_matrix = pd.crosstab(df['y_Actual'], df['y_Predicted'], rownames=['Actual'], colnames=['Predicted'])"
   ]
  },
  {
   "cell_type": "code",
   "execution_count": 27,
   "metadata": {},
   "outputs": [
    {
     "data": {
      "text/html": [
       "<div>\n",
       "<style scoped>\n",
       "    .dataframe tbody tr th:only-of-type {\n",
       "        vertical-align: middle;\n",
       "    }\n",
       "\n",
       "    .dataframe tbody tr th {\n",
       "        vertical-align: top;\n",
       "    }\n",
       "\n",
       "    .dataframe thead th {\n",
       "        text-align: right;\n",
       "    }\n",
       "</style>\n",
       "<table border=\"1\" class=\"dataframe\">\n",
       "  <thead>\n",
       "    <tr style=\"text-align: right;\">\n",
       "      <th>Predicted</th>\n",
       "      <th>0</th>\n",
       "      <th>1</th>\n",
       "    </tr>\n",
       "    <tr>\n",
       "      <th>Actual</th>\n",
       "      <th></th>\n",
       "      <th></th>\n",
       "    </tr>\n",
       "  </thead>\n",
       "  <tbody>\n",
       "    <tr>\n",
       "      <th>0</th>\n",
       "      <td>2121</td>\n",
       "      <td>1857</td>\n",
       "    </tr>\n",
       "    <tr>\n",
       "      <th>1</th>\n",
       "      <td>899</td>\n",
       "      <td>10443</td>\n",
       "    </tr>\n",
       "  </tbody>\n",
       "</table>\n",
       "</div>"
      ],
      "text/plain": [
       "Predicted     0      1\n",
       "Actual                \n",
       "0          2121   1857\n",
       "1           899  10443"
      ]
     },
     "execution_count": 27,
     "metadata": {},
     "output_type": "execute_result"
    }
   ],
   "source": [
    "confusion_matrix"
   ]
  },
  {
   "cell_type": "code",
   "execution_count": null,
   "metadata": {},
   "outputs": [],
   "source": []
  },
  {
   "cell_type": "code",
   "execution_count": 28,
   "metadata": {},
   "outputs": [],
   "source": [
    "TP = confusion_matrix.loc[1,1]\n",
    "FP = confusion_matrix.loc[0,1]\n",
    "FN = confusion_matrix.loc[1,0]\n",
    "TN = confusion_matrix.loc[0,0]"
   ]
  },
  {
   "cell_type": "code",
   "execution_count": 29,
   "metadata": {},
   "outputs": [],
   "source": [
    "ACC = (TP + TN)/(TP+TN+FN+FP)"
   ]
  },
  {
   "cell_type": "code",
   "execution_count": 30,
   "metadata": {},
   "outputs": [],
   "source": [
    "TPR  = (TP)/(TP+FN)\n",
    "FPR  = FP/(FP+TN)\n"
   ]
  },
  {
   "cell_type": "code",
   "execution_count": 31,
   "metadata": {},
   "outputs": [
    {
     "name": "stdout",
     "output_type": "stream",
     "text": [
      "accuracy ratio: 0.8201044386422977\n",
      "TPR:  0.9207370834068066\n",
      "FPR: 0.46681749622926094\n"
     ]
    }
   ],
   "source": [
    "print('accuracy ratio:', ACC)\n",
    "print('TPR: ',TPR)\n",
    "print('FPR:', FPR)"
   ]
  },
  {
   "cell_type": "code",
   "execution_count": 32,
   "metadata": {},
   "outputs": [],
   "source": [
    "n = 100\n",
    "roc = np.zeros([n,3])"
   ]
  },
  {
   "cell_type": "code",
   "execution_count": 34,
   "metadata": {},
   "outputs": [
    {
     "name": "stdout",
     "output_type": "stream",
     "text": [
      "0\n",
      "0\n",
      "0\n",
      "0\n",
      "0\n",
      "0\n"
     ]
    }
   ],
   "source": [
    "for pr in range(0,100, 1):\n",
    "    \n",
    "    confusion_matrix = np.zeros([2,2])\n",
    "    \n",
    "    y_Predicted = (np.array(p_m) > pr/n).astype(int)\n",
    "    y_Actual = y.copy()\n",
    "    data = {'y_Actual': y_Actual, 'y_Predicted': y_Predicted}\n",
    "    df = pd.DataFrame(data, columns = ['y_Actual', 'y_Predicted'])\n",
    "    cross = pd.crosstab(df['y_Actual'], df['y_Predicted'], rownames = ['Actual'], colnames=['Predicted'])\n",
    "    \n",
    "    try : \n",
    "        confusion_matrix[1,1] = cross.loc[1,1]\n",
    "        confusion_matrix[0,1] = cross.loc[0,1]\n",
    "        confusion_matrix[1,0] = cross.loc[1,0]\n",
    "        confusion_matrix[0,0] = cross.loc[0,0]\n",
    "        \n",
    "    except Exception as e:\n",
    "        print(e)\n",
    "        \n",
    "    TP  = confusion_matrix[1,1]\n",
    "    FP  = confusion_matrix[0,1]\n",
    "    FN  = confusion_matrix[1,0]\n",
    "    TN  = confusion_matrix[0,0]\n",
    "    \n",
    "    roc[pr, 0] = pr/n\n",
    "    roc[pr, 1] = FP/(FP+TN)\n",
    "    roc[pr, 2] = TP/(TP+FN)"
   ]
  },
  {
   "cell_type": "code",
   "execution_count": 35,
   "metadata": {},
   "outputs": [],
   "source": [
    "roc1 = pd.DataFrame(data=roc, columns = ['prob', 'FPR', 'TPR'])"
   ]
  },
  {
   "cell_type": "code",
   "execution_count": 36,
   "metadata": {},
   "outputs": [],
   "source": [
    "roc2 = roc1.groupby('FPR').mean()"
   ]
  },
  {
   "cell_type": "code",
   "execution_count": 37,
   "metadata": {},
   "outputs": [],
   "source": [
    "roc3 = roc2.drop(['prob'], axis = 1)"
   ]
  },
  {
   "cell_type": "code",
   "execution_count": 38,
   "metadata": {},
   "outputs": [
    {
     "data": {
      "image/png": "[encoded data removed]",
      "text/plain": [
       "<Figure size 640x480 with 1 Axes>"
      ]
     },
     "metadata": {},
     "output_type": "display_data"
    }
   ],
   "source": [
    "plt.plot(roc3.index, roc3['TPR'], color='red', label='ROC')\n",
    "plt.plot([0, 1], [0, 1], color='green', linestyle='--', label='random')\n",
    "plt.grid()\n",
    "plt.savefig(\"ROC02.png\", dpi=150, bbox_inches='tight')\n",
    "plt.show()"
   ]
  },
  {
   "cell_type": "markdown",
   "metadata": {},
   "source": [
    "### AUC"
   ]
  },
  {
   "cell_type": "code",
   "execution_count": 39,
   "metadata": {},
   "outputs": [],
   "source": [
    "roc3['FPR'] = roc3.index"
   ]
  },
  {
   "cell_type": "code",
   "execution_count": 41,
   "metadata": {},
   "outputs": [],
   "source": [
    "roc3['dFPR'] = roc3.FPR - roc3.FPR.shift(1)"
   ]
  },
  {
   "cell_type": "code",
   "execution_count": 44,
   "metadata": {},
   "outputs": [],
   "source": [
    "roc3['aTPR'] = (roc3.TPR + roc3.TPR.shift(1))/2"
   ]
  },
  {
   "cell_type": "code",
   "execution_count": 45,
   "metadata": {},
   "outputs": [],
   "source": [
    "roc3['AREA'] = roc3.dFPR * roc3.aTPR"
   ]
  },
  {
   "cell_type": "code",
   "execution_count": 46,
   "metadata": {},
   "outputs": [],
   "source": [
    "roc4 = roc3.dropna()"
   ]
  },
  {
   "cell_type": "code",
   "execution_count": 47,
   "metadata": {},
   "outputs": [],
   "source": [
    "roc5 = roc4.sum()"
   ]
  },
  {
   "cell_type": "code",
   "execution_count": 48,
   "metadata": {},
   "outputs": [],
   "source": [
    "AUC = roc5.loc['AREA']"
   ]
  },
  {
   "cell_type": "code",
   "execution_count": 49,
   "metadata": {},
   "outputs": [
    {
     "data": {
      "text/plain": [
       "0.85"
      ]
     },
     "execution_count": 49,
     "metadata": {},
     "output_type": "execute_result"
    }
   ],
   "source": [
    "np.round(AUC, 2)"
   ]
  },
  {
   "cell_type": "code",
   "execution_count": null,
   "metadata": {},
   "outputs": [],
   "source": []
  },
  {
   "cell_type": "code",
   "execution_count": null,
   "metadata": {},
   "outputs": [],
   "source": []
  }
 ],
 "metadata": {
  "kernelspec": {
   "display_name": "Python 3 (ipykernel)",
   "language": "python",
   "name": "python3"
  },
  "language_info": {
   "codemirror_mode": {
    "name": "ipython",
    "version": 3
   },
   "file_extension": ".py",
   "mimetype": "text/x-python",
   "name": "python",
   "nbconvert_exporter": "python",
   "pygments_lexer": "ipython3",
   "version": "3.9.13"
  }
 },
 "nbformat": 4,
 "nbformat_minor": 2
}
