{
 "cells": [
  {
   "cell_type": "code",
   "execution_count": 1,
   "metadata": {
    "id": "7RqAC5C8eC2L"
   },
   "outputs": [],
   "source": [
    "#@title\n",
    "%matplotlib inline\n",
    "import numpy as np\n",
    "import matplotlib.pyplot as plt\n",
    "import pandas as pd\n",
    "import statsmodels.api as sm\n",
    "from statsmodels.iolib.summary2 import summary_col"
   ]
  },
  {
   "cell_type": "code",
   "execution_count": 2,
   "metadata": {
    "id": "fhKgdCHMeJ-r"
   },
   "outputs": [],
   "source": [
    "import tensorflow as tf"
   ]
  },
  {
   "cell_type": "code",
   "execution_count": 3,
   "metadata": {
    "id": "_0hCVMJ_eNWX"
   },
   "outputs": [
    {
     "data": {
      "text/plain": [
       "'2.11.0'"
      ]
     },
     "execution_count": 3,
     "metadata": {},
     "output_type": "execute_result"
    }
   ],
   "source": [
    "tf.__version__"
   ]
  },
  {
   "cell_type": "code",
   "execution_count": 8,
   "metadata": {
    "id": "9IH244E4eW1D"
   },
   "outputs": [],
   "source": [
    "df = pd.read_csv('education2020.csv', index_col=0)"
   ]
  },
  {
   "cell_type": "code",
   "execution_count": 9,
   "metadata": {
    "id": "V_awvvk90r0z"
   },
   "outputs": [
    {
     "data": {
      "text/html": [
       "<div>\n",
       "<style scoped>\n",
       "    .dataframe tbody tr th:only-of-type {\n",
       "        vertical-align: middle;\n",
       "    }\n",
       "\n",
       "    .dataframe tbody tr th {\n",
       "        vertical-align: top;\n",
       "    }\n",
       "\n",
       "    .dataframe thead th {\n",
       "        text-align: right;\n",
       "    }\n",
       "</style>\n",
       "<table border=\"1\" class=\"dataframe\">\n",
       "  <thead>\n",
       "    <tr style=\"text-align: right;\">\n",
       "      <th></th>\n",
       "      <th>year</th>\n",
       "      <th>metro</th>\n",
       "      <th>id</th>\n",
       "      <th>sex</th>\n",
       "      <th>age</th>\n",
       "      <th>number</th>\n",
       "      <th>education</th>\n",
       "      <th>marriage</th>\n",
       "      <th>asset</th>\n",
       "      <th>debt</th>\n",
       "      <th>income</th>\n",
       "      <th>income_d</th>\n",
       "      <th>industry</th>\n",
       "      <th>job</th>\n",
       "      <th>house</th>\n",
       "      <th>education_year</th>\n",
       "    </tr>\n",
       "  </thead>\n",
       "  <tbody>\n",
       "    <tr>\n",
       "      <th>0</th>\n",
       "      <td>2020</td>\n",
       "      <td>G1</td>\n",
       "      <td>10000112</td>\n",
       "      <td>1</td>\n",
       "      <td>34</td>\n",
       "      <td>3</td>\n",
       "      <td>6</td>\n",
       "      <td>2</td>\n",
       "      <td>112000</td>\n",
       "      <td>54500</td>\n",
       "      <td>6593</td>\n",
       "      <td>4599</td>\n",
       "      <td>F</td>\n",
       "      <td>3</td>\n",
       "      <td>2</td>\n",
       "      <td>16</td>\n",
       "    </tr>\n",
       "    <tr>\n",
       "      <th>1</th>\n",
       "      <td>2020</td>\n",
       "      <td>G1</td>\n",
       "      <td>10000132</td>\n",
       "      <td>2</td>\n",
       "      <td>45</td>\n",
       "      <td>2</td>\n",
       "      <td>8</td>\n",
       "      <td>2</td>\n",
       "      <td>42500</td>\n",
       "      <td>17500</td>\n",
       "      <td>17720</td>\n",
       "      <td>15257</td>\n",
       "      <td>J</td>\n",
       "      <td>2</td>\n",
       "      <td>3</td>\n",
       "      <td>21</td>\n",
       "    </tr>\n",
       "    <tr>\n",
       "      <th>2</th>\n",
       "      <td>2020</td>\n",
       "      <td>G1</td>\n",
       "      <td>10000162</td>\n",
       "      <td>2</td>\n",
       "      <td>73</td>\n",
       "      <td>1</td>\n",
       "      <td>2</td>\n",
       "      <td>3</td>\n",
       "      <td>5712</td>\n",
       "      <td>0</td>\n",
       "      <td>908</td>\n",
       "      <td>725</td>\n",
       "      <td>T</td>\n",
       "      <td>4</td>\n",
       "      <td>2</td>\n",
       "      <td>6</td>\n",
       "    </tr>\n",
       "  </tbody>\n",
       "</table>\n",
       "</div>"
      ],
      "text/plain": [
       "   year metro        id  sex  age  number  education  marriage   asset   debt  \\\n",
       "0  2020    G1  10000112    1   34       3          6         2  112000  54500   \n",
       "1  2020    G1  10000132    2   45       2          8         2   42500  17500   \n",
       "2  2020    G1  10000162    2   73       1          2         3    5712      0   \n",
       "\n",
       "   income  income_d industry job  house  education_year  \n",
       "0    6593      4599        F   3      2              16  \n",
       "1   17720     15257        J   2      3              21  \n",
       "2     908       725        T   4      2               6  "
      ]
     },
     "execution_count": 9,
     "metadata": {},
     "output_type": "execute_result"
    }
   ],
   "source": [
    "df.head(3)"
   ]
  },
  {
   "cell_type": "code",
   "execution_count": 10,
   "metadata": {
    "id": "JbkiWoao0uhX"
   },
   "outputs": [],
   "source": [
    "df1 = df[~df['house'].isin([5])] #1 자기집, 2 전세, 3 보증금 있는 월세, 4 보증금 없는 월세, 5 기타"
   ]
  },
  {
   "cell_type": "code",
   "execution_count": 11,
   "metadata": {
    "id": "X9ynqcVn1D0_"
   },
   "outputs": [],
   "source": [
    "df2 = df1.copy()"
   ]
  },
  {
   "cell_type": "code",
   "execution_count": 12,
   "metadata": {
    "id": "VtD1kNOm1IuK"
   },
   "outputs": [],
   "source": [
    "def h_status(x):                #자가 0, 전세 1, 월세 2로 만드는 함수 \n",
    "    if x <= 2:\n",
    "        return x-1\n",
    "    else:\n",
    "        return 2   "
   ]
  },
  {
   "cell_type": "code",
   "execution_count": 14,
   "metadata": {
    "id": "MN7W0j5H0-Go"
   },
   "outputs": [],
   "source": [
    "df2['house_type'] = df2['house'].apply(h_status)"
   ]
  },
  {
   "cell_type": "code",
   "execution_count": 15,
   "metadata": {
    "id": "J5LpXpgt1L-v"
   },
   "outputs": [],
   "source": [
    "df2 = df2[[\"sex\",\"age\",\"marriage\", \"education_year\",\"asset\", \"debt\", \"income\", \"metro\", \"number\", \"job\", \"house_type\", ]] "
   ]
  },
  {
   "cell_type": "code",
   "execution_count": 16,
   "metadata": {
    "id": "kEIBLvAV1OXk"
   },
   "outputs": [],
   "source": [
    "#성별, 결혼, 거주지, 직업 더미\n",
    "sex_dummies = pd.get_dummies(df2['sex']).rename(columns=lambda x: 's'+str(x))\n",
    "marriage_dummies = pd.get_dummies(df2['marriage']).rename(columns=lambda x: 'm'+str(x))\n",
    "metro_dummies = pd.get_dummies(df2['metro']).rename(columns=lambda x: 'g'+str(x))\n",
    "job_dummies = pd.get_dummies(df2['job']).rename(columns=lambda x: 'j'+str(x))"
   ]
  },
  {
   "cell_type": "code",
   "execution_count": 17,
   "metadata": {
    "id": "4jvVW_xs1QfP"
   },
   "outputs": [],
   "source": [
    "df2 = pd.concat([df2, sex_dummies, marriage_dummies, metro_dummies, job_dummies], axis=1)\n",
    "df3 = df2.copy()\n",
    "df3['age2'] = df3['age']**2"
   ]
  },
  {
   "cell_type": "code",
   "execution_count": 18,
   "metadata": {
    "id": "QKwQV_hf1cdS"
   },
   "outputs": [],
   "source": [
    "x_data =df3[['income', 'asset', 'debt', 'age', 'age2', 'number', 'education_year', 's2', 'm2', 'm3', 'm4', 'gG2', 'j2', 'j3', 'j4', 'j5', 'j6', 'j7', 'j8', 'j9', 'jA']].to_numpy() #더미변수 통합"
   ]
  },
  {
   "cell_type": "code",
   "execution_count": 19,
   "metadata": {
    "id": "qyw2H3SL1mvk"
   },
   "outputs": [],
   "source": [
    "y_data = df3[['house_type']]"
   ]
  },
  {
   "cell_type": "code",
   "execution_count": 20,
   "metadata": {
    "id": "dfAV9rE51TCj"
   },
   "outputs": [],
   "source": [
    "X = np.asarray(x_data, dtype=np.float32)\n",
    "y = np.asarray(y_data, dtype=np.float32)\n",
    "rows = y.shape[0]"
   ]
  },
  {
   "cell_type": "code",
   "execution_count": 21,
   "metadata": {
    "id": "P0Vj_Kpe1U5s"
   },
   "outputs": [],
   "source": [
    "def normalization(data):  #정규화를 위한 함수(최대, 최소 값이 1과 0으로 바꿉니다)\n",
    "    numerator = data - np.min(data, 0)\n",
    "    denominator = np.max(data, 0) - np.min(data, 0)\n",
    "    return numerator / denominator"
   ]
  },
  {
   "cell_type": "code",
   "execution_count": 22,
   "metadata": {
    "id": "tJvbtHur13fm"
   },
   "outputs": [
    {
     "data": {
      "text/plain": [
       "<tf.Tensor: shape=(16789, 3), dtype=float32, numpy=\n",
       "array([[0., 1., 0.],\n",
       "       [0., 0., 1.],\n",
       "       [0., 1., 0.],\n",
       "       ...,\n",
       "       [1., 0., 0.],\n",
       "       [0., 1., 0.],\n",
       "       [1., 0., 0.]], dtype=float32)>"
      ]
     },
     "execution_count": 22,
     "metadata": {},
     "output_type": "execute_result"
    }
   ],
   "source": [
    "x_train = normalization(X)\n",
    "k = x_data.shape[1] #설명 변수 개수\n",
    "nb_classes = 3      #y의 분류 갯수\n",
    "Y_one_hot = tf.one_hot(y.astype(np.int32), nb_classes) # y 변수를 3개의 one hot encoding 방식으로 표현\n",
    "Y_one_hot = tf.reshape(Y_one_hot,[rows, -1] ) #차원을 2차원으로 변경\n",
    "Y_one_hot  "
   ]
  },
  {
   "cell_type": "code",
   "execution_count": 23,
   "metadata": {
    "id": "jkbXwSHF18Zc"
   },
   "outputs": [
    {
     "name": "stdout",
     "output_type": "stream",
     "text": [
      "Steps:     0 | Costs:     2.3059 | Accuracy     0.2253\n",
      "Steps:  1000 | Costs:     1.4001 | Accuracy     0.5870\n",
      "Steps:  2000 | Costs:     1.2675 | Accuracy     0.6186\n",
      "Steps:  3000 | Costs:     1.1699 | Accuracy     0.6401\n",
      "Steps:  4000 | Costs:     1.0955 | Accuracy     0.6575\n",
      "Steps:  5000 | Costs:     1.0381 | Accuracy     0.6627\n",
      "Steps:  6000 | Costs:     0.9931 | Accuracy     0.6735\n",
      "Steps:  7000 | Costs:     0.9574 | Accuracy     0.6781\n",
      "Steps:  8000 | Costs:     0.9287 | Accuracy     0.6798\n",
      "Steps:  9000 | Costs:     0.9054 | Accuracy     0.6821\n",
      "Steps: 10000 | Costs:     0.8862 | Accuracy     0.6835\n"
     ]
    }
   ],
   "source": [
    "W = tf.Variable(tf.random.normal((k, nb_classes)), name='weight') #무작위로 가중치 선택\n",
    "b = tf.Variable(tf.random.normal((nb_classes,)), name='bias')       #무작위로 절편 선택\n",
    "\n",
    "for i in range(10000+1):\n",
    "    with tf.GradientTape() as tape:\n",
    "        logits = tf.matmul(x_train, W) + b\n",
    "        hypothesis  = tf.nn.softmax(logits) #분류를 위한 소프트맥스 함수 사용\n",
    "        cost_i = tf.keras.losses.categorical_crossentropy(y_true=Y_one_hot, y_pred=logits, from_logits=True) \n",
    "        reg= tf.nn.l2_loss(W) * 0.01 #규제화(regularization) 변수로 0.01 사용\n",
    "        cost = tf.reduce_mean(cost_i+ reg)\n",
    "        lr_schedule = tf.keras.optimizers.schedules.ExponentialDecay(initial_learning_rate=0.005,decay_steps=1000,decay_rate=0.96,staircase=True) # 초기 학습률을 0.005를 이용하다가 점차 감소\n",
    "        optimizer = tf.optimizers.SGD(learning_rate=lr_schedule) # Stochastic Gradient Descent algorithm\n",
    "\n",
    "        grads = tape.gradient(cost, [W, b])\n",
    "        optimizer.apply_gradients(grads_and_vars=zip(grads,[W,b]))\n",
    "        \n",
    "        predicted = tf.argmax(hypothesis, 1)\n",
    "        correct_prediction = tf.equal(predicted, tf.argmax(Y_one_hot,1))\n",
    "        accuracy = tf.reduce_mean(tf.cast(correct_prediction, dtype=tf.float32))\n",
    "    \n",
    "    if i % 1000 == 0: #1000번 시행시마다 비용과 정확도 출력\n",
    "        print(\"Steps: {:5} | Costs: {:10.4f} | Accuracy {:10.4f}\".format(i, cost.numpy(), accuracy.numpy())) "
   ]
  },
  {
   "cell_type": "code",
   "execution_count": 24,
   "metadata": {
    "id": "Ut1nAM0u2Dw_"
   },
   "outputs": [],
   "source": [
    "y_Predicted = predicted.numpy().flatten()\n",
    "y_Actual = y.flatten()\n",
    "data = {'y_Actual': y_Actual,\n",
    "        'y_Predicted': y_Predicted}"
   ]
  },
  {
   "cell_type": "code",
   "execution_count": 25,
   "metadata": {
    "id": "eY1_IRWg2It0"
   },
   "outputs": [
    {
     "data": {
      "text/html": [
       "<div>\n",
       "<style scoped>\n",
       "    .dataframe tbody tr th:only-of-type {\n",
       "        vertical-align: middle;\n",
       "    }\n",
       "\n",
       "    .dataframe tbody tr th {\n",
       "        vertical-align: top;\n",
       "    }\n",
       "\n",
       "    .dataframe thead th {\n",
       "        text-align: right;\n",
       "    }\n",
       "</style>\n",
       "<table border=\"1\" class=\"dataframe\">\n",
       "  <thead>\n",
       "    <tr style=\"text-align: right;\">\n",
       "      <th>Predicted</th>\n",
       "      <th>0</th>\n",
       "      <th>1</th>\n",
       "      <th>2</th>\n",
       "    </tr>\n",
       "    <tr>\n",
       "      <th>Actual</th>\n",
       "      <th></th>\n",
       "      <th></th>\n",
       "      <th></th>\n",
       "    </tr>\n",
       "  </thead>\n",
       "  <tbody>\n",
       "    <tr>\n",
       "      <th>0.0</th>\n",
       "      <td>10570</td>\n",
       "      <td>52</td>\n",
       "      <td>601</td>\n",
       "    </tr>\n",
       "    <tr>\n",
       "      <th>1.0</th>\n",
       "      <td>1772</td>\n",
       "      <td>104</td>\n",
       "      <td>303</td>\n",
       "    </tr>\n",
       "    <tr>\n",
       "      <th>2.0</th>\n",
       "      <td>2445</td>\n",
       "      <td>141</td>\n",
       "      <td>801</td>\n",
       "    </tr>\n",
       "  </tbody>\n",
       "</table>\n",
       "</div>"
      ],
      "text/plain": [
       "Predicted      0    1    2\n",
       "Actual                    \n",
       "0.0        10570   52  601\n",
       "1.0         1772  104  303\n",
       "2.0         2445  141  801"
      ]
     },
     "execution_count": 25,
     "metadata": {},
     "output_type": "execute_result"
    }
   ],
   "source": [
    "df = pd.DataFrame(data, columns = ['y_Actual', 'y_Predicted'])\n",
    "cross = pd.crosstab(df['y_Actual'], df['y_Predicted'], rownames = ['Actual'], colnames=['Predicted'])\n",
    "cross"
   ]
  },
  {
   "cell_type": "code",
   "execution_count": 26,
   "metadata": {
    "id": "9EzYYkTg2Jp3"
   },
   "outputs": [],
   "source": [
    "confusion_matrix = np.zeros([3,3])  # 비어 있는 오분류표 작성"
   ]
  },
  {
   "cell_type": "code",
   "execution_count": 27,
   "metadata": {
    "id": "qxwX4LbU3hCB"
   },
   "outputs": [
    {
     "data": {
      "text/plain": [
       "array([[0., 0., 0.],\n",
       "       [0., 0., 0.],\n",
       "       [0., 0., 0.]])"
      ]
     },
     "execution_count": 27,
     "metadata": {},
     "output_type": "execute_result"
    }
   ],
   "source": [
    "confusion_matrix"
   ]
  },
  {
   "cell_type": "code",
   "execution_count": 28,
   "metadata": {
    "id": "4C2AP2oF2Quo"
   },
   "outputs": [],
   "source": [
    "try : \n",
    "    confusion_matrix[0,0] = cross.loc[0,0]\n",
    "    confusion_matrix[0,1] = cross.loc[0,1]\n",
    "    confusion_matrix[0,2] = cross.loc[0,2]\n",
    "    confusion_matrix[1,0] = cross.loc[1,0]\n",
    "    confusion_matrix[1,1] = cross.loc[1,1]\n",
    "    confusion_matrix[1,2] = cross.loc[1,2]\n",
    "    confusion_matrix[2,0] = cross.loc[2,0]\n",
    "    confusion_matrix[2,1] = cross.loc[2,1]\n",
    "    confusion_matrix[2,2] = cross.loc[2,2]\n",
    "\n",
    "except Exception as e:\n",
    "    print(e)\n",
    "\n"
   ]
  },
  {
   "cell_type": "code",
   "execution_count": 29,
   "metadata": {
    "id": "dIvh1TuH4-e4"
   },
   "outputs": [
    {
     "data": {
      "text/plain": [
       "array([[10570.,    52.,   601.],\n",
       "       [ 1772.,   104.,   303.],\n",
       "       [ 2445.,   141.,   801.]])"
      ]
     },
     "execution_count": 29,
     "metadata": {},
     "output_type": "execute_result"
    }
   ],
   "source": [
    "confusion_matrix"
   ]
  },
  {
   "cell_type": "code",
   "execution_count": 30,
   "metadata": {
    "id": "Ysd20qoD46lX"
   },
   "outputs": [],
   "source": [
    "TRUE  = confusion_matrix[0,0]+confusion_matrix[1,1]+confusion_matrix[2,2]\n",
    "FALSE = confusion_matrix[0,1]+confusion_matrix[0,2]+confusion_matrix[1,0]+confusion_matrix[1,2]+confusion_matrix[2,0]+confusion_matrix[2,1]"
   ]
  },
  {
   "cell_type": "code",
   "execution_count": 31,
   "metadata": {
    "id": "j59Tz7hc4tHA"
   },
   "outputs": [],
   "source": [
    "accuracy = TRUE/(TRUE+FALSE)"
   ]
  },
  {
   "cell_type": "code",
   "execution_count": 32,
   "metadata": {
    "id": "7sSlvJmb5am7"
   },
   "outputs": [
    {
     "data": {
      "text/plain": [
       "0.6834832330692715"
      ]
     },
     "execution_count": 32,
     "metadata": {},
     "output_type": "execute_result"
    }
   ],
   "source": [
    "accuracy"
   ]
  },
  {
   "cell_type": "code",
   "execution_count": null,
   "metadata": {
    "id": "KYkq2TjF5eWE"
   },
   "outputs": [],
   "source": []
  }
 ],
 "metadata": {
  "colab": {
   "private_outputs": true,
   "provenance": []
  },
  "kernelspec": {
   "display_name": "Python 3 (ipykernel)",
   "language": "python",
   "name": "python3"
  },
  "language_info": {
   "codemirror_mode": {
    "name": "ipython",
    "version": 3
   },
   "file_extension": ".py",
   "mimetype": "text/x-python",
   "name": "python",
   "nbconvert_exporter": "python",
   "pygments_lexer": "ipython3",
   "version": "3.9.13"
  }
 },
 "nbformat": 4,
 "nbformat_minor": 1
}
