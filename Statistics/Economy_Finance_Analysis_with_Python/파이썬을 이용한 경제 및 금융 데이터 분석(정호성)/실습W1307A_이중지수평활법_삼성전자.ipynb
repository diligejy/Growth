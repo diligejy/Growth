{
 "cells": [
  {
   "cell_type": "code",
   "execution_count": 1,
   "metadata": {},
   "outputs": [],
   "source": [
    "import numpy as np\n",
    "import pandas as pd\n",
    "import FinanceDataReader as fdr"
   ]
  },
  {
   "cell_type": "code",
   "execution_count": 4,
   "metadata": {},
   "outputs": [],
   "source": [
    "from statsmodels.compat import lzip\n",
    "import statsmodels.api as sm\n",
    "from statsmodels.formula.api import ols"
   ]
  },
  {
   "cell_type": "code",
   "execution_count": 6,
   "metadata": {},
   "outputs": [],
   "source": [
    "import matplotlib.pyplot as plt\n",
    "%matplotlib inline\n",
    "\n",
    "from matplotlib import rcParams\n",
    "from matplotlib import font_manager, rc\n",
    "rcParams['axes.unicode_minus'] = False\n",
    "\n",
    "font_name = font_manager.FontProperties(fname=\"c:/Windows/Fonts/malgun.ttf\").get_name()\n",
    "rc('font', family=font_name)"
   ]
  },
  {
   "cell_type": "markdown",
   "metadata": {},
   "source": [
    "## 1.주가데이터를 불러옵니다."
   ]
  },
  {
   "cell_type": "code",
   "execution_count": 79,
   "metadata": {},
   "outputs": [],
   "source": [
    "df = fdr.DataReader('005930', '2015-08-01') #삼성전자"
   ]
  },
  {
   "cell_type": "code",
   "execution_count": 80,
   "metadata": {},
   "outputs": [],
   "source": [
    "df = df[['Close']]\n",
    "df1 = df.iloc[0:11, :]  #10개 데이터 추출\n",
    "df1 = df1.reset_index()"
   ]
  },
  {
   "cell_type": "code",
   "execution_count": 81,
   "metadata": {},
   "outputs": [
    {
     "data": {
      "text/html": [
       "<div>\n",
       "<style scoped>\n",
       "    .dataframe tbody tr th:only-of-type {\n",
       "        vertical-align: middle;\n",
       "    }\n",
       "\n",
       "    .dataframe tbody tr th {\n",
       "        vertical-align: top;\n",
       "    }\n",
       "\n",
       "    .dataframe thead th {\n",
       "        text-align: right;\n",
       "    }\n",
       "</style>\n",
       "<table border=\"1\" class=\"dataframe\">\n",
       "  <thead>\n",
       "    <tr style=\"text-align: right;\">\n",
       "      <th></th>\n",
       "      <th>Date</th>\n",
       "      <th>Close</th>\n",
       "    </tr>\n",
       "  </thead>\n",
       "  <tbody>\n",
       "    <tr>\n",
       "      <th>6</th>\n",
       "      <td>2015-08-11</td>\n",
       "      <td>23140</td>\n",
       "    </tr>\n",
       "    <tr>\n",
       "      <th>7</th>\n",
       "      <td>2015-08-12</td>\n",
       "      <td>23080</td>\n",
       "    </tr>\n",
       "    <tr>\n",
       "      <th>8</th>\n",
       "      <td>2015-08-13</td>\n",
       "      <td>22800</td>\n",
       "    </tr>\n",
       "    <tr>\n",
       "      <th>9</th>\n",
       "      <td>2015-08-17</td>\n",
       "      <td>22080</td>\n",
       "    </tr>\n",
       "    <tr>\n",
       "      <th>10</th>\n",
       "      <td>2015-08-18</td>\n",
       "      <td>22620</td>\n",
       "    </tr>\n",
       "  </tbody>\n",
       "</table>\n",
       "</div>"
      ],
      "text/plain": [
       "         Date  Close\n",
       "6  2015-08-11  23140\n",
       "7  2015-08-12  23080\n",
       "8  2015-08-13  22800\n",
       "9  2015-08-17  22080\n",
       "10 2015-08-18  22620"
      ]
     },
     "execution_count": 81,
     "metadata": {},
     "output_type": "execute_result"
    }
   ],
   "source": [
    "df1.tail()"
   ]
  },
  {
   "cell_type": "markdown",
   "metadata": {},
   "source": [
    "## 2. 이중지수평활법"
   ]
  },
  {
   "cell_type": "code",
   "execution_count": 58,
   "metadata": {},
   "outputs": [],
   "source": [
    "df1['level'] = None  # 절편 위치 추가\n",
    "df1['trend'] = None # 추세 위치 추가"
   ]
  },
  {
   "cell_type": "code",
   "execution_count": 59,
   "metadata": {},
   "outputs": [
    {
     "data": {
      "text/html": [
       "<div>\n",
       "<style scoped>\n",
       "    .dataframe tbody tr th:only-of-type {\n",
       "        vertical-align: middle;\n",
       "    }\n",
       "\n",
       "    .dataframe tbody tr th {\n",
       "        vertical-align: top;\n",
       "    }\n",
       "\n",
       "    .dataframe thead th {\n",
       "        text-align: right;\n",
       "    }\n",
       "</style>\n",
       "<table border=\"1\" class=\"dataframe\">\n",
       "  <thead>\n",
       "    <tr style=\"text-align: right;\">\n",
       "      <th></th>\n",
       "      <th>Date</th>\n",
       "      <th>Close</th>\n",
       "      <th>level</th>\n",
       "      <th>trend</th>\n",
       "    </tr>\n",
       "  </thead>\n",
       "  <tbody>\n",
       "    <tr>\n",
       "      <th>0</th>\n",
       "      <td>2015-08-03</td>\n",
       "      <td>23500</td>\n",
       "      <td>None</td>\n",
       "      <td>None</td>\n",
       "    </tr>\n",
       "    <tr>\n",
       "      <th>1</th>\n",
       "      <td>2015-08-04</td>\n",
       "      <td>23640</td>\n",
       "      <td>None</td>\n",
       "      <td>None</td>\n",
       "    </tr>\n",
       "    <tr>\n",
       "      <th>2</th>\n",
       "      <td>2015-08-05</td>\n",
       "      <td>23180</td>\n",
       "      <td>None</td>\n",
       "      <td>None</td>\n",
       "    </tr>\n",
       "    <tr>\n",
       "      <th>3</th>\n",
       "      <td>2015-08-06</td>\n",
       "      <td>22300</td>\n",
       "      <td>None</td>\n",
       "      <td>None</td>\n",
       "    </tr>\n",
       "    <tr>\n",
       "      <th>4</th>\n",
       "      <td>2015-08-07</td>\n",
       "      <td>22720</td>\n",
       "      <td>None</td>\n",
       "      <td>None</td>\n",
       "    </tr>\n",
       "    <tr>\n",
       "      <th>5</th>\n",
       "      <td>2015-08-10</td>\n",
       "      <td>22820</td>\n",
       "      <td>None</td>\n",
       "      <td>None</td>\n",
       "    </tr>\n",
       "    <tr>\n",
       "      <th>6</th>\n",
       "      <td>2015-08-11</td>\n",
       "      <td>23140</td>\n",
       "      <td>None</td>\n",
       "      <td>None</td>\n",
       "    </tr>\n",
       "    <tr>\n",
       "      <th>7</th>\n",
       "      <td>2015-08-12</td>\n",
       "      <td>23080</td>\n",
       "      <td>None</td>\n",
       "      <td>None</td>\n",
       "    </tr>\n",
       "    <tr>\n",
       "      <th>8</th>\n",
       "      <td>2015-08-13</td>\n",
       "      <td>22800</td>\n",
       "      <td>None</td>\n",
       "      <td>None</td>\n",
       "    </tr>\n",
       "    <tr>\n",
       "      <th>9</th>\n",
       "      <td>2015-08-17</td>\n",
       "      <td>22080</td>\n",
       "      <td>None</td>\n",
       "      <td>None</td>\n",
       "    </tr>\n",
       "    <tr>\n",
       "      <th>10</th>\n",
       "      <td>2015-08-18</td>\n",
       "      <td>22620</td>\n",
       "      <td>None</td>\n",
       "      <td>None</td>\n",
       "    </tr>\n",
       "  </tbody>\n",
       "</table>\n",
       "</div>"
      ],
      "text/plain": [
       "         Date  Close level trend\n",
       "0  2015-08-03  23500  None  None\n",
       "1  2015-08-04  23640  None  None\n",
       "2  2015-08-05  23180  None  None\n",
       "3  2015-08-06  22300  None  None\n",
       "4  2015-08-07  22720  None  None\n",
       "5  2015-08-10  22820  None  None\n",
       "6  2015-08-11  23140  None  None\n",
       "7  2015-08-12  23080  None  None\n",
       "8  2015-08-13  22800  None  None\n",
       "9  2015-08-17  22080  None  None\n",
       "10 2015-08-18  22620  None  None"
      ]
     },
     "execution_count": 59,
     "metadata": {},
     "output_type": "execute_result"
    }
   ],
   "source": [
    "df1"
   ]
  },
  {
   "cell_type": "code",
   "execution_count": 65,
   "metadata": {},
   "outputs": [],
   "source": [
    "T = list(range(1,len(df1)+1))\n",
    "result = ols(\"Close ~ T\", data=df1).fit() # 10개 초기 데이터를 이용하여 회귀분석\n",
    "beta = result.params\n"
   ]
  },
  {
   "cell_type": "code",
   "execution_count": 66,
   "metadata": {},
   "outputs": [],
   "source": [
    "df2 = df.copy()"
   ]
  },
  {
   "cell_type": "code",
   "execution_count": 67,
   "metadata": {},
   "outputs": [],
   "source": [
    "df2.loc[df2.index[10], 'level']  = beta[0]\n",
    "df2.loc[df2.index[10], 'trend']= beta[1]"
   ]
  },
  {
   "cell_type": "code",
   "execution_count": 68,
   "metadata": {},
   "outputs": [
    {
     "data": {
      "text/html": [
       "<div>\n",
       "<style scoped>\n",
       "    .dataframe tbody tr th:only-of-type {\n",
       "        vertical-align: middle;\n",
       "    }\n",
       "\n",
       "    .dataframe tbody tr th {\n",
       "        vertical-align: top;\n",
       "    }\n",
       "\n",
       "    .dataframe thead th {\n",
       "        text-align: right;\n",
       "    }\n",
       "</style>\n",
       "<table border=\"1\" class=\"dataframe\">\n",
       "  <thead>\n",
       "    <tr style=\"text-align: right;\">\n",
       "      <th></th>\n",
       "      <th>Close</th>\n",
       "      <th>level</th>\n",
       "      <th>trend</th>\n",
       "    </tr>\n",
       "    <tr>\n",
       "      <th>Date</th>\n",
       "      <th></th>\n",
       "      <th></th>\n",
       "      <th></th>\n",
       "    </tr>\n",
       "  </thead>\n",
       "  <tbody>\n",
       "    <tr>\n",
       "      <th>2015-08-03</th>\n",
       "      <td>23500</td>\n",
       "      <td>NaN</td>\n",
       "      <td>NaN</td>\n",
       "    </tr>\n",
       "    <tr>\n",
       "      <th>2015-08-04</th>\n",
       "      <td>23640</td>\n",
       "      <td>NaN</td>\n",
       "      <td>NaN</td>\n",
       "    </tr>\n",
       "    <tr>\n",
       "      <th>2015-08-05</th>\n",
       "      <td>23180</td>\n",
       "      <td>NaN</td>\n",
       "      <td>NaN</td>\n",
       "    </tr>\n",
       "    <tr>\n",
       "      <th>2015-08-06</th>\n",
       "      <td>22300</td>\n",
       "      <td>NaN</td>\n",
       "      <td>NaN</td>\n",
       "    </tr>\n",
       "    <tr>\n",
       "      <th>2015-08-07</th>\n",
       "      <td>22720</td>\n",
       "      <td>NaN</td>\n",
       "      <td>NaN</td>\n",
       "    </tr>\n",
       "    <tr>\n",
       "      <th>2015-08-10</th>\n",
       "      <td>22820</td>\n",
       "      <td>NaN</td>\n",
       "      <td>NaN</td>\n",
       "    </tr>\n",
       "    <tr>\n",
       "      <th>2015-08-11</th>\n",
       "      <td>23140</td>\n",
       "      <td>NaN</td>\n",
       "      <td>NaN</td>\n",
       "    </tr>\n",
       "    <tr>\n",
       "      <th>2015-08-12</th>\n",
       "      <td>23080</td>\n",
       "      <td>NaN</td>\n",
       "      <td>NaN</td>\n",
       "    </tr>\n",
       "    <tr>\n",
       "      <th>2015-08-13</th>\n",
       "      <td>22800</td>\n",
       "      <td>NaN</td>\n",
       "      <td>NaN</td>\n",
       "    </tr>\n",
       "    <tr>\n",
       "      <th>2015-08-17</th>\n",
       "      <td>22080</td>\n",
       "      <td>NaN</td>\n",
       "      <td>NaN</td>\n",
       "    </tr>\n",
       "    <tr>\n",
       "      <th>2015-08-18</th>\n",
       "      <td>22620</td>\n",
       "      <td>23432.727273</td>\n",
       "      <td>-89.090909</td>\n",
       "    </tr>\n",
       "    <tr>\n",
       "      <th>2015-08-19</th>\n",
       "      <td>23080</td>\n",
       "      <td>NaN</td>\n",
       "      <td>NaN</td>\n",
       "    </tr>\n",
       "    <tr>\n",
       "      <th>2015-08-20</th>\n",
       "      <td>22780</td>\n",
       "      <td>NaN</td>\n",
       "      <td>NaN</td>\n",
       "    </tr>\n",
       "    <tr>\n",
       "      <th>2015-08-21</th>\n",
       "      <td>22020</td>\n",
       "      <td>NaN</td>\n",
       "      <td>NaN</td>\n",
       "    </tr>\n",
       "    <tr>\n",
       "      <th>2015-08-24</th>\n",
       "      <td>21580</td>\n",
       "      <td>NaN</td>\n",
       "      <td>NaN</td>\n",
       "    </tr>\n",
       "  </tbody>\n",
       "</table>\n",
       "</div>"
      ],
      "text/plain": [
       "            Close         level      trend\n",
       "Date                                      \n",
       "2015-08-03  23500           NaN        NaN\n",
       "2015-08-04  23640           NaN        NaN\n",
       "2015-08-05  23180           NaN        NaN\n",
       "2015-08-06  22300           NaN        NaN\n",
       "2015-08-07  22720           NaN        NaN\n",
       "2015-08-10  22820           NaN        NaN\n",
       "2015-08-11  23140           NaN        NaN\n",
       "2015-08-12  23080           NaN        NaN\n",
       "2015-08-13  22800           NaN        NaN\n",
       "2015-08-17  22080           NaN        NaN\n",
       "2015-08-18  22620  23432.727273 -89.090909\n",
       "2015-08-19  23080           NaN        NaN\n",
       "2015-08-20  22780           NaN        NaN\n",
       "2015-08-21  22020           NaN        NaN\n",
       "2015-08-24  21580           NaN        NaN"
      ]
     },
     "execution_count": 68,
     "metadata": {},
     "output_type": "execute_result"
    }
   ],
   "source": [
    "df2.head(15)"
   ]
  },
  {
   "cell_type": "code",
   "execution_count": 70,
   "metadata": {},
   "outputs": [],
   "source": [
    "n = 11; alpha = 0.4; beta = 0.4\n",
    "\n",
    "for i in range(n, len(df2)):\n",
    "    \n",
    "    df2.loc[df2.index[i], 'level']= alpha * df2.loc[df2.index[i], 'Close'] + (1-alpha)*(df2.loc[df2.index[i-1], 'level']+df2.loc[df2.index[i-1], 'trend'])\n",
    "    df2.loc[df2.index[i], 'trend']= beta *(df2.loc[df2.index[i],'level'] - df2.loc[df2.index[i-1], 'level']) + (1-beta)*(df2.loc[df2.index[i-1],'trend'])\n"
   ]
  },
  {
   "cell_type": "code",
   "execution_count": 71,
   "metadata": {},
   "outputs": [],
   "source": [
    "df2['Forecast']= (df2['level']  + df2['trend']).shift(1)"
   ]
  },
  {
   "cell_type": "code",
   "execution_count": 72,
   "metadata": {},
   "outputs": [
    {
     "data": {
      "text/plain": [
       "<bound method NDFrame.tail of             Close         level       trend      Forecast\n",
       "Date                                                     \n",
       "2015-08-03  23500           NaN         NaN           NaN\n",
       "2015-08-04  23640           NaN         NaN           NaN\n",
       "2015-08-05  23180           NaN         NaN           NaN\n",
       "2015-08-06  22300           NaN         NaN           NaN\n",
       "2015-08-07  22720           NaN         NaN           NaN\n",
       "...           ...           ...         ...           ...\n",
       "2023-02-10  62800  62700.620745   67.953766  62634.367908\n",
       "2023-02-13  62900  62821.144706   88.981844  62768.574511\n",
       "2023-02-14  63200  63026.075930  135.361596  62910.126551\n",
       "2023-02-15  62200  62776.862516  -18.468408  63161.437527\n",
       "2023-02-16  63400  63015.036465   84.188535  62758.394108\n",
       "\n",
       "[1856 rows x 4 columns]>"
      ]
     },
     "execution_count": 72,
     "metadata": {},
     "output_type": "execute_result"
    }
   ],
   "source": [
    "df2.tail"
   ]
  },
  {
   "cell_type": "code",
   "execution_count": 73,
   "metadata": {},
   "outputs": [],
   "source": [
    "df2a = df2.dropna()"
   ]
  },
  {
   "cell_type": "code",
   "execution_count": 74,
   "metadata": {},
   "outputs": [
    {
     "data": {
      "text/html": [
       "<div>\n",
       "<style scoped>\n",
       "    .dataframe tbody tr th:only-of-type {\n",
       "        vertical-align: middle;\n",
       "    }\n",
       "\n",
       "    .dataframe tbody tr th {\n",
       "        vertical-align: top;\n",
       "    }\n",
       "\n",
       "    .dataframe thead th {\n",
       "        text-align: right;\n",
       "    }\n",
       "</style>\n",
       "<table border=\"1\" class=\"dataframe\">\n",
       "  <thead>\n",
       "    <tr style=\"text-align: right;\">\n",
       "      <th></th>\n",
       "      <th>Close</th>\n",
       "      <th>level</th>\n",
       "      <th>trend</th>\n",
       "      <th>Forecast</th>\n",
       "    </tr>\n",
       "    <tr>\n",
       "      <th>Date</th>\n",
       "      <th></th>\n",
       "      <th></th>\n",
       "      <th></th>\n",
       "      <th></th>\n",
       "    </tr>\n",
       "  </thead>\n",
       "  <tbody>\n",
       "    <tr>\n",
       "      <th>2015-08-19</th>\n",
       "      <td>23080</td>\n",
       "      <td>23238.181818</td>\n",
       "      <td>-131.272727</td>\n",
       "      <td>23343.636364</td>\n",
       "    </tr>\n",
       "    <tr>\n",
       "      <th>2015-08-20</th>\n",
       "      <td>22780</td>\n",
       "      <td>22976.145455</td>\n",
       "      <td>-183.578182</td>\n",
       "      <td>23106.909091</td>\n",
       "    </tr>\n",
       "    <tr>\n",
       "      <th>2015-08-21</th>\n",
       "      <td>22020</td>\n",
       "      <td>22483.540364</td>\n",
       "      <td>-307.188945</td>\n",
       "      <td>22792.567273</td>\n",
       "    </tr>\n",
       "    <tr>\n",
       "      <th>2015-08-24</th>\n",
       "      <td>21580</td>\n",
       "      <td>21937.810851</td>\n",
       "      <td>-402.605172</td>\n",
       "      <td>22176.351418</td>\n",
       "    </tr>\n",
       "    <tr>\n",
       "      <th>2015-08-25</th>\n",
       "      <td>21580</td>\n",
       "      <td>21553.123407</td>\n",
       "      <td>-395.438081</td>\n",
       "      <td>21535.205679</td>\n",
       "    </tr>\n",
       "  </tbody>\n",
       "</table>\n",
       "</div>"
      ],
      "text/plain": [
       "            Close         level       trend      Forecast\n",
       "Date                                                     \n",
       "2015-08-19  23080  23238.181818 -131.272727  23343.636364\n",
       "2015-08-20  22780  22976.145455 -183.578182  23106.909091\n",
       "2015-08-21  22020  22483.540364 -307.188945  22792.567273\n",
       "2015-08-24  21580  21937.810851 -402.605172  22176.351418\n",
       "2015-08-25  21580  21553.123407 -395.438081  21535.205679"
      ]
     },
     "execution_count": 74,
     "metadata": {},
     "output_type": "execute_result"
    }
   ],
   "source": [
    "df2a.head()"
   ]
  },
  {
   "cell_type": "code",
   "execution_count": 76,
   "metadata": {},
   "outputs": [],
   "source": [
    "df2a = df2a.reset_index()"
   ]
  },
  {
   "cell_type": "code",
   "execution_count": 77,
   "metadata": {},
   "outputs": [
    {
     "data": {
      "image/png": "[encoded data removed]",
      "text/plain": [
       "<Figure size 1200x600 with 1 Axes>"
      ]
     },
     "metadata": {},
     "output_type": "display_data"
    }
   ],
   "source": [
    "fig, ax = plt.subplots(nrows=1, figsize=(12, 6), sharex=True)\n",
    "df2a.plot(x = 'Date', y='Close', ax=ax)\n",
    "df2a.plot(x = 'Date', y='Forecast',  ax=ax)\n",
    "ax.set(xlabel=\"time\", ylabel=\"주가\")\n",
    "ax.grid(True)\n",
    "plt.show()"
   ]
  },
  {
   "cell_type": "code",
   "execution_count": null,
   "metadata": {},
   "outputs": [],
   "source": []
  }
 ],
 "metadata": {
  "kernelspec": {
   "display_name": "Python 3 (ipykernel)",
   "language": "python",
   "name": "python3"
  },
  "language_info": {
   "codemirror_mode": {
    "name": "ipython",
    "version": 3
   },
   "file_extension": ".py",
   "mimetype": "text/x-python",
   "name": "python",
   "nbconvert_exporter": "python",
   "pygments_lexer": "ipython3",
   "version": "3.9.13"
  }
 },
 "nbformat": 4,
 "nbformat_minor": 2
}
