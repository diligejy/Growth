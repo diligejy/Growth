{
 "cells": [
  {
   "cell_type": "code",
   "execution_count": 1,
   "metadata": {},
   "outputs": [],
   "source": [
    "import pandas as pd \n",
    "from scipy import stats"
   ]
  },
  {
   "cell_type": "code",
   "execution_count": 2,
   "metadata": {},
   "outputs": [],
   "source": [
    "df = pd.DataFrame(pd.read_excel(\"rawdata/외식비.xlsx\"))"
   ]
  },
  {
   "cell_type": "code",
   "execution_count": 3,
   "metadata": {},
   "outputs": [
    {
     "name": "stdout",
     "output_type": "stream",
     "text": [
      "왜도:  [ 0.          0.16199261  0.61213288  1.00269593  0.03953917  0.16756537\n",
      " -0.72367603 -0.04816849 -0.12835631]\n",
      "첨도:  [-1.20941176 -0.38296602 -1.15752899  1.56171241 -0.83631404 -1.29539862\n",
      " -0.67457048 -0.90976615 -0.8561583 ]\n"
     ]
    }
   ],
   "source": [
    "print(\"왜도: \", stats.skew(df))\n",
    "print('첨도: ', stats.kurtosis(df))"
   ]
  },
  {
   "cell_type": "code",
   "execution_count": 4,
   "metadata": {},
   "outputs": [
    {
     "name": "stdout",
     "output_type": "stream",
     "text": [
      "              지역          냉면          비빔밥         김치찌개           삼겹살  \\\n",
      "count  16.000000    16.00000    16.000000    16.000000     16.000000   \n",
      "mean    8.500000  8601.68750  8297.500000  7075.062500  14820.562500   \n",
      "std     4.760952   570.21595   640.063122   383.691277   1196.184599   \n",
      "min     1.000000  7643.00000  7577.000000  6556.000000  12663.000000   \n",
      "25%     4.750000  8300.00000  7792.250000  6710.500000  14036.000000   \n",
      "50%     8.500000  8500.00000  8072.000000  7133.500000  14881.500000   \n",
      "75%    12.250000  8922.75000  8787.500000  7217.250000  15538.750000   \n",
      "max    16.000000  9731.00000  9400.000000  8125.000000  16897.000000   \n",
      "\n",
      "               자장면           삼계탕          칼국수           김밥  \n",
      "count    16.000000     16.000000    16.000000    16.000000  \n",
      "mean   5539.437500  13780.125000  7041.312500  2564.875000  \n",
      "std     295.658805    681.856766   629.150615   208.422608  \n",
      "min    5143.000000  12286.000000  6071.000000  2167.000000  \n",
      "25%    5266.250000  13169.250000  6452.000000  2411.000000  \n",
      "50%    5550.000000  14148.500000  7216.500000  2569.000000  \n",
      "75%    5723.250000  14308.250000  7425.000000  2733.500000  \n",
      "max    6000.000000  14600.000000  8250.000000  2931.000000  \n"
     ]
    }
   ],
   "source": [
    "print(df.describe())"
   ]
  },
  {
   "cell_type": "code",
   "execution_count": 5,
   "metadata": {},
   "outputs": [
    {
     "name": "stdout",
     "output_type": "stream",
     "text": [
      "DescribeResult(nobs=16, minmax=(array([    1,  7643,  7577,  6556, 12663,  5143, 12286,  6071,  2167],\n",
      "      dtype=int64), array([   16,  9731,  9400,  8125, 16897,  6000, 14600,  8250,  2931],\n",
      "      dtype=int64)), mean=array([8.50000000e+00, 8.60168750e+03, 8.29750000e+03, 7.07506250e+03,\n",
      "       1.48205625e+04, 5.53943750e+03, 1.37801250e+04, 7.04131250e+03,\n",
      "       2.56487500e+03]), variance=array([2.26666667e+01, 3.25146229e+05, 4.09680800e+05, 1.47218996e+05,\n",
      "       1.43085760e+06, 8.74141292e+04, 4.64928650e+05, 3.95830496e+05,\n",
      "       4.34399833e+04]), skewness=array([ 0.        ,  0.16199261,  0.61213288,  1.00269593,  0.03953917,\n",
      "        0.16756537, -0.72367603, -0.04816849, -0.12835631]), kurtosis=array([-1.20941176, -0.38296602, -1.15752899,  1.56171241, -0.83631404,\n",
      "       -1.29539862, -0.67457048, -0.90976615, -0.8561583 ]))\n"
     ]
    }
   ],
   "source": [
    "print(stats.describe(df))"
   ]
  },
  {
   "cell_type": "code",
   "execution_count": null,
   "metadata": {},
   "outputs": [],
   "source": []
  },
  {
   "cell_type": "code",
   "execution_count": null,
   "metadata": {},
   "outputs": [],
   "source": []
  }
 ],
 "metadata": {
  "kernelspec": {
   "display_name": "base",
   "language": "python",
   "name": "python3"
  },
  "language_info": {
   "codemirror_mode": {
    "name": "ipython",
    "version": 3
   },
   "file_extension": ".py",
   "mimetype": "text/x-python",
   "name": "python",
   "nbconvert_exporter": "python",
   "pygments_lexer": "ipython3",
   "version": "3.9.13"
  },
  "orig_nbformat": 4,
  "vscode": {
   "interpreter": {
    "hash": "ec3299b6d146d22582f2fbc7cd361fd5abff6a9ef5508585e5f255ed9da818e6"
   }
  }
 },
 "nbformat": 4,
 "nbformat_minor": 2
}
