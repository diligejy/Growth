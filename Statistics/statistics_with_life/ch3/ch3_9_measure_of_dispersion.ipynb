{
 "cells": [
  {
   "cell_type": "code",
   "execution_count": 1,
   "metadata": {},
   "outputs": [],
   "source": [
    "import pandas as pd \n",
    "import numpy as np "
   ]
  },
  {
   "cell_type": "code",
   "execution_count": 2,
   "metadata": {},
   "outputs": [],
   "source": [
    "df = pd.DataFrame(pd.read_excel(\"rawdata/외식비.xlsx\"))"
   ]
  },
  {
   "cell_type": "code",
   "execution_count": 3,
   "metadata": {},
   "outputs": [
    {
     "name": "stdout",
     "output_type": "stream",
     "text": [
      "범위 Range\n",
      "지역         16\n",
      "냉면       9731\n",
      "비빔밥      9400\n",
      "김치찌개     8125\n",
      "삼겹살     16897\n",
      "자장면      6000\n",
      "삼계탕     14600\n",
      "칼국수      8250\n",
      "김밥       2931\n",
      "dtype: int64 지역         -1\n",
      "냉면      -7643\n",
      "비빔밥     -7577\n",
      "김치찌개    -6556\n",
      "삼겹살    -12663\n",
      "자장면     -5143\n",
      "삼계탕    -12286\n",
      "칼국수     -6071\n",
      "김밥      -2167\n",
      "dtype: int64\n",
      "\n",
      "\n",
      "분산 Variance\n",
      "지역      2.125000e+01\n",
      "냉면      3.048246e+05\n",
      "비빔밥     3.840758e+05\n",
      "김치찌개    1.380178e+05\n",
      "삼겹살     1.341429e+06\n",
      "자장면     8.195075e+04\n",
      "삼계탕     4.358706e+05\n",
      "칼국수     3.710911e+05\n",
      "김밥      4.072498e+04\n",
      "dtype: float64\n",
      "\n",
      "\n",
      "표준편차 standard deviation\n",
      "지역         4.609772\n",
      "냉면       552.109219\n",
      "비빔밥      619.738453\n",
      "김치찌개     371.507481\n",
      "삼겹살     1158.200758\n",
      "자장면      286.270407\n",
      "삼계탕      660.204975\n",
      "칼국수      609.172463\n",
      "김밥       201.804322\n",
      "dtype: float64\n",
      "\n",
      "\n",
      "사분위수 편차 quartile deviation\n",
      "지역      0.0\n",
      "냉면      0.0\n",
      "비빔밥     0.0\n",
      "김치찌개    0.0\n",
      "삼겹살     0.0\n",
      "자장면     0.0\n",
      "삼계탕     0.0\n",
      "칼국수     0.0\n",
      "김밥      0.0\n",
      "Name: 0.25, dtype: float64\n"
     ]
    },
    {
     "name": "stderr",
     "output_type": "stream",
     "text": [
      "c:\\Users\\jinyoung\\anaconda3\\lib\\site-packages\\numpy\\core\\fromnumeric.py:84: FutureWarning: In a future version, DataFrame.max(axis=None) will return a scalar max over the entire DataFrame. To retain the old behavior, use 'frame.max(axis=0)' or just 'frame.max()'\n",
      "  return reduction(axis=axis, out=out, **passkwargs)\n",
      "c:\\Users\\jinyoung\\anaconda3\\lib\\site-packages\\numpy\\core\\fromnumeric.py:84: FutureWarning: In a future version, DataFrame.min(axis=None) will return a scalar min over the entire DataFrame. To retain the old behavior, use 'frame.min(axis=0)' or just 'frame.min()'\n",
      "  return reduction(axis=axis, out=out, **passkwargs)\n"
     ]
    }
   ],
   "source": [
    "print('범위 Range')\n",
    "print(np.max(df), - np.min(df))\n",
    "print('\\n')\n",
    "\n",
    "print(\"분산 Variance\")\n",
    "print(np.var(df))\n",
    "print('\\n')\n",
    "\n",
    "print('표준편차 standard deviation')\n",
    "print(np.std(df))\n",
    "print('\\n')\n",
    "\n",
    "print('사분위수 편차 quartile deviation')\n",
    "q25 = df.quantile(0.25)\n",
    "q75 = df.quantile(0.25)\n",
    "IQR = q75 - q25 \n",
    "print(IQR / 2)"
   ]
  },
  {
   "cell_type": "code",
   "execution_count": null,
   "metadata": {},
   "outputs": [],
   "source": []
  }
 ],
 "metadata": {
  "kernelspec": {
   "display_name": "base",
   "language": "python",
   "name": "python3"
  },
  "language_info": {
   "codemirror_mode": {
    "name": "ipython",
    "version": 3
   },
   "file_extension": ".py",
   "mimetype": "text/x-python",
   "name": "python",
   "nbconvert_exporter": "python",
   "pygments_lexer": "ipython3",
   "version": "3.9.13"
  },
  "orig_nbformat": 4,
  "vscode": {
   "interpreter": {
    "hash": "ec3299b6d146d22582f2fbc7cd361fd5abff6a9ef5508585e5f255ed9da818e6"
   }
  }
 },
 "nbformat": 4,
 "nbformat_minor": 2
}
