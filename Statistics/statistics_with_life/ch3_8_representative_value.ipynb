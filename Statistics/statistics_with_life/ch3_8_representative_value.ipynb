{
 "cells": [
  {
   "cell_type": "code",
   "execution_count": 1,
   "metadata": {},
   "outputs": [],
   "source": [
    "import numpy as np \n",
    "import pandas as pd \n",
    "from scipy import stats "
   ]
  },
  {
   "cell_type": "code",
   "execution_count": 2,
   "metadata": {},
   "outputs": [],
   "source": [
    "x = pd.read_excel(\"rawdata/중학생_남자_몸무게.xlsx\")"
   ]
  },
  {
   "cell_type": "code",
   "execution_count": 4,
   "metadata": {},
   "outputs": [
    {
     "name": "stdout",
     "output_type": "stream",
     "text": [
      "mean =  55.07094484995945 \n",
      "\n",
      "median =  53.0 \n",
      "\n",
      "mode =  ModeResult(mode=array([[46.]]), count=array([[40]]))\n"
     ]
    },
    {
     "name": "stderr",
     "output_type": "stream",
     "text": [
      "C:\\Users\\jinyoung\\AppData\\Local\\Temp\\ipykernel_7392\\2648763375.py:3: FutureWarning: Unlike other reduction functions (e.g. `skew`, `kurtosis`), the default behavior of `mode` typically preserves the axis it acts along. In SciPy 1.11.0, this behavior will change: the default value of `keepdims` will become False, the `axis` over which the statistic is taken will be eliminated, and the value None will no longer be accepted. Set `keepdims` to True or False to avoid this warning.\n",
      "  print('mode = ', stats.mode(x))\n"
     ]
    }
   ],
   "source": [
    "print(\"mean = \", np.average(x), '\\n')\n",
    "print(\"median = \", np.median(x), '\\n')\n",
    "print('mode = ', stats.mode(x))"
   ]
  },
  {
   "cell_type": "code",
   "execution_count": 5,
   "metadata": {},
   "outputs": [
    {
     "name": "stdout",
     "output_type": "stream",
     "text": [
      "trimmed mean =  [53.9122149]\n"
     ]
    }
   ],
   "source": [
    "# 절사평균\n",
    "print(\"trimmed mean = \", stats.trim_mean(x, 0.1))"
   ]
  },
  {
   "cell_type": "code",
   "execution_count": null,
   "metadata": {},
   "outputs": [],
   "source": []
  }
 ],
 "metadata": {
  "kernelspec": {
   "display_name": "base",
   "language": "python",
   "name": "python3"
  },
  "language_info": {
   "codemirror_mode": {
    "name": "ipython",
    "version": 3
   },
   "file_extension": ".py",
   "mimetype": "text/x-python",
   "name": "python",
   "nbconvert_exporter": "python",
   "pygments_lexer": "ipython3",
   "version": "3.9.13"
  },
  "orig_nbformat": 4,
  "vscode": {
   "interpreter": {
    "hash": "ec3299b6d146d22582f2fbc7cd361fd5abff6a9ef5508585e5f255ed9da818e6"
   }
  }
 },
 "nbformat": 4,
 "nbformat_minor": 2
}
