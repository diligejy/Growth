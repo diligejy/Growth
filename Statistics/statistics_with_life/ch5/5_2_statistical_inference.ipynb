{
 "cells": [
  {
   "cell_type": "code",
   "execution_count": 1,
   "metadata": {},
   "outputs": [
    {
     "name": "stdout",
     "output_type": "stream",
     "text": [
      "P(Z<=k) = 0.975, k= 1.959963984540054\n"
     ]
    }
   ],
   "source": [
    "# 누적분포함수의 역함수를 이용한 Z_U의 계산\n",
    "\n",
    "from scipy.stats import norm\n",
    "\n",
    "mu = 0 \n",
    "sigma = 1\n",
    "percent_point = 0.975\n",
    "\n",
    "print(\"P(Z<=k) = 0.975, k=\", norm.ppf(percent_point, mu, sigma))"
   ]
  },
  {
   "attachments": {},
   "cell_type": "markdown",
   "metadata": {},
   "source": [
    "### EX\n",
    "\n",
    "우리나라 대학생의 월평균 생활비를 조사하고자 합니다. 전국의 대학생에 대해 100명을 무작위로 선택하여 월평균 생활비를 조사한 결과 580,000원이었습니다. 모집단 표준편차(sigma)는 100,000원으로 알려져 있습니다. 월 평균 생활비에 대한 95% 신뢰구간을 계산하여 추정하시오."
   ]
  },
  {
   "cell_type": "code",
   "execution_count": 3,
   "metadata": {},
   "outputs": [
    {
     "name": "stdout",
     "output_type": "stream",
     "text": [
      "1.9842169515086827\n",
      "-1.9842169515086832\n"
     ]
    }
   ],
   "source": [
    "from scipy.stats import t \n",
    "print(t.ppf(0.975, 100- 1))\n",
    "print(t.ppf(0.025, 100- 1))"
   ]
  },
  {
   "attachments": {},
   "cell_type": "markdown",
   "metadata": {},
   "source": [
    "### EX2\n",
    "\n",
    "A 기업에서 생산하는 건전지의 평균 수명을 조사하기 위해 10개의 건전지를 조사한 수명(시간)은 다음과 같습니다.\n",
    "\n",
    "260, 265, 250, 270, 272, 258, 262, 268, 270, 252\n",
    "\n",
    "이 데이터로부터 모집단 평균에 대한 95% 신뢰구간을 구하시오"
   ]
  },
  {
   "cell_type": "code",
   "execution_count": 11,
   "metadata": {},
   "outputs": [
    {
     "name": "stdout",
     "output_type": "stream",
     "text": [
      "평균= 262.7 \n",
      "\n",
      "표준오차= 2.4315061633115844 \n",
      "\n",
      "t값= 2.2621571627409915 \n",
      "\n",
      "신뢰구간 t.interval= (257.19955091641583, 268.20044908358415)\n"
     ]
    }
   ],
   "source": [
    "# 모집단 표준편차를 모르는 경우 구간추정\n",
    "\n",
    "import numpy as np \n",
    "import scipy.stats as st \n",
    "from scipy.stats import t \n",
    "\n",
    "a = [260, 265, 250, 270, 272, 258, 262, 268, 270, 252]\n",
    "\n",
    "print(\"평균=\", np.mean(a), '\\n')\n",
    "print(\"표준오차=\", st.sem(a), '\\n')\n",
    "print(\"t값=\", t.ppf(0.975, 10 - 1), '\\n')\n",
    "print(\"신뢰구간 t.interval=\", st.t.interval(0.95, len(a) - 1, loc= np.mean(a), scale=st.sem(a)))\n"
   ]
  },
  {
   "cell_type": "code",
   "execution_count": null,
   "metadata": {},
   "outputs": [],
   "source": []
  },
  {
   "cell_type": "code",
   "execution_count": null,
   "metadata": {},
   "outputs": [],
   "source": []
  }
 ],
 "metadata": {
  "kernelspec": {
   "display_name": "base",
   "language": "python",
   "name": "python3"
  },
  "language_info": {
   "codemirror_mode": {
    "name": "ipython",
    "version": 3
   },
   "file_extension": ".py",
   "mimetype": "text/x-python",
   "name": "python",
   "nbconvert_exporter": "python",
   "pygments_lexer": "ipython3",
   "version": "3.9.13"
  },
  "orig_nbformat": 4,
  "vscode": {
   "interpreter": {
    "hash": "ec3299b6d146d22582f2fbc7cd361fd5abff6a9ef5508585e5f255ed9da818e6"
   }
  }
 },
 "nbformat": 4,
 "nbformat_minor": 2
}
