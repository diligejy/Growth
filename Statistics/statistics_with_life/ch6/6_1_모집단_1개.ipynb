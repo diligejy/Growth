{
 "cells": [
  {
   "attachments": {},
   "cell_type": "markdown",
   "metadata": {},
   "source": [
    "### EX1 \n",
    "\n",
    "한국소비자원이 매출액 상위 6개 커피전문점의 서비스 이용 경험자 1,031명에 대해 소비자 만족도를 조사한 결과, 소비자가 생각하는 적정한 커피 가격(아메리카노 HOT 레귤러 사이즈 기준)은 3,055원으로 조솨되었습니다. 그러나 대부분의 학생들과 직장인들은 실제 커피 가격이 그보다 비싼 것으로 느끼고 있어서 42개 커피전문점 업체를 조사한 아메리카노 가격을 기반으로 가설을 세우고 유의수준 5% 하에서 검정하시오"
   ]
  },
  {
   "cell_type": "code",
   "execution_count": 6,
   "metadata": {},
   "outputs": [],
   "source": [
    "import numpy as np \n",
    "import pandas as pd\n",
    "import matplotlib.pyplot as plt \n",
    "from scipy import stats\n",
    "\n",
    "data = pd.DataFrame(pd.read_excel(\"../rawdata/커피가격.xlsx\"))"
   ]
  },
  {
   "cell_type": "code",
   "execution_count": 7,
   "metadata": {},
   "outputs": [
    {
     "name": "stdout",
     "output_type": "stream",
     "text": [
      "           coeffee\n",
      "count    42.000000\n",
      "mean   3119.047619\n",
      "std    1147.263573\n",
      "min    1500.000000\n",
      "25%    1800.000000\n",
      "50%    3500.000000\n",
      "75%    4100.000000\n",
      "max    4800.000000\n"
     ]
    }
   ],
   "source": [
    "mu = 3055\n",
    "\n",
    "print(data.describe())"
   ]
  },
  {
   "cell_type": "code",
   "execution_count": 8,
   "metadata": {},
   "outputs": [
    {
     "data": {
      "image/png": "[encoded data removed]",
      "text/plain": [
       "<Figure size 640x480 with 1 Axes>"
      ]
     },
     "metadata": {},
     "output_type": "display_data"
    }
   ],
   "source": [
    "plt.hist(data, label=\"Coffee Price\", bins=7)\n",
    "plt.legend()\n",
    "plt.show()"
   ]
  },
  {
   "cell_type": "code",
   "execution_count": 10,
   "metadata": {},
   "outputs": [
    {
     "name": "stdout",
     "output_type": "stream",
     "text": [
      "Ttest_1sampResult(statistic=0.3617965577523089, pvalue=0.7193620858263579)\n"
     ]
    }
   ],
   "source": [
    "# 만약 양측검정이라면 \n",
    "result = stats.ttest_1samp(data.coeffee, mu, alternative='two-sided')\n",
    "print(result)"
   ]
  },
  {
   "cell_type": "code",
   "execution_count": 11,
   "metadata": {},
   "outputs": [
    {
     "name": "stdout",
     "output_type": "stream",
     "text": [
      "Ttest_1sampResult(statistic=0.3617965577523089, pvalue=0.3596810429131789)\n"
     ]
    }
   ],
   "source": [
    "# 단측검정\n",
    "result = stats.ttest_1samp(data.coeffee, mu, alternative='greater')\n",
    "print(result)"
   ]
  },
  {
   "cell_type": "code",
   "execution_count": null,
   "metadata": {},
   "outputs": [],
   "source": []
  }
 ],
 "metadata": {
  "kernelspec": {
   "display_name": "base",
   "language": "python",
   "name": "python3"
  },
  "language_info": {
   "codemirror_mode": {
    "name": "ipython",
    "version": 3
   },
   "file_extension": ".py",
   "mimetype": "text/x-python",
   "name": "python",
   "nbconvert_exporter": "python",
   "pygments_lexer": "ipython3",
   "version": "3.9.13"
  },
  "orig_nbformat": 4,
  "vscode": {
   "interpreter": {
    "hash": "ec3299b6d146d22582f2fbc7cd361fd5abff6a9ef5508585e5f255ed9da818e6"
   }
  }
 },
 "nbformat": 4,
 "nbformat_minor": 2
}
