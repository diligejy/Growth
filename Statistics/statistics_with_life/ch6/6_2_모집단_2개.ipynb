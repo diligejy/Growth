{
 "cells": [
  {
   "attachments": {},
   "cell_type": "markdown",
   "metadata": {},
   "source": [
    "### EX1\n",
    "\n",
    "직장인(20~50대)을 대상으로 주당 평균 스마트폰 이용 시간에 대한 조사결과로부터 남녀 간 스마트폰 이용 시간에 차이가 있는지에 대해 가설을 세우고 5% 유의수준 하에서 검정하시오. 단, 남녀 간 이용 시간의 분산은 같다고 가정."
   ]
  },
  {
   "cell_type": "code",
   "execution_count": 10,
   "metadata": {},
   "outputs": [
    {
     "name": "stdout",
     "output_type": "stream",
     "text": [
      "             male     female\n",
      "count  100.000000  98.000000\n",
      "mean    31.273000  32.876531\n",
      "std      2.912767   3.269282\n",
      "min     22.200000  24.400000\n",
      "25%     29.300000  30.900000\n",
      "50%     31.100000  32.750000\n",
      "75%     32.975000  34.900000\n",
      "max     38.900000  41.700000\n"
     ]
    }
   ],
   "source": [
    "import numpy as np \n",
    "import pandas as pd \n",
    "from scipy import stats\n",
    "import matplotlib.pyplot as plt \n",
    "\n",
    "data = pd.read_excel(\"../rawdata/성인_스마트폰_이용시간.xlsx\")\n",
    "print(data.describe())"
   ]
  },
  {
   "cell_type": "code",
   "execution_count": 12,
   "metadata": {},
   "outputs": [],
   "source": [
    "# Levene 등분산 검정\n",
    "a1 = pd.read_excel(\"../rawdata/성인_스마트폰_이용시간_남자.xlsx\")\n",
    "a2 = pd.read_excel(\"../rawdata/성인_스마트폰_이용시간_여자.xlsx\")"
   ]
  },
  {
   "cell_type": "code",
   "execution_count": 19,
   "metadata": {},
   "outputs": [
    {
     "name": "stdout",
     "output_type": "stream",
     "text": [
      "LeveneResult(statistic=0.47175507324600746, pvalue=0.4929926832749576)\n"
     ]
    }
   ],
   "source": [
    "result = stats.levene(a1.male, a2.female, center='mean')\n",
    "print(result)"
   ]
  },
  {
   "cell_type": "code",
   "execution_count": 13,
   "metadata": {},
   "outputs": [
    {
     "data": {
      "image/png": "[encoded data removed]",
      "text/plain": [
       "<Figure size 640x480 with 1 Axes>"
      ]
     },
     "metadata": {},
     "output_type": "display_data"
    }
   ],
   "source": [
    "data.boxplot(column=['male', 'female'], vert=False)\n",
    "plt.show()"
   ]
  },
  {
   "cell_type": "code",
   "execution_count": 14,
   "metadata": {},
   "outputs": [
    {
     "name": "stdout",
     "output_type": "stream",
     "text": [
      "Ttest_indResult(statistic=-3.645768621069706, pvalue=0.00034151561881195196)\n"
     ]
    }
   ],
   "source": [
    "d1 = pd.read_excel(\"../rawdata/성인_스마트폰_이용시간_남자.xlsx\")\n",
    "d2 = pd.read_excel(\"../rawdata/성인_스마트폰_이용시간_여자.xlsx\")\n",
    "result = stats.ttest_ind(d1.male, d2.female, alternative='two-sided')\n",
    "print(result)"
   ]
  },
  {
   "attachments": {},
   "cell_type": "markdown",
   "metadata": {},
   "source": [
    "### EX2\n",
    "\n",
    "대학생을 대상으로 1일 평균 수면 시간을 조사한 결과를 이용하여 남녀 간 수면 시간에 차이가 있는지에 대한 가설을 세우고 유의수준 5% 하에서 검정하시오. 단, 남녀 간 수면 시간의 분산은 같지 않다고 가정."
   ]
  },
  {
   "cell_type": "code",
   "execution_count": 15,
   "metadata": {},
   "outputs": [
    {
     "name": "stdout",
     "output_type": "stream",
     "text": [
      "            male     female\n",
      "count  96.000000  99.000000\n",
      "mean    7.018750   6.418182\n",
      "std     1.862218   0.956755\n",
      "min     3.200000   4.400000\n",
      "25%     5.700000   5.800000\n",
      "50%     7.000000   6.300000\n",
      "75%     8.025000   7.000000\n",
      "max    13.100000   8.900000\n"
     ]
    }
   ],
   "source": [
    "import numpy as np \n",
    "import matplotlib.pyplot as plt \n",
    "import pandas as pd \n",
    "from scipy import stats \n",
    "\n",
    "data = pd.read_excel(\"../rawdata/대학생_수면시간.xlsx\")\n",
    "print(data.describe())"
   ]
  },
  {
   "cell_type": "code",
   "execution_count": 16,
   "metadata": {},
   "outputs": [
    {
     "data": {
      "image/png": "[encoded data removed]",
      "text/plain": [
       "<Figure size 640x480 with 1 Axes>"
      ]
     },
     "metadata": {},
     "output_type": "display_data"
    }
   ],
   "source": [
    "data.boxplot(column=['male', 'female'], vert=False)\n",
    "plt.show()"
   ]
  },
  {
   "cell_type": "code",
   "execution_count": 21,
   "metadata": {},
   "outputs": [
    {
     "name": "stdout",
     "output_type": "stream",
     "text": [
      "LeveneResult(statistic=23.026579508637983, pvalue=3.1920354052892813e-06)\n"
     ]
    }
   ],
   "source": [
    "d1 = pd.read_excel(\"../rawdata/대학생_수면시간_남자.xlsx\")\n",
    "d2 = pd.read_excel(\"../rawdata/대학생_수면시간_여자.xlsx\")\n",
    "\n",
    "levene_result = stats.levene(d1.male, d2.female, center='mean')\n",
    "print(levene_result)"
   ]
  },
  {
   "cell_type": "code",
   "execution_count": 17,
   "metadata": {},
   "outputs": [
    {
     "name": "stdout",
     "output_type": "stream",
     "text": [
      "Ttest_indResult(statistic=2.8450527424639183, pvalue=0.004919637444598858)\n"
     ]
    }
   ],
   "source": [
    "d1 = pd.read_excel(\"../rawdata/대학생_수면시간_남자.xlsx\")\n",
    "d2 = pd.read_excel(\"../rawdata/대학생_수면시간_여자.xlsx\")\n",
    "result = stats.ttest_ind(d1.male, d2.female, equal_var='False')\n",
    "print(result)"
   ]
  },
  {
   "attachments": {},
   "cell_type": "markdown",
   "metadata": {},
   "source": [
    "### EX3\n",
    "\n",
    "EX2에서 수집한 데이터가 없고 오로지 기술통계량, 즉 평균, 표준편차, 사례 수만을 알고 있는 경우, 남자의 수면 시간이 여자의 수면시간보다 길다는 가정에 대해 가설을 세우고 유의수준 5%하에서 검정하시오. 단, 남녀 간 수면 시간의 분산은 같지 않다고 가정"
   ]
  },
  {
   "cell_type": "code",
   "execution_count": 23,
   "metadata": {},
   "outputs": [
    {
     "name": "stdout",
     "output_type": "stream",
     "text": [
      "Ttest_indResult(statistic=2.8598898873726157, pvalue=0.002352135547700069)\n"
     ]
    }
   ],
   "source": [
    "from scipy import stats \n",
    "\n",
    "result = stats.ttest_ind_from_stats(np.mean(d1.male), np.std(d1.male), len(d1.male), np.mean(d2.female), np.std(d2.female), len(d2.female), equal_var='False', alternative='greater')\n",
    "print(result)"
   ]
  },
  {
   "cell_type": "code",
   "execution_count": null,
   "metadata": {},
   "outputs": [],
   "source": []
  }
 ],
 "metadata": {
  "kernelspec": {
   "display_name": "base",
   "language": "python",
   "name": "python3"
  },
  "language_info": {
   "codemirror_mode": {
    "name": "ipython",
    "version": 3
   },
   "file_extension": ".py",
   "mimetype": "text/x-python",
   "name": "python",
   "nbconvert_exporter": "python",
   "pygments_lexer": "ipython3",
   "version": "3.9.13"
  },
  "orig_nbformat": 4,
  "vscode": {
   "interpreter": {
    "hash": "ec3299b6d146d22582f2fbc7cd361fd5abff6a9ef5508585e5f255ed9da818e6"
   }
  }
 },
 "nbformat": 4,
 "nbformat_minor": 2
}
